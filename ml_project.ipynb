{
 "cells": [
  {
   "attachments": {},
   "cell_type": "markdown",
   "metadata": {},
   "source": [
    "# Machine Learning - Project"
   ]
  },
  {
   "cell_type": "code",
   "execution_count": 198,
   "metadata": {},
   "outputs": [
    {
     "name": "stdout",
     "output_type": "stream",
     "text": [
      "Requirement already satisfied: category-encoders in /opt/homebrew/lib/python3.11/site-packages (2.6.0)\n",
      "Requirement already satisfied: numpy>=1.14.0 in /opt/homebrew/lib/python3.11/site-packages (from category-encoders) (1.24.3)\n",
      "Requirement already satisfied: scikit-learn>=0.20.0 in /opt/homebrew/lib/python3.11/site-packages (from category-encoders) (1.2.2)\n",
      "Requirement already satisfied: scipy>=1.0.0 in /opt/homebrew/lib/python3.11/site-packages (from category-encoders) (1.10.1)\n",
      "Requirement already satisfied: statsmodels>=0.9.0 in /opt/homebrew/lib/python3.11/site-packages (from category-encoders) (0.14.0)\n",
      "Requirement already satisfied: pandas>=1.0.5 in /opt/homebrew/lib/python3.11/site-packages (from category-encoders) (2.0.1)\n",
      "Requirement already satisfied: patsy>=0.5.1 in /opt/homebrew/lib/python3.11/site-packages (from category-encoders) (0.5.3)\n",
      "Requirement already satisfied: python-dateutil>=2.8.2 in /Users/alejandroborbolla/Library/Python/3.11/lib/python/site-packages (from pandas>=1.0.5->category-encoders) (2.8.2)\n",
      "Requirement already satisfied: pytz>=2020.1 in /opt/homebrew/lib/python3.11/site-packages (from pandas>=1.0.5->category-encoders) (2023.3)\n",
      "Requirement already satisfied: tzdata>=2022.1 in /opt/homebrew/lib/python3.11/site-packages (from pandas>=1.0.5->category-encoders) (2023.3)\n",
      "Requirement already satisfied: six in /Users/alejandroborbolla/Library/Python/3.11/lib/python/site-packages (from patsy>=0.5.1->category-encoders) (1.16.0)\n",
      "Requirement already satisfied: joblib>=1.1.1 in /opt/homebrew/lib/python3.11/site-packages (from scikit-learn>=0.20.0->category-encoders) (1.2.0)\n",
      "Requirement already satisfied: threadpoolctl>=2.0.0 in /opt/homebrew/lib/python3.11/site-packages (from scikit-learn>=0.20.0->category-encoders) (3.1.0)\n",
      "Requirement already satisfied: packaging>=21.3 in /Users/alejandroborbolla/Library/Python/3.11/lib/python/site-packages (from statsmodels>=0.9.0->category-encoders) (22.0)\n",
      "\n",
      "\u001b[1m[\u001b[0m\u001b[34;49mnotice\u001b[0m\u001b[1;39;49m]\u001b[0m\u001b[39;49m A new release of pip available: \u001b[0m\u001b[31;49m22.3.1\u001b[0m\u001b[39;49m -> \u001b[0m\u001b[32;49m23.1.2\u001b[0m\n",
      "\u001b[1m[\u001b[0m\u001b[34;49mnotice\u001b[0m\u001b[1;39;49m]\u001b[0m\u001b[39;49m To update, run: \u001b[0m\u001b[32;49mpython3.11 -m pip install --upgrade pip\u001b[0m\n",
      "Note: you may need to restart the kernel to use updated packages.\n",
      "Requirement already satisfied: imbalanced-learn in /opt/homebrew/lib/python3.11/site-packages (0.10.1)\n",
      "Requirement already satisfied: numpy>=1.17.3 in /opt/homebrew/lib/python3.11/site-packages (from imbalanced-learn) (1.24.3)\n",
      "Requirement already satisfied: scipy>=1.3.2 in /opt/homebrew/lib/python3.11/site-packages (from imbalanced-learn) (1.10.1)\n",
      "Requirement already satisfied: scikit-learn>=1.0.2 in /opt/homebrew/lib/python3.11/site-packages (from imbalanced-learn) (1.2.2)\n",
      "Requirement already satisfied: joblib>=1.1.1 in /opt/homebrew/lib/python3.11/site-packages (from imbalanced-learn) (1.2.0)\n",
      "Requirement already satisfied: threadpoolctl>=2.0.0 in /opt/homebrew/lib/python3.11/site-packages (from imbalanced-learn) (3.1.0)\n",
      "\n",
      "\u001b[1m[\u001b[0m\u001b[34;49mnotice\u001b[0m\u001b[1;39;49m]\u001b[0m\u001b[39;49m A new release of pip available: \u001b[0m\u001b[31;49m22.3.1\u001b[0m\u001b[39;49m -> \u001b[0m\u001b[32;49m23.1.2\u001b[0m\n",
      "\u001b[1m[\u001b[0m\u001b[34;49mnotice\u001b[0m\u001b[1;39;49m]\u001b[0m\u001b[39;49m To update, run: \u001b[0m\u001b[32;49mpython3.11 -m pip install --upgrade pip\u001b[0m\n",
      "Note: you may need to restart the kernel to use updated packages.\n",
      "Requirement already satisfied: matplotlib in /opt/homebrew/lib/python3.11/site-packages (3.7.1)\n",
      "Requirement already satisfied: contourpy>=1.0.1 in /opt/homebrew/lib/python3.11/site-packages (from matplotlib) (1.0.7)\n",
      "Requirement already satisfied: cycler>=0.10 in /opt/homebrew/lib/python3.11/site-packages (from matplotlib) (0.11.0)\n",
      "Requirement already satisfied: fonttools>=4.22.0 in /opt/homebrew/lib/python3.11/site-packages (from matplotlib) (4.39.3)\n",
      "Requirement already satisfied: kiwisolver>=1.0.1 in /opt/homebrew/lib/python3.11/site-packages (from matplotlib) (1.4.4)\n",
      "Requirement already satisfied: numpy>=1.20 in /opt/homebrew/lib/python3.11/site-packages (from matplotlib) (1.24.3)\n",
      "Requirement already satisfied: packaging>=20.0 in /Users/alejandroborbolla/Library/Python/3.11/lib/python/site-packages (from matplotlib) (22.0)\n",
      "Requirement already satisfied: pillow>=6.2.0 in /opt/homebrew/lib/python3.11/site-packages (from matplotlib) (9.5.0)\n",
      "Requirement already satisfied: pyparsing>=2.3.1 in /opt/homebrew/lib/python3.11/site-packages (from matplotlib) (3.0.9)\n",
      "Requirement already satisfied: python-dateutil>=2.7 in /Users/alejandroborbolla/Library/Python/3.11/lib/python/site-packages (from matplotlib) (2.8.2)\n",
      "Requirement already satisfied: six>=1.5 in /Users/alejandroborbolla/Library/Python/3.11/lib/python/site-packages (from python-dateutil>=2.7->matplotlib) (1.16.0)\n",
      "\n",
      "\u001b[1m[\u001b[0m\u001b[34;49mnotice\u001b[0m\u001b[1;39;49m]\u001b[0m\u001b[39;49m A new release of pip available: \u001b[0m\u001b[31;49m22.3.1\u001b[0m\u001b[39;49m -> \u001b[0m\u001b[32;49m23.1.2\u001b[0m\n",
      "\u001b[1m[\u001b[0m\u001b[34;49mnotice\u001b[0m\u001b[1;39;49m]\u001b[0m\u001b[39;49m To update, run: \u001b[0m\u001b[32;49mpython3.11 -m pip install --upgrade pip\u001b[0m\n",
      "Note: you may need to restart the kernel to use updated packages.\n",
      "Requirement already satisfied: pandas in /opt/homebrew/lib/python3.11/site-packages (2.0.1)\n",
      "Requirement already satisfied: python-dateutil>=2.8.2 in /Users/alejandroborbolla/Library/Python/3.11/lib/python/site-packages (from pandas) (2.8.2)\n",
      "Requirement already satisfied: pytz>=2020.1 in /opt/homebrew/lib/python3.11/site-packages (from pandas) (2023.3)\n",
      "Requirement already satisfied: tzdata>=2022.1 in /opt/homebrew/lib/python3.11/site-packages (from pandas) (2023.3)\n",
      "Requirement already satisfied: numpy>=1.21.0 in /opt/homebrew/lib/python3.11/site-packages (from pandas) (1.24.3)\n",
      "Requirement already satisfied: six>=1.5 in /Users/alejandroborbolla/Library/Python/3.11/lib/python/site-packages (from python-dateutil>=2.8.2->pandas) (1.16.0)\n",
      "\n",
      "\u001b[1m[\u001b[0m\u001b[34;49mnotice\u001b[0m\u001b[1;39;49m]\u001b[0m\u001b[39;49m A new release of pip available: \u001b[0m\u001b[31;49m22.3.1\u001b[0m\u001b[39;49m -> \u001b[0m\u001b[32;49m23.1.2\u001b[0m\n",
      "\u001b[1m[\u001b[0m\u001b[34;49mnotice\u001b[0m\u001b[1;39;49m]\u001b[0m\u001b[39;49m To update, run: \u001b[0m\u001b[32;49mpython3.11 -m pip install --upgrade pip\u001b[0m\n",
      "Note: you may need to restart the kernel to use updated packages.\n",
      "Requirement already satisfied: scikit-learn in /opt/homebrew/lib/python3.11/site-packages (1.2.2)\n",
      "Requirement already satisfied: numpy>=1.17.3 in /opt/homebrew/lib/python3.11/site-packages (from scikit-learn) (1.24.3)\n",
      "Requirement already satisfied: scipy>=1.3.2 in /opt/homebrew/lib/python3.11/site-packages (from scikit-learn) (1.10.1)\n",
      "Requirement already satisfied: joblib>=1.1.1 in /opt/homebrew/lib/python3.11/site-packages (from scikit-learn) (1.2.0)\n",
      "Requirement already satisfied: threadpoolctl>=2.0.0 in /opt/homebrew/lib/python3.11/site-packages (from scikit-learn) (3.1.0)\n",
      "\n",
      "\u001b[1m[\u001b[0m\u001b[34;49mnotice\u001b[0m\u001b[1;39;49m]\u001b[0m\u001b[39;49m A new release of pip available: \u001b[0m\u001b[31;49m22.3.1\u001b[0m\u001b[39;49m -> \u001b[0m\u001b[32;49m23.1.2\u001b[0m\n",
      "\u001b[1m[\u001b[0m\u001b[34;49mnotice\u001b[0m\u001b[1;39;49m]\u001b[0m\u001b[39;49m To update, run: \u001b[0m\u001b[32;49mpython3.11 -m pip install --upgrade pip\u001b[0m\n",
      "Note: you may need to restart the kernel to use updated packages.\n",
      "Requirement already satisfied: seaborn in /opt/homebrew/lib/python3.11/site-packages (0.12.2)\n",
      "Requirement already satisfied: numpy!=1.24.0,>=1.17 in /opt/homebrew/lib/python3.11/site-packages (from seaborn) (1.24.3)\n",
      "Requirement already satisfied: pandas>=0.25 in /opt/homebrew/lib/python3.11/site-packages (from seaborn) (2.0.1)\n",
      "Requirement already satisfied: matplotlib!=3.6.1,>=3.1 in /opt/homebrew/lib/python3.11/site-packages (from seaborn) (3.7.1)\n",
      "Requirement already satisfied: contourpy>=1.0.1 in /opt/homebrew/lib/python3.11/site-packages (from matplotlib!=3.6.1,>=3.1->seaborn) (1.0.7)\n",
      "Requirement already satisfied: cycler>=0.10 in /opt/homebrew/lib/python3.11/site-packages (from matplotlib!=3.6.1,>=3.1->seaborn) (0.11.0)\n",
      "Requirement already satisfied: fonttools>=4.22.0 in /opt/homebrew/lib/python3.11/site-packages (from matplotlib!=3.6.1,>=3.1->seaborn) (4.39.3)\n",
      "Requirement already satisfied: kiwisolver>=1.0.1 in /opt/homebrew/lib/python3.11/site-packages (from matplotlib!=3.6.1,>=3.1->seaborn) (1.4.4)\n",
      "Requirement already satisfied: packaging>=20.0 in /Users/alejandroborbolla/Library/Python/3.11/lib/python/site-packages (from matplotlib!=3.6.1,>=3.1->seaborn) (22.0)\n",
      "Requirement already satisfied: pillow>=6.2.0 in /opt/homebrew/lib/python3.11/site-packages (from matplotlib!=3.6.1,>=3.1->seaborn) (9.5.0)\n",
      "Requirement already satisfied: pyparsing>=2.3.1 in /opt/homebrew/lib/python3.11/site-packages (from matplotlib!=3.6.1,>=3.1->seaborn) (3.0.9)\n",
      "Requirement already satisfied: python-dateutil>=2.7 in /Users/alejandroborbolla/Library/Python/3.11/lib/python/site-packages (from matplotlib!=3.6.1,>=3.1->seaborn) (2.8.2)\n",
      "Requirement already satisfied: pytz>=2020.1 in /opt/homebrew/lib/python3.11/site-packages (from pandas>=0.25->seaborn) (2023.3)\n",
      "Requirement already satisfied: tzdata>=2022.1 in /opt/homebrew/lib/python3.11/site-packages (from pandas>=0.25->seaborn) (2023.3)\n",
      "Requirement already satisfied: six>=1.5 in /Users/alejandroborbolla/Library/Python/3.11/lib/python/site-packages (from python-dateutil>=2.7->matplotlib!=3.6.1,>=3.1->seaborn) (1.16.0)\n",
      "\n",
      "\u001b[1m[\u001b[0m\u001b[34;49mnotice\u001b[0m\u001b[1;39;49m]\u001b[0m\u001b[39;49m A new release of pip available: \u001b[0m\u001b[31;49m22.3.1\u001b[0m\u001b[39;49m -> \u001b[0m\u001b[32;49m23.1.2\u001b[0m\n",
      "\u001b[1m[\u001b[0m\u001b[34;49mnotice\u001b[0m\u001b[1;39;49m]\u001b[0m\u001b[39;49m To update, run: \u001b[0m\u001b[32;49mpython3.11 -m pip install --upgrade pip\u001b[0m\n",
      "Note: you may need to restart the kernel to use updated packages.\n"
     ]
    }
   ],
   "source": [
    "%pip install category-encoders\n",
    "%pip install imbalanced-learn\n",
    "%pip install matplotlib\n",
    "%pip install pandas\n",
    "%pip install scikit-learn\n",
    "%pip install seaborn\n",
    "\n",
    "import matplotlib.pyplot as plt\n",
    "import numpy as np\n",
    "import pandas as pd\n",
    "import seaborn as sns"
   ]
  },
  {
   "attachments": {},
   "cell_type": "markdown",
   "metadata": {},
   "source": [
    "# Introduction\n",
    "\n",
    "In the context of the Machine Learning laboratory, we will work with [Xente Fraud Detection Challenge](https://zindi.africa/competitions/xente-fraud-detection-challenge).\n",
    "\n",
    "The purpose is to create a Machine Learning model that is able to predict if a transaction is a fraud.\n",
    "\n",
    "For that, we will go through several steps:\n",
    "\n",
    " * Features Engineering: Capacity to extract the most useful information from raw data\n",
    " * Model definition\n",
    " * Prediction\n",
    " * Submission of our result\n",
    "\n",
    "To train the model, we have the [training dataset](./data/training.csv) and the [test dataset](./data/test.csv) to submit our results."
   ]
  },
  {
   "attachments": {},
   "cell_type": "markdown",
   "metadata": {},
   "source": [
    "# Columns Definitions\n",
    "\n",
    "Here is the meaning of every columns explain in [Xente_Variable_Definitions.csv](./data/Xente_Variable_Definitions.csv).\n",
    "\n",
    " * **TransactionId**: Unique transaction identifier on platform\n",
    " * **BatchId**: Unique number assigned to a batch of transactions for processing\n",
    " * **AccountId**: Unique number identifying the customer on platform\n",
    " * **SubscriptionId**: Unique number identifying the customer subscription\n",
    " * **CustomerId**: Unique identifier attached to Account\n",
    " * **CurrencyCode**: Country currency\n",
    " * **CountryCode**: Numerical geographical code of country\n",
    " * **ProviderId**: Source provider of Item bought.\n",
    " * **ProductId**: Item name being bought.\n",
    " * **ProductCategory**: ProductIds are organized into these broader product categories.\n",
    " * **ChannelId**: Identifies if customer used web,Android, IOS, pay later or checkout.\n",
    " * **Amount**: Value of the transaction. Positive for debits from customer account and negative for credit into customer account\n",
    " * **Value**: Absolute value of the amount\n",
    " * **TransactionStartTime**: Transaction start time\n",
    " * **PricingStrategy**: Category of Xente's pricing structure for merchants\n",
    " * **FraudResult**: Fraud status of transaction 1 -yes or 0-No\n"
   ]
  },
  {
   "attachments": {},
   "cell_type": "markdown",
   "metadata": {},
   "source": [
    "# Load training data\n",
    "\n",
    "Let's load our training data from [training.csv](./data/training.csv).\n",
    "\n",
    "We set `TransactionId` as the index of our training data."
   ]
  },
  {
   "cell_type": "code",
   "execution_count": 199,
   "metadata": {},
   "outputs": [
    {
     "data": {
      "text/html": [
       "<div>\n",
       "<style scoped>\n",
       "    .dataframe tbody tr th:only-of-type {\n",
       "        vertical-align: middle;\n",
       "    }\n",
       "\n",
       "    .dataframe tbody tr th {\n",
       "        vertical-align: top;\n",
       "    }\n",
       "\n",
       "    .dataframe thead th {\n",
       "        text-align: right;\n",
       "    }\n",
       "</style>\n",
       "<table border=\"1\" class=\"dataframe\">\n",
       "  <thead>\n",
       "    <tr style=\"text-align: right;\">\n",
       "      <th></th>\n",
       "      <th>BatchId</th>\n",
       "      <th>AccountId</th>\n",
       "      <th>SubscriptionId</th>\n",
       "      <th>CustomerId</th>\n",
       "      <th>CurrencyCode</th>\n",
       "      <th>CountryCode</th>\n",
       "      <th>ProviderId</th>\n",
       "      <th>ProductId</th>\n",
       "      <th>ProductCategory</th>\n",
       "      <th>ChannelId</th>\n",
       "      <th>Amount</th>\n",
       "      <th>Value</th>\n",
       "      <th>TransactionStartTime</th>\n",
       "      <th>PricingStrategy</th>\n",
       "      <th>FraudResult</th>\n",
       "    </tr>\n",
       "    <tr>\n",
       "      <th>TransactionId</th>\n",
       "      <th></th>\n",
       "      <th></th>\n",
       "      <th></th>\n",
       "      <th></th>\n",
       "      <th></th>\n",
       "      <th></th>\n",
       "      <th></th>\n",
       "      <th></th>\n",
       "      <th></th>\n",
       "      <th></th>\n",
       "      <th></th>\n",
       "      <th></th>\n",
       "      <th></th>\n",
       "      <th></th>\n",
       "      <th></th>\n",
       "    </tr>\n",
       "  </thead>\n",
       "  <tbody>\n",
       "    <tr>\n",
       "      <th>TransactionId_76871</th>\n",
       "      <td>BatchId_36123</td>\n",
       "      <td>AccountId_3957</td>\n",
       "      <td>SubscriptionId_887</td>\n",
       "      <td>CustomerId_4406</td>\n",
       "      <td>UGX</td>\n",
       "      <td>256</td>\n",
       "      <td>ProviderId_6</td>\n",
       "      <td>ProductId_10</td>\n",
       "      <td>airtime</td>\n",
       "      <td>ChannelId_3</td>\n",
       "      <td>1000.0</td>\n",
       "      <td>1000</td>\n",
       "      <td>2018-11-15T02:18:49Z</td>\n",
       "      <td>2</td>\n",
       "      <td>0</td>\n",
       "    </tr>\n",
       "    <tr>\n",
       "      <th>TransactionId_73770</th>\n",
       "      <td>BatchId_15642</td>\n",
       "      <td>AccountId_4841</td>\n",
       "      <td>SubscriptionId_3829</td>\n",
       "      <td>CustomerId_4406</td>\n",
       "      <td>UGX</td>\n",
       "      <td>256</td>\n",
       "      <td>ProviderId_4</td>\n",
       "      <td>ProductId_6</td>\n",
       "      <td>financial_services</td>\n",
       "      <td>ChannelId_2</td>\n",
       "      <td>-20.0</td>\n",
       "      <td>20</td>\n",
       "      <td>2018-11-15T02:19:08Z</td>\n",
       "      <td>2</td>\n",
       "      <td>0</td>\n",
       "    </tr>\n",
       "    <tr>\n",
       "      <th>TransactionId_26203</th>\n",
       "      <td>BatchId_53941</td>\n",
       "      <td>AccountId_4229</td>\n",
       "      <td>SubscriptionId_222</td>\n",
       "      <td>CustomerId_4683</td>\n",
       "      <td>UGX</td>\n",
       "      <td>256</td>\n",
       "      <td>ProviderId_6</td>\n",
       "      <td>ProductId_1</td>\n",
       "      <td>airtime</td>\n",
       "      <td>ChannelId_3</td>\n",
       "      <td>500.0</td>\n",
       "      <td>500</td>\n",
       "      <td>2018-11-15T02:44:21Z</td>\n",
       "      <td>2</td>\n",
       "      <td>0</td>\n",
       "    </tr>\n",
       "    <tr>\n",
       "      <th>TransactionId_380</th>\n",
       "      <td>BatchId_102363</td>\n",
       "      <td>AccountId_648</td>\n",
       "      <td>SubscriptionId_2185</td>\n",
       "      <td>CustomerId_988</td>\n",
       "      <td>UGX</td>\n",
       "      <td>256</td>\n",
       "      <td>ProviderId_1</td>\n",
       "      <td>ProductId_21</td>\n",
       "      <td>utility_bill</td>\n",
       "      <td>ChannelId_3</td>\n",
       "      <td>20000.0</td>\n",
       "      <td>21800</td>\n",
       "      <td>2018-11-15T03:32:55Z</td>\n",
       "      <td>2</td>\n",
       "      <td>0</td>\n",
       "    </tr>\n",
       "    <tr>\n",
       "      <th>TransactionId_28195</th>\n",
       "      <td>BatchId_38780</td>\n",
       "      <td>AccountId_4841</td>\n",
       "      <td>SubscriptionId_3829</td>\n",
       "      <td>CustomerId_988</td>\n",
       "      <td>UGX</td>\n",
       "      <td>256</td>\n",
       "      <td>ProviderId_4</td>\n",
       "      <td>ProductId_6</td>\n",
       "      <td>financial_services</td>\n",
       "      <td>ChannelId_2</td>\n",
       "      <td>-644.0</td>\n",
       "      <td>644</td>\n",
       "      <td>2018-11-15T03:34:21Z</td>\n",
       "      <td>2</td>\n",
       "      <td>0</td>\n",
       "    </tr>\n",
       "  </tbody>\n",
       "</table>\n",
       "</div>"
      ],
      "text/plain": [
       "                            BatchId       AccountId       SubscriptionId   \n",
       "TransactionId                                                              \n",
       "TransactionId_76871   BatchId_36123  AccountId_3957   SubscriptionId_887  \\\n",
       "TransactionId_73770   BatchId_15642  AccountId_4841  SubscriptionId_3829   \n",
       "TransactionId_26203   BatchId_53941  AccountId_4229   SubscriptionId_222   \n",
       "TransactionId_380    BatchId_102363   AccountId_648  SubscriptionId_2185   \n",
       "TransactionId_28195   BatchId_38780  AccountId_4841  SubscriptionId_3829   \n",
       "\n",
       "                          CustomerId CurrencyCode  CountryCode    ProviderId   \n",
       "TransactionId                                                                  \n",
       "TransactionId_76871  CustomerId_4406          UGX          256  ProviderId_6  \\\n",
       "TransactionId_73770  CustomerId_4406          UGX          256  ProviderId_4   \n",
       "TransactionId_26203  CustomerId_4683          UGX          256  ProviderId_6   \n",
       "TransactionId_380     CustomerId_988          UGX          256  ProviderId_1   \n",
       "TransactionId_28195   CustomerId_988          UGX          256  ProviderId_4   \n",
       "\n",
       "                        ProductId     ProductCategory    ChannelId   Amount   \n",
       "TransactionId                                                                 \n",
       "TransactionId_76871  ProductId_10             airtime  ChannelId_3   1000.0  \\\n",
       "TransactionId_73770   ProductId_6  financial_services  ChannelId_2    -20.0   \n",
       "TransactionId_26203   ProductId_1             airtime  ChannelId_3    500.0   \n",
       "TransactionId_380    ProductId_21        utility_bill  ChannelId_3  20000.0   \n",
       "TransactionId_28195   ProductId_6  financial_services  ChannelId_2   -644.0   \n",
       "\n",
       "                     Value  TransactionStartTime  PricingStrategy  FraudResult  \n",
       "TransactionId                                                                   \n",
       "TransactionId_76871   1000  2018-11-15T02:18:49Z                2            0  \n",
       "TransactionId_73770     20  2018-11-15T02:19:08Z                2            0  \n",
       "TransactionId_26203    500  2018-11-15T02:44:21Z                2            0  \n",
       "TransactionId_380    21800  2018-11-15T03:32:55Z                2            0  \n",
       "TransactionId_28195    644  2018-11-15T03:34:21Z                2            0  "
      ]
     },
     "execution_count": 199,
     "metadata": {},
     "output_type": "execute_result"
    }
   ],
   "source": [
    "training_data_path = './data/training.csv'\n",
    "\n",
    "# Read data from file\n",
    "training_data = pd.read_csv(training_data_path)\n",
    "\n",
    "# Set the 'TransactionId' as index\n",
    "training_data.set_index('TransactionId', inplace=True)\n",
    "\n",
    "training_data.head(5)"
   ]
  },
  {
   "attachments": {},
   "cell_type": "markdown",
   "metadata": {},
   "source": [
    "# Features Engineering\n",
    "\n",
    "Now that we have our data loaded, let's analyse the different data in order the get the best possible model."
   ]
  },
  {
   "attachments": {},
   "cell_type": "markdown",
   "metadata": {},
   "source": [
    "## Drop useless features\n",
    "\n",
    "The first thing that I do is to remove the `BatchId` column, because it just gives me the information about the batch of transaction for processing.\n",
    "\n",
    "Also, I remove the features `CustomerId`, `AccountId` and `SubscriptionId` because they are relative to an account or a customer. In our case, we don't want to classify a fraud regarding a consumer or an account.\n",
    "\n",
    "> Note: I use the relationship between `CustomerId` and `Value` later."
   ]
  },
  {
   "attachments": {},
   "cell_type": "markdown",
   "metadata": {},
   "source": [
    "## Transaction country\n",
    "\n",
    "First, we will attack with the columns `CurrencyCode` and `CountryCode`. Actually, they point to the same thing: in which country the transaction has been done. Thus, we can say that having both columns is redundant to estimate our model prediction.\n",
    "\n",
    "We will first look at the occurrence of every country and then check its relationship with the target value."
   ]
  },
  {
   "cell_type": "code",
   "execution_count": 200,
   "metadata": {},
   "outputs": [
    {
     "name": "stdout",
     "output_type": "stream",
     "text": [
      "Distinct CurrencyCode: 1\n",
      "Distinct CountryCode: 1\n"
     ]
    }
   ],
   "source": [
    "# Load CurrencyCode and CountryCode\n",
    "X_currency_code = training_data['CurrencyCode']\n",
    "X_country_code = training_data['CountryCode']\n",
    "\n",
    "# Count occurence of each rows\n",
    "currency_code_occurences = X_currency_code.nunique()\n",
    "country_code_occurences = X_country_code.nunique()\n",
    "\n",
    "# Show information\n",
    "print(f'Distinct CurrencyCode: {currency_code_occurences}')\n",
    "print(f'Distinct CountryCode: {country_code_occurences}')"
   ]
  },
  {
   "attachments": {},
   "cell_type": "markdown",
   "metadata": {},
   "source": [
    "As we can see, `CurrencyCode` and `CountryCode` has only one distinct value in all the dataset. Give that, we can say that this column will not give any additional information to our model.\n",
    "\n",
    "Based on the Mutual Information calculated above, we can see than `CurrencyCode` and `CountryCode` are independent variables. I will remove these features from the dataset."
   ]
  },
  {
   "attachments": {},
   "cell_type": "markdown",
   "metadata": {},
   "source": [
    "## Transaction Start Time\n",
    "\n",
    "As information, we have `TransactionStartTime` and it is the transaction start time. It is written using the [ISO 8601](https://en.wikipedia.org/wiki/ISO_8601) date format. In this form, we cannot exploit the data in our model.\n",
    "\n",
    "From `TransactionStartTime`, we can take some interesting information such as:\n",
    " * Day of the week\n",
    " * Month\n",
    " * Hours of the day\n",
    "\n",
    "By retrieving this information, we can try to visualise if the fraud is something periodically, that happens on certain week day, etc, ...\n",
    "\n",
    "Given that, our first step will be to preprocessing our data and create 3 new columns: `TransactionWeekDay`, `TransactionMonth` and `TransactionHour`.\n",
    "\n",
    " * **TransactionWeekDay**: 0 - 6\n",
    " * **TransactionMonth**: 1 - 12\n",
    " * **TransactionHour**: 0 - 23"
   ]
  },
  {
   "cell_type": "code",
   "execution_count": 201,
   "metadata": {},
   "outputs": [],
   "source": [
    "def apply_transaction_start_date(destination):\n",
    "    # Convert every string in datetime object\n",
    "    pd_datetime = pd.to_datetime(destination['TransactionStartTime'])\n",
    "    pd_datetime_index = pd.DatetimeIndex(pd_datetime)\n",
    "\n",
    "    # Retrieve month and week day\n",
    "    destination['TransactionMonth'] = pd_datetime_index.month\n",
    "    destination['TransactionHour'] = pd_datetime_index.hour\n",
    "    destination['TransactionWeekDay'] = pd_datetime_index.weekday\n",
    "\n",
    "    # Drop TransactionStartTime\n",
    "    destination.drop(columns=['TransactionStartTime'], inplace=True)\n",
    "\n",
    "    return destination"
   ]
  },
  {
   "cell_type": "code",
   "execution_count": 202,
   "metadata": {},
   "outputs": [
    {
     "data": {
      "text/html": [
       "<div>\n",
       "<style scoped>\n",
       "    .dataframe tbody tr th:only-of-type {\n",
       "        vertical-align: middle;\n",
       "    }\n",
       "\n",
       "    .dataframe tbody tr th {\n",
       "        vertical-align: top;\n",
       "    }\n",
       "\n",
       "    .dataframe thead th {\n",
       "        text-align: right;\n",
       "    }\n",
       "</style>\n",
       "<table border=\"1\" class=\"dataframe\">\n",
       "  <thead>\n",
       "    <tr style=\"text-align: right;\">\n",
       "      <th></th>\n",
       "      <th>TransactionMonth</th>\n",
       "      <th>TransactionHour</th>\n",
       "      <th>TransactionWeekDay</th>\n",
       "    </tr>\n",
       "    <tr>\n",
       "      <th>TransactionId</th>\n",
       "      <th></th>\n",
       "      <th></th>\n",
       "      <th></th>\n",
       "    </tr>\n",
       "  </thead>\n",
       "  <tbody>\n",
       "    <tr>\n",
       "      <th>TransactionId_76871</th>\n",
       "      <td>11</td>\n",
       "      <td>2</td>\n",
       "      <td>3</td>\n",
       "    </tr>\n",
       "    <tr>\n",
       "      <th>TransactionId_73770</th>\n",
       "      <td>11</td>\n",
       "      <td>2</td>\n",
       "      <td>3</td>\n",
       "    </tr>\n",
       "    <tr>\n",
       "      <th>TransactionId_26203</th>\n",
       "      <td>11</td>\n",
       "      <td>2</td>\n",
       "      <td>3</td>\n",
       "    </tr>\n",
       "    <tr>\n",
       "      <th>TransactionId_380</th>\n",
       "      <td>11</td>\n",
       "      <td>3</td>\n",
       "      <td>3</td>\n",
       "    </tr>\n",
       "    <tr>\n",
       "      <th>TransactionId_28195</th>\n",
       "      <td>11</td>\n",
       "      <td>3</td>\n",
       "      <td>3</td>\n",
       "    </tr>\n",
       "  </tbody>\n",
       "</table>\n",
       "</div>"
      ],
      "text/plain": [
       "                     TransactionMonth  TransactionHour  TransactionWeekDay\n",
       "TransactionId                                                             \n",
       "TransactionId_76871                11                2                   3\n",
       "TransactionId_73770                11                2                   3\n",
       "TransactionId_26203                11                2                   3\n",
       "TransactionId_380                  11                3                   3\n",
       "TransactionId_28195                11                3                   3"
      ]
     },
     "execution_count": 202,
     "metadata": {},
     "output_type": "execute_result"
    }
   ],
   "source": [
    "# Create DataFrame\n",
    "transaction_start_time_details  = training_data.loc[:, ['TransactionStartTime']].copy()\n",
    "\n",
    "# Convert string to usable start date\n",
    "transaction_start_time_details = apply_transaction_start_date(transaction_start_time_details)\n",
    "\n",
    "transaction_start_time_details.head()\n"
   ]
  },
  {
   "attachments": {},
   "cell_type": "markdown",
   "metadata": {},
   "source": [
    "Now that we extracted our data from `TransactionStartTime`, let's analyse them!"
   ]
  },
  {
   "attachments": {},
   "cell_type": "markdown",
   "metadata": {},
   "source": [
    "### Fraud frequency per week day\n",
    "\n",
    "We will know plot the fraud frequency regarding the week day."
   ]
  },
  {
   "cell_type": "code",
   "execution_count": 203,
   "metadata": {},
   "outputs": [
    {
     "data": {
      "text/html": [
       "<div>\n",
       "<style scoped>\n",
       "    .dataframe tbody tr th:only-of-type {\n",
       "        vertical-align: middle;\n",
       "    }\n",
       "\n",
       "    .dataframe tbody tr th {\n",
       "        vertical-align: top;\n",
       "    }\n",
       "\n",
       "    .dataframe thead th {\n",
       "        text-align: right;\n",
       "    }\n",
       "</style>\n",
       "<table border=\"1\" class=\"dataframe\">\n",
       "  <thead>\n",
       "    <tr style=\"text-align: right;\">\n",
       "      <th></th>\n",
       "      <th>TransactionWeekDay</th>\n",
       "      <th>FraudResult</th>\n",
       "    </tr>\n",
       "  </thead>\n",
       "  <tbody>\n",
       "    <tr>\n",
       "      <th>0</th>\n",
       "      <td>0</td>\n",
       "      <td>29</td>\n",
       "    </tr>\n",
       "    <tr>\n",
       "      <th>1</th>\n",
       "      <td>1</td>\n",
       "      <td>31</td>\n",
       "    </tr>\n",
       "    <tr>\n",
       "      <th>2</th>\n",
       "      <td>2</td>\n",
       "      <td>29</td>\n",
       "    </tr>\n",
       "    <tr>\n",
       "      <th>3</th>\n",
       "      <td>3</td>\n",
       "      <td>34</td>\n",
       "    </tr>\n",
       "    <tr>\n",
       "      <th>4</th>\n",
       "      <td>4</td>\n",
       "      <td>30</td>\n",
       "    </tr>\n",
       "    <tr>\n",
       "      <th>5</th>\n",
       "      <td>5</td>\n",
       "      <td>25</td>\n",
       "    </tr>\n",
       "    <tr>\n",
       "      <th>6</th>\n",
       "      <td>6</td>\n",
       "      <td>15</td>\n",
       "    </tr>\n",
       "  </tbody>\n",
       "</table>\n",
       "</div>"
      ],
      "text/plain": [
       "   TransactionWeekDay  FraudResult\n",
       "0                   0           29\n",
       "1                   1           31\n",
       "2                   2           29\n",
       "3                   3           34\n",
       "4                   4           30\n",
       "5                   5           25\n",
       "6                   6           15"
      ]
     },
     "execution_count": 203,
     "metadata": {},
     "output_type": "execute_result"
    }
   ],
   "source": [
    "# Create DataFram with the month and fraud\n",
    "fraud_month = pd.DataFrame({\n",
    "    'TransactionWeekDay': transaction_start_time_details['TransactionWeekDay'],\n",
    "    'FraudResult': training_data['FraudResult'],\n",
    "})\n",
    "\n",
    "# Group the dataframe by month\n",
    "fraud_per_weekday = fraud_month.groupby('TransactionWeekDay').sum()\n",
    "fraud_per_weekday.reset_index(inplace=True)\n",
    "\n",
    "fraud_per_weekday.head(10)"
   ]
  },
  {
   "cell_type": "code",
   "execution_count": 204,
   "metadata": {},
   "outputs": [
    {
     "data": {
      "image/png": "[encoded data removed]",
      "text/plain": [
       "<Figure size 640x480 with 1 Axes>"
      ]
     },
     "metadata": {},
     "output_type": "display_data"
    }
   ],
   "source": [
    "# Creating histogram\n",
    "plt.bar(fraud_per_weekday['TransactionWeekDay'], fraud_per_weekday['FraudResult'])\n",
    " \n",
    "# Show plot\n",
    "plt.show()"
   ]
  },
  {
   "attachments": {},
   "cell_type": "markdown",
   "metadata": {},
   "source": [
    "In the plot above, we can see that there is no day more likely to get a fraudulent transaction. \n",
    "\n",
    "A fraud can happen any day of the week. Given that, I will not use `TransactionWeekDay` in my model, because it didn't give me any useful information."
   ]
  },
  {
   "attachments": {},
   "cell_type": "markdown",
   "metadata": {},
   "source": [
    "### Fraud frequency per month\n",
    "\n",
    "We will know plot the fraud frequency regarding the month."
   ]
  },
  {
   "cell_type": "code",
   "execution_count": 205,
   "metadata": {},
   "outputs": [
    {
     "data": {
      "text/html": [
       "<div>\n",
       "<style scoped>\n",
       "    .dataframe tbody tr th:only-of-type {\n",
       "        vertical-align: middle;\n",
       "    }\n",
       "\n",
       "    .dataframe tbody tr th {\n",
       "        vertical-align: top;\n",
       "    }\n",
       "\n",
       "    .dataframe thead th {\n",
       "        text-align: right;\n",
       "    }\n",
       "</style>\n",
       "<table border=\"1\" class=\"dataframe\">\n",
       "  <thead>\n",
       "    <tr style=\"text-align: right;\">\n",
       "      <th></th>\n",
       "      <th>TransactionMonth</th>\n",
       "      <th>FraudResult</th>\n",
       "    </tr>\n",
       "  </thead>\n",
       "  <tbody>\n",
       "    <tr>\n",
       "      <th>0</th>\n",
       "      <td>1</td>\n",
       "      <td>64</td>\n",
       "    </tr>\n",
       "    <tr>\n",
       "      <th>1</th>\n",
       "      <td>2</td>\n",
       "      <td>53</td>\n",
       "    </tr>\n",
       "    <tr>\n",
       "      <th>2</th>\n",
       "      <td>11</td>\n",
       "      <td>14</td>\n",
       "    </tr>\n",
       "    <tr>\n",
       "      <th>3</th>\n",
       "      <td>12</td>\n",
       "      <td>62</td>\n",
       "    </tr>\n",
       "  </tbody>\n",
       "</table>\n",
       "</div>"
      ],
      "text/plain": [
       "   TransactionMonth  FraudResult\n",
       "0                 1           64\n",
       "1                 2           53\n",
       "2                11           14\n",
       "3                12           62"
      ]
     },
     "execution_count": 205,
     "metadata": {},
     "output_type": "execute_result"
    }
   ],
   "source": [
    "# Create DataFram with the month and fraud\n",
    "fraud_month = pd.DataFrame({\n",
    "    'TransactionMonth': transaction_start_time_details['TransactionMonth'],\n",
    "    'FraudResult': training_data['FraudResult'],\n",
    "})\n",
    "\n",
    "# Group the dataframe by month\n",
    "fraud_per_month = fraud_month.groupby('TransactionMonth').sum()\n",
    "fraud_per_month.reset_index(inplace=True)\n",
    "\n",
    "fraud_per_month.head()"
   ]
  },
  {
   "cell_type": "code",
   "execution_count": 206,
   "metadata": {},
   "outputs": [
    {
     "data": {
      "image/png": "[encoded data removed]",
      "text/plain": [
       "<Figure size 640x480 with 1 Axes>"
      ]
     },
     "metadata": {},
     "output_type": "display_data"
    }
   ],
   "source": [
    "# Creating bar graph\n",
    "plt.bar(fraud_per_month['TransactionMonth'], fraud_per_month['FraudResult'])\n",
    " \n",
    "# Show plot\n",
    "plt.show()"
   ]
  },
  {
   "attachments": {},
   "cell_type": "markdown",
   "metadata": {},
   "source": [
    "As we can see, there is a periodical pattern. The fraud generally happens between November to February.\n",
    "\n",
    "We can then use this feature in our model."
   ]
  },
  {
   "attachments": {},
   "cell_type": "markdown",
   "metadata": {},
   "source": [
    "### Fraud frequency per hour\n",
    "\n",
    "We will analyse the frequency of the fraud regarding the hour of the day."
   ]
  },
  {
   "cell_type": "code",
   "execution_count": 207,
   "metadata": {},
   "outputs": [
    {
     "data": {
      "text/html": [
       "<div>\n",
       "<style scoped>\n",
       "    .dataframe tbody tr th:only-of-type {\n",
       "        vertical-align: middle;\n",
       "    }\n",
       "\n",
       "    .dataframe tbody tr th {\n",
       "        vertical-align: top;\n",
       "    }\n",
       "\n",
       "    .dataframe thead th {\n",
       "        text-align: right;\n",
       "    }\n",
       "</style>\n",
       "<table border=\"1\" class=\"dataframe\">\n",
       "  <thead>\n",
       "    <tr style=\"text-align: right;\">\n",
       "      <th></th>\n",
       "      <th>TransactionHour</th>\n",
       "      <th>FraudResult</th>\n",
       "    </tr>\n",
       "  </thead>\n",
       "  <tbody>\n",
       "    <tr>\n",
       "      <th>0</th>\n",
       "      <td>0</td>\n",
       "      <td>1</td>\n",
       "    </tr>\n",
       "    <tr>\n",
       "      <th>1</th>\n",
       "      <td>1</td>\n",
       "      <td>0</td>\n",
       "    </tr>\n",
       "    <tr>\n",
       "      <th>2</th>\n",
       "      <td>2</td>\n",
       "      <td>0</td>\n",
       "    </tr>\n",
       "    <tr>\n",
       "      <th>3</th>\n",
       "      <td>3</td>\n",
       "      <td>7</td>\n",
       "    </tr>\n",
       "    <tr>\n",
       "      <th>4</th>\n",
       "      <td>4</td>\n",
       "      <td>0</td>\n",
       "    </tr>\n",
       "    <tr>\n",
       "      <th>5</th>\n",
       "      <td>5</td>\n",
       "      <td>6</td>\n",
       "    </tr>\n",
       "    <tr>\n",
       "      <th>6</th>\n",
       "      <td>6</td>\n",
       "      <td>7</td>\n",
       "    </tr>\n",
       "    <tr>\n",
       "      <th>7</th>\n",
       "      <td>7</td>\n",
       "      <td>9</td>\n",
       "    </tr>\n",
       "    <tr>\n",
       "      <th>8</th>\n",
       "      <td>8</td>\n",
       "      <td>8</td>\n",
       "    </tr>\n",
       "    <tr>\n",
       "      <th>9</th>\n",
       "      <td>9</td>\n",
       "      <td>10</td>\n",
       "    </tr>\n",
       "  </tbody>\n",
       "</table>\n",
       "</div>"
      ],
      "text/plain": [
       "   TransactionHour  FraudResult\n",
       "0                0            1\n",
       "1                1            0\n",
       "2                2            0\n",
       "3                3            7\n",
       "4                4            0\n",
       "5                5            6\n",
       "6                6            7\n",
       "7                7            9\n",
       "8                8            8\n",
       "9                9           10"
      ]
     },
     "execution_count": 207,
     "metadata": {},
     "output_type": "execute_result"
    }
   ],
   "source": [
    "# Create DataFram with the month and fraud\n",
    "fraud_hour = pd.DataFrame({\n",
    "    'TransactionHour': transaction_start_time_details['TransactionHour'],\n",
    "    'FraudResult': training_data['FraudResult'],\n",
    "})\n",
    "\n",
    "# Group the dataframe by month\n",
    "fraud_per_hour = fraud_hour.groupby('TransactionHour').sum()\n",
    "fraud_per_hour.reset_index(inplace=True)\n",
    "\n",
    "fraud_per_hour.head(10)"
   ]
  },
  {
   "cell_type": "code",
   "execution_count": 208,
   "metadata": {},
   "outputs": [
    {
     "data": {
      "image/png": "[encoded data removed]",
      "text/plain": [
       "<Figure size 640x480 with 1 Axes>"
      ]
     },
     "metadata": {},
     "output_type": "display_data"
    }
   ],
   "source": [
    "# Creating bar graph\n",
    "plt.bar(fraud_per_hour['TransactionHour'], fraud_per_hour['FraudResult'])\n",
    " \n",
    "# Show plot\n",
    "plt.show()"
   ]
  },
  {
   "attachments": {},
   "cell_type": "markdown",
   "metadata": {},
   "source": [
    "In the case of the hour, we can see distinct groups. Some hours are more subject to fraud than others.\n",
    "\n",
    "To reduce the dimensionality in our final data, we can cluster the `TransactionHour` using `K-means clustering`."
   ]
  },
  {
   "cell_type": "code",
   "execution_count": 209,
   "metadata": {},
   "outputs": [],
   "source": [
    "from sklearn.cluster import KMeans\n",
    "\n",
    "def kmeansFraudHour(destination, clusters=3):\n",
    "    # Create KMeans instance\n",
    "    kmeans = KMeans(n_clusters=clusters)\n",
    "\n",
    "    # Get the cluster result\n",
    "    destination['TransactionHourCluster'] = kmeans.fit_predict(destination.loc[:, ['FraudResult']])\n",
    "    destination['TransactionHourCluster'] = destination['TransactionHourCluster'].astype('category')\n",
    "\n",
    "    return destination"
   ]
  },
  {
   "cell_type": "code",
   "execution_count": 210,
   "metadata": {},
   "outputs": [
    {
     "name": "stderr",
     "output_type": "stream",
     "text": [
      "/opt/homebrew/lib/python3.11/site-packages/sklearn/cluster/_kmeans.py:870: FutureWarning: The default value of `n_init` will change from 10 to 'auto' in 1.4. Set the value of `n_init` explicitly to suppress the warning\n",
      "  warnings.warn(\n"
     ]
    },
    {
     "data": {
      "text/html": [
       "<div>\n",
       "<style scoped>\n",
       "    .dataframe tbody tr th:only-of-type {\n",
       "        vertical-align: middle;\n",
       "    }\n",
       "\n",
       "    .dataframe tbody tr th {\n",
       "        vertical-align: top;\n",
       "    }\n",
       "\n",
       "    .dataframe thead th {\n",
       "        text-align: right;\n",
       "    }\n",
       "</style>\n",
       "<table border=\"1\" class=\"dataframe\">\n",
       "  <thead>\n",
       "    <tr style=\"text-align: right;\">\n",
       "      <th></th>\n",
       "      <th>TransactionHour</th>\n",
       "      <th>FraudResult</th>\n",
       "      <th>TransactionHourCluster</th>\n",
       "    </tr>\n",
       "  </thead>\n",
       "  <tbody>\n",
       "    <tr>\n",
       "      <th>0</th>\n",
       "      <td>0</td>\n",
       "      <td>1</td>\n",
       "      <td>1</td>\n",
       "    </tr>\n",
       "    <tr>\n",
       "      <th>1</th>\n",
       "      <td>1</td>\n",
       "      <td>0</td>\n",
       "      <td>1</td>\n",
       "    </tr>\n",
       "    <tr>\n",
       "      <th>2</th>\n",
       "      <td>2</td>\n",
       "      <td>0</td>\n",
       "      <td>1</td>\n",
       "    </tr>\n",
       "    <tr>\n",
       "      <th>3</th>\n",
       "      <td>3</td>\n",
       "      <td>7</td>\n",
       "      <td>0</td>\n",
       "    </tr>\n",
       "    <tr>\n",
       "      <th>4</th>\n",
       "      <td>4</td>\n",
       "      <td>0</td>\n",
       "      <td>1</td>\n",
       "    </tr>\n",
       "    <tr>\n",
       "      <th>5</th>\n",
       "      <td>5</td>\n",
       "      <td>6</td>\n",
       "      <td>0</td>\n",
       "    </tr>\n",
       "    <tr>\n",
       "      <th>6</th>\n",
       "      <td>6</td>\n",
       "      <td>7</td>\n",
       "      <td>0</td>\n",
       "    </tr>\n",
       "    <tr>\n",
       "      <th>7</th>\n",
       "      <td>7</td>\n",
       "      <td>9</td>\n",
       "      <td>0</td>\n",
       "    </tr>\n",
       "    <tr>\n",
       "      <th>8</th>\n",
       "      <td>8</td>\n",
       "      <td>8</td>\n",
       "      <td>0</td>\n",
       "    </tr>\n",
       "    <tr>\n",
       "      <th>10</th>\n",
       "      <td>10</td>\n",
       "      <td>4</td>\n",
       "      <td>1</td>\n",
       "    </tr>\n",
       "    <tr>\n",
       "      <th>12</th>\n",
       "      <td>12</td>\n",
       "      <td>24</td>\n",
       "      <td>2</td>\n",
       "    </tr>\n",
       "    <tr>\n",
       "      <th>13</th>\n",
       "      <td>13</td>\n",
       "      <td>17</td>\n",
       "      <td>2</td>\n",
       "    </tr>\n",
       "    <tr>\n",
       "      <th>16</th>\n",
       "      <td>16</td>\n",
       "      <td>18</td>\n",
       "      <td>2</td>\n",
       "    </tr>\n",
       "    <tr>\n",
       "      <th>21</th>\n",
       "      <td>21</td>\n",
       "      <td>15</td>\n",
       "      <td>2</td>\n",
       "    </tr>\n",
       "  </tbody>\n",
       "</table>\n",
       "</div>"
      ],
      "text/plain": [
       "    TransactionHour  FraudResult TransactionHourCluster\n",
       "0                 0            1                      1\n",
       "1                 1            0                      1\n",
       "2                 2            0                      1\n",
       "3                 3            7                      0\n",
       "4                 4            0                      1\n",
       "5                 5            6                      0\n",
       "6                 6            7                      0\n",
       "7                 7            9                      0\n",
       "8                 8            8                      0\n",
       "10               10            4                      1\n",
       "12               12           24                      2\n",
       "13               13           17                      2\n",
       "16               16           18                      2\n",
       "21               21           15                      2"
      ]
     },
     "execution_count": 210,
     "metadata": {},
     "output_type": "execute_result"
    }
   ],
   "source": [
    "fraud_per_hour = kmeansFraudHour(fraud_per_hour)\n",
    "fraud_per_hour.groupby('TransactionHourCluster').head()"
   ]
  },
  {
   "cell_type": "code",
   "execution_count": 211,
   "metadata": {},
   "outputs": [
    {
     "data": {
      "text/plain": [
       "<Axes: xlabel='TransactionHour', ylabel='FraudResult'>"
      ]
     },
     "execution_count": 211,
     "metadata": {},
     "output_type": "execute_result"
    },
    {
     "data": {
      "image/png": "[encoded data removed]",
      "text/plain": [
       "<Figure size 640x480 with 1 Axes>"
      ]
     },
     "metadata": {},
     "output_type": "display_data"
    }
   ],
   "source": [
    "# Creating bar graph\n",
    "sns.barplot(data=fraud_per_hour, x=\"TransactionHour\", y=\"FraudResult\", hue=\"TransactionHourCluster\")"
   ]
  },
  {
   "attachments": {},
   "cell_type": "markdown",
   "metadata": {},
   "source": [
    "In our dataset, we will replace every our of `TransactionHour` by its cluster."
   ]
  },
  {
   "cell_type": "code",
   "execution_count": 212,
   "metadata": {},
   "outputs": [
    {
     "name": "stdout",
     "output_type": "stream",
     "text": [
      "{3: 0, 5: 0, 6: 0, 7: 0, 8: 0, 9: 0, 11: 0, 14: 0, 15: 0, 17: 0, 18: 0, 20: 0, 0: 1, 1: 1, 2: 1, 4: 1, 10: 1, 19: 1, 22: 1, 23: 1, 16: 2, 21: 2, 12: 2, 13: 2}\n"
     ]
    }
   ],
   "source": [
    "cluster_hour = {}\n",
    "fraud_dict = fraud_per_hour.groupby(['TransactionHourCluster'])['TransactionHour'].apply(set).to_dict()\n",
    "\n",
    "for cluster, hours in fraud_dict.items():\n",
    "    for hour in hours:\n",
    "        cluster_hour[hour] = cluster\n",
    "\n",
    "print(cluster_hour)"
   ]
  },
  {
   "cell_type": "code",
   "execution_count": 213,
   "metadata": {},
   "outputs": [],
   "source": [
    "def apply_cluster_hour(destination):\n",
    "    global cluster_hour\n",
    "\n",
    "    # Replace every hour by its cluster\n",
    "    destination = destination.replace({'TransactionHour': cluster_hour})\n",
    "\n",
    "    return destination"
   ]
  },
  {
   "cell_type": "code",
   "execution_count": 214,
   "metadata": {},
   "outputs": [
    {
     "data": {
      "text/html": [
       "<div>\n",
       "<style scoped>\n",
       "    .dataframe tbody tr th:only-of-type {\n",
       "        vertical-align: middle;\n",
       "    }\n",
       "\n",
       "    .dataframe tbody tr th {\n",
       "        vertical-align: top;\n",
       "    }\n",
       "\n",
       "    .dataframe thead th {\n",
       "        text-align: right;\n",
       "    }\n",
       "</style>\n",
       "<table border=\"1\" class=\"dataframe\">\n",
       "  <thead>\n",
       "    <tr style=\"text-align: right;\">\n",
       "      <th></th>\n",
       "      <th>TransactionHour</th>\n",
       "      <th>FraudResult</th>\n",
       "    </tr>\n",
       "    <tr>\n",
       "      <th>TransactionId</th>\n",
       "      <th></th>\n",
       "      <th></th>\n",
       "    </tr>\n",
       "  </thead>\n",
       "  <tbody>\n",
       "    <tr>\n",
       "      <th>TransactionId_76871</th>\n",
       "      <td>1</td>\n",
       "      <td>0</td>\n",
       "    </tr>\n",
       "    <tr>\n",
       "      <th>TransactionId_73770</th>\n",
       "      <td>1</td>\n",
       "      <td>0</td>\n",
       "    </tr>\n",
       "    <tr>\n",
       "      <th>TransactionId_26203</th>\n",
       "      <td>1</td>\n",
       "      <td>0</td>\n",
       "    </tr>\n",
       "    <tr>\n",
       "      <th>TransactionId_380</th>\n",
       "      <td>0</td>\n",
       "      <td>0</td>\n",
       "    </tr>\n",
       "    <tr>\n",
       "      <th>TransactionId_28195</th>\n",
       "      <td>0</td>\n",
       "      <td>0</td>\n",
       "    </tr>\n",
       "  </tbody>\n",
       "</table>\n",
       "</div>"
      ],
      "text/plain": [
       "                     TransactionHour  FraudResult\n",
       "TransactionId                                    \n",
       "TransactionId_76871                1            0\n",
       "TransactionId_73770                1            0\n",
       "TransactionId_26203                1            0\n",
       "TransactionId_380                  0            0\n",
       "TransactionId_28195                0            0"
      ]
     },
     "execution_count": 214,
     "metadata": {},
     "output_type": "execute_result"
    }
   ],
   "source": [
    "# fraud_hour = encode_hour(fraud_hour)\n",
    "fraud_hour = apply_cluster_hour(fraud_hour)\n",
    "fraud_hour.head()"
   ]
  },
  {
   "attachments": {},
   "cell_type": "markdown",
   "metadata": {},
   "source": [
    "We have hardly reduced the numbers of distinct categories in our hours by applying a cluster to them."
   ]
  },
  {
   "attachments": {},
   "cell_type": "markdown",
   "metadata": {},
   "source": [
    "### Resume\n",
    "\n",
    "We have analysed the periodicity of a fraud violation over the time. We saw that a fraud happens on specific periods of the year. We can also see that you have some hours that are more subject to fraud.\n",
    "\n",
    "In our dataset, we will add the following columns:\n",
    "\n",
    " * `TransactionMonth`: Month of the transaction. I will use a One-Hot Encoder.\n",
    " * `TransactionHour`: Replace the hour by its cluster, and then apply a One-Hot Encoder."
   ]
  },
  {
   "attachments": {},
   "cell_type": "markdown",
   "metadata": {},
   "source": [
    "## Way to pay\n",
    "\n",
    "For the next analysis, we will look at `Amount`. In the variable description, it says that the positive values refer to debit and negative to credit.\n",
    "\n",
    "Given that information, we can analyse if a debit or credit payment affects the fraud violation.\n",
    "\n",
    "The first step will be to extract this information, we will then create a column name `PaymentWay`.\n",
    "\n",
    " * **PaymentWay**: Debit or Credit\n",
    "\n",
    "> Note: I will replace \"debit\" and \"credit\" by a One-Hot encoding"
   ]
  },
  {
   "cell_type": "code",
   "execution_count": 215,
   "metadata": {},
   "outputs": [],
   "source": [
    "def apply_payment_way(destination):\n",
    "    # Get the payment information\n",
    "    destination['PaymentWay'] = np.where(destination['Amount'] > 0, 'debit', 'credit')\n",
    "\n",
    "    # Remove the Amount columns\n",
    "    destination.drop(columns=['Amount'], inplace=True)\n",
    "\n",
    "    return destination"
   ]
  },
  {
   "cell_type": "code",
   "execution_count": 216,
   "metadata": {},
   "outputs": [
    {
     "data": {
      "text/html": [
       "<div>\n",
       "<style scoped>\n",
       "    .dataframe tbody tr th:only-of-type {\n",
       "        vertical-align: middle;\n",
       "    }\n",
       "\n",
       "    .dataframe tbody tr th {\n",
       "        vertical-align: top;\n",
       "    }\n",
       "\n",
       "    .dataframe thead th {\n",
       "        text-align: right;\n",
       "    }\n",
       "</style>\n",
       "<table border=\"1\" class=\"dataframe\">\n",
       "  <thead>\n",
       "    <tr style=\"text-align: right;\">\n",
       "      <th></th>\n",
       "      <th>PaymentWay</th>\n",
       "    </tr>\n",
       "    <tr>\n",
       "      <th>TransactionId</th>\n",
       "      <th></th>\n",
       "    </tr>\n",
       "  </thead>\n",
       "  <tbody>\n",
       "    <tr>\n",
       "      <th>TransactionId_76871</th>\n",
       "      <td>debit</td>\n",
       "    </tr>\n",
       "    <tr>\n",
       "      <th>TransactionId_73770</th>\n",
       "      <td>credit</td>\n",
       "    </tr>\n",
       "    <tr>\n",
       "      <th>TransactionId_26203</th>\n",
       "      <td>debit</td>\n",
       "    </tr>\n",
       "    <tr>\n",
       "      <th>TransactionId_380</th>\n",
       "      <td>debit</td>\n",
       "    </tr>\n",
       "    <tr>\n",
       "      <th>TransactionId_28195</th>\n",
       "      <td>credit</td>\n",
       "    </tr>\n",
       "  </tbody>\n",
       "</table>\n",
       "</div>"
      ],
      "text/plain": [
       "                    PaymentWay\n",
       "TransactionId                 \n",
       "TransactionId_76871      debit\n",
       "TransactionId_73770     credit\n",
       "TransactionId_26203      debit\n",
       "TransactionId_380        debit\n",
       "TransactionId_28195     credit"
      ]
     },
     "execution_count": 216,
     "metadata": {},
     "output_type": "execute_result"
    }
   ],
   "source": [
    "# Create an empty DataFrame\n",
    "payment_information = training_data.loc[:, ['Amount']].copy()\n",
    "\n",
    "# Apply the payment way function\n",
    "payment_information = apply_payment_way(payment_information)\n",
    "\n",
    "payment_information.head()"
   ]
  },
  {
   "attachments": {},
   "cell_type": "markdown",
   "metadata": {},
   "source": [
    "Now that we extracted the payment way from `Amount`, let's analyse if there is one way that is more subject to fraud than the other."
   ]
  },
  {
   "attachments": {},
   "cell_type": "markdown",
   "metadata": {},
   "source": [
    "### Fraud frequency per Payment Way\n",
    "\n",
    "We will analyse the fraud frequency regarding the payment method used: Debit or Credit."
   ]
  },
  {
   "cell_type": "code",
   "execution_count": 217,
   "metadata": {},
   "outputs": [
    {
     "data": {
      "text/html": [
       "<div>\n",
       "<style scoped>\n",
       "    .dataframe tbody tr th:only-of-type {\n",
       "        vertical-align: middle;\n",
       "    }\n",
       "\n",
       "    .dataframe tbody tr th {\n",
       "        vertical-align: top;\n",
       "    }\n",
       "\n",
       "    .dataframe thead th {\n",
       "        text-align: right;\n",
       "    }\n",
       "</style>\n",
       "<table border=\"1\" class=\"dataframe\">\n",
       "  <thead>\n",
       "    <tr style=\"text-align: right;\">\n",
       "      <th></th>\n",
       "      <th>PaymentWay</th>\n",
       "      <th>FraudResult</th>\n",
       "    </tr>\n",
       "  </thead>\n",
       "  <tbody>\n",
       "    <tr>\n",
       "      <th>0</th>\n",
       "      <td>credit</td>\n",
       "      <td>5</td>\n",
       "    </tr>\n",
       "    <tr>\n",
       "      <th>1</th>\n",
       "      <td>debit</td>\n",
       "      <td>188</td>\n",
       "    </tr>\n",
       "  </tbody>\n",
       "</table>\n",
       "</div>"
      ],
      "text/plain": [
       "  PaymentWay  FraudResult\n",
       "0     credit            5\n",
       "1      debit          188"
      ]
     },
     "execution_count": 217,
     "metadata": {},
     "output_type": "execute_result"
    }
   ],
   "source": [
    "# Create DataFram with the month and fraud\n",
    "fraud_payment_way = pd.DataFrame({\n",
    "    'PaymentWay': payment_information['PaymentWay'],\n",
    "    'FraudResult': training_data['FraudResult'],\n",
    "})\n",
    "\n",
    "\n",
    "# Group the dataframe by month\n",
    "fraud_per_payment_way = fraud_payment_way.groupby('PaymentWay').sum()\n",
    "fraud_per_payment_way.reset_index(inplace=True)\n",
    "\n",
    "fraud_per_payment_way.head(10)"
   ]
  },
  {
   "cell_type": "code",
   "execution_count": 218,
   "metadata": {},
   "outputs": [
    {
     "data": {
      "image/png": "[encoded data removed]",
      "text/plain": [
       "<Figure size 640x480 with 1 Axes>"
      ]
     },
     "metadata": {},
     "output_type": "display_data"
    }
   ],
   "source": [
    "# Creating bar graph\n",
    "plt.bar(fraud_per_payment_way['PaymentWay'], fraud_per_payment_way['FraudResult'])\n",
    " \n",
    "# Show plot\n",
    "plt.show()"
   ]
  },
  {
   "attachments": {},
   "cell_type": "markdown",
   "metadata": {},
   "source": [
    "As we can see on the chart above, there is a lot more fraud by debit than credit. We can then use this categorical variable during our training phase."
   ]
  },
  {
   "attachments": {},
   "cell_type": "markdown",
   "metadata": {},
   "source": [
    "### Resume\n",
    "\n",
    "We extracted the payment information and put it in `PaymentWay`. We have seen that you get more fraud violation with debit than credit. We can then classify them using a One-Hot Encoder."
   ]
  },
  {
   "attachments": {},
   "cell_type": "markdown",
   "metadata": {},
   "source": [
    "## Pricing strategy\n",
    "\n",
    "Let's analyse the pricing strategy and its influence on the fraud detection."
   ]
  },
  {
   "cell_type": "code",
   "execution_count": 219,
   "metadata": {},
   "outputs": [
    {
     "data": {
      "text/html": [
       "<div>\n",
       "<style scoped>\n",
       "    .dataframe tbody tr th:only-of-type {\n",
       "        vertical-align: middle;\n",
       "    }\n",
       "\n",
       "    .dataframe tbody tr th {\n",
       "        vertical-align: top;\n",
       "    }\n",
       "\n",
       "    .dataframe thead th {\n",
       "        text-align: right;\n",
       "    }\n",
       "</style>\n",
       "<table border=\"1\" class=\"dataframe\">\n",
       "  <thead>\n",
       "    <tr style=\"text-align: right;\">\n",
       "      <th></th>\n",
       "      <th>PricingStrategy</th>\n",
       "      <th>FraudResult</th>\n",
       "    </tr>\n",
       "  </thead>\n",
       "  <tbody>\n",
       "    <tr>\n",
       "      <th>0</th>\n",
       "      <td>0</td>\n",
       "      <td>36</td>\n",
       "    </tr>\n",
       "    <tr>\n",
       "      <th>1</th>\n",
       "      <td>1</td>\n",
       "      <td>7</td>\n",
       "    </tr>\n",
       "    <tr>\n",
       "      <th>2</th>\n",
       "      <td>2</td>\n",
       "      <td>139</td>\n",
       "    </tr>\n",
       "    <tr>\n",
       "      <th>3</th>\n",
       "      <td>4</td>\n",
       "      <td>11</td>\n",
       "    </tr>\n",
       "  </tbody>\n",
       "</table>\n",
       "</div>"
      ],
      "text/plain": [
       "   PricingStrategy  FraudResult\n",
       "0                0           36\n",
       "1                1            7\n",
       "2                2          139\n",
       "3                4           11"
      ]
     },
     "execution_count": 219,
     "metadata": {},
     "output_type": "execute_result"
    }
   ],
   "source": [
    "# Retrieve the pricing strategy\n",
    "pricing_strategy = training_data.loc[:, ['PricingStrategy', 'FraudResult']]\n",
    "\n",
    "# Check the number of fraud per princing strategy\n",
    "fraud_per_pricing_strategy = pricing_strategy.groupby('PricingStrategy').sum()\n",
    "fraud_per_pricing_strategy.reset_index(inplace=True)\n",
    "\n",
    "fraud_per_pricing_strategy.head()"
   ]
  },
  {
   "cell_type": "code",
   "execution_count": 220,
   "metadata": {},
   "outputs": [
    {
     "data": {
      "image/png": "[encoded data removed]",
      "text/plain": [
       "<Figure size 640x480 with 1 Axes>"
      ]
     },
     "metadata": {},
     "output_type": "display_data"
    }
   ],
   "source": [
    "# Creating bar graph\n",
    "plt.bar(fraud_per_pricing_strategy['PricingStrategy'], fraud_per_pricing_strategy['FraudResult'])\n",
    " \n",
    "# Show plot\n",
    "plt.show()"
   ]
  },
  {
   "attachments": {},
   "cell_type": "markdown",
   "metadata": {},
   "source": [
    "### Resume\n",
    "\n",
    "As we can see, you have some `PricingStrategy` that gets more fraud violation, for instance `2` has a lot more fraud violation than the others. We can categorise it using a One-Hot Encoder."
   ]
  },
  {
   "attachments": {},
   "cell_type": "markdown",
   "metadata": {},
   "source": [
    "# Value per Customer\n",
    "\n",
    "A fraud violation can be affected by a customer, but as I said before, I don't want to categorise a fraud based on a customer or account. But we can extract the total amount of money that a customer has spent in our training phase.\n",
    "\n",
    "I will check the total amount of value spend in non-fraud and fraud transaction and compare them."
   ]
  },
  {
   "cell_type": "code",
   "execution_count": 221,
   "metadata": {},
   "outputs": [
    {
     "name": "stdout",
     "output_type": "stream",
     "text": [
      "Mean of the sum of the values in fraudulant transaction: 5582058.722222222\n",
      "Mean of the sum of the values in non-fraudulant transaction: 173057.7566336103\n"
     ]
    }
   ],
   "source": [
    "# Fraud values\n",
    "fraud_values = training_data[training_data['FraudResult'] == 1].groupby('CustomerId')[['Value']].sum()\n",
    "fraud_values_mean = fraud_values['Value'].mean()\n",
    "\n",
    "# Non fraud values\n",
    "non_fraud_values = training_data[training_data['FraudResult'] == 0].groupby('CustomerId')[['Value']].sum()\n",
    "non_fraud_values_mean = non_fraud_values['Value'].mean()\n",
    "\n",
    "print(f'Mean of the sum of the values in fraudulant transaction: {fraud_values_mean}')\n",
    "print(f'Mean of the sum of the values in non-fraudulant transaction: {non_fraud_values_mean}')"
   ]
  },
  {
   "attachments": {},
   "cell_type": "markdown",
   "metadata": {},
   "source": [
    "As we can see, the sum of the fraudulent transaction is almost 5 times bigger than the non-fraudulent transaction. We can assume that the sum of the value of every customer has a high impact on the fraud violation."
   ]
  },
  {
   "cell_type": "code",
   "execution_count": 222,
   "metadata": {},
   "outputs": [],
   "source": [
    "def get_value_per_customer(destination):\n",
    "    # Get sum of each value for every customer\n",
    "    customer_id_value = destination.groupby(['CustomerId'])[['Value']].sum().reset_index()\n",
    "\n",
    "    # Add the customer total value in the destination\n",
    "    for row in customer_id_value.to_dict('records'):\n",
    "        destination.loc[destination['CustomerId'] == row['CustomerId'], 'ValuePerCustomer'] = row['Value']\n",
    "\n",
    "    return destination"
   ]
  },
  {
   "cell_type": "code",
   "execution_count": 223,
   "metadata": {},
   "outputs": [
    {
     "data": {
      "text/html": [
       "<div>\n",
       "<style scoped>\n",
       "    .dataframe tbody tr th:only-of-type {\n",
       "        vertical-align: middle;\n",
       "    }\n",
       "\n",
       "    .dataframe tbody tr th {\n",
       "        vertical-align: top;\n",
       "    }\n",
       "\n",
       "    .dataframe thead th {\n",
       "        text-align: right;\n",
       "    }\n",
       "</style>\n",
       "<table border=\"1\" class=\"dataframe\">\n",
       "  <thead>\n",
       "    <tr style=\"text-align: right;\">\n",
       "      <th></th>\n",
       "      <th>ValuePerCustomer</th>\n",
       "    </tr>\n",
       "    <tr>\n",
       "      <th>TransactionId</th>\n",
       "      <th></th>\n",
       "    </tr>\n",
       "  </thead>\n",
       "  <tbody>\n",
       "    <tr>\n",
       "      <th>TransactionId_76871</th>\n",
       "      <td>203847.0</td>\n",
       "    </tr>\n",
       "    <tr>\n",
       "      <th>TransactionId_73770</th>\n",
       "      <td>203847.0</td>\n",
       "    </tr>\n",
       "    <tr>\n",
       "      <th>TransactionId_26203</th>\n",
       "      <td>1000.0</td>\n",
       "    </tr>\n",
       "    <tr>\n",
       "      <th>TransactionId_380</th>\n",
       "      <td>286623.0</td>\n",
       "    </tr>\n",
       "    <tr>\n",
       "      <th>TransactionId_28195</th>\n",
       "      <td>286623.0</td>\n",
       "    </tr>\n",
       "    <tr>\n",
       "      <th>TransactionId_23223</th>\n",
       "      <td>2000.0</td>\n",
       "    </tr>\n",
       "    <tr>\n",
       "      <th>TransactionId_118063</th>\n",
       "      <td>129800.0</td>\n",
       "    </tr>\n",
       "    <tr>\n",
       "      <th>TransactionId_100640</th>\n",
       "      <td>129800.0</td>\n",
       "    </tr>\n",
       "    <tr>\n",
       "      <th>TransactionId_51905</th>\n",
       "      <td>8340.0</td>\n",
       "    </tr>\n",
       "    <tr>\n",
       "      <th>TransactionId_130161</th>\n",
       "      <td>13812.0</td>\n",
       "    </tr>\n",
       "  </tbody>\n",
       "</table>\n",
       "</div>"
      ],
      "text/plain": [
       "                      ValuePerCustomer\n",
       "TransactionId                         \n",
       "TransactionId_76871           203847.0\n",
       "TransactionId_73770           203847.0\n",
       "TransactionId_26203             1000.0\n",
       "TransactionId_380             286623.0\n",
       "TransactionId_28195           286623.0\n",
       "TransactionId_23223             2000.0\n",
       "TransactionId_118063          129800.0\n",
       "TransactionId_100640          129800.0\n",
       "TransactionId_51905             8340.0\n",
       "TransactionId_130161           13812.0"
      ]
     },
     "execution_count": 223,
     "metadata": {},
     "output_type": "execute_result"
    }
   ],
   "source": [
    "training_data_copy = get_value_per_customer(training_data.copy())\n",
    "\n",
    "training_data_copy[['ValuePerCustomer']].head(10)"
   ]
  },
  {
   "attachments": {},
   "cell_type": "markdown",
   "metadata": {},
   "source": [
    "### Resume\n",
    "\n",
    "I will use the feature `ValuePerCustomer` in the training dataset."
   ]
  },
  {
   "attachments": {},
   "cell_type": "markdown",
   "metadata": {},
   "source": [
    "## Channel ID\n",
    "\n",
    "We will evaluate the effect of `ChannelId` over the fraud violation.\n",
    "\n",
    "Same as before, let's check how much fraud there is for each channel."
   ]
  },
  {
   "cell_type": "code",
   "execution_count": 224,
   "metadata": {},
   "outputs": [
    {
     "data": {
      "text/html": [
       "<div>\n",
       "<style scoped>\n",
       "    .dataframe tbody tr th:only-of-type {\n",
       "        vertical-align: middle;\n",
       "    }\n",
       "\n",
       "    .dataframe tbody tr th {\n",
       "        vertical-align: top;\n",
       "    }\n",
       "\n",
       "    .dataframe thead th {\n",
       "        text-align: right;\n",
       "    }\n",
       "</style>\n",
       "<table border=\"1\" class=\"dataframe\">\n",
       "  <thead>\n",
       "    <tr style=\"text-align: right;\">\n",
       "      <th></th>\n",
       "      <th>ChannelId</th>\n",
       "      <th>FraudResult</th>\n",
       "    </tr>\n",
       "  </thead>\n",
       "  <tbody>\n",
       "    <tr>\n",
       "      <th>0</th>\n",
       "      <td>ChannelId_1</td>\n",
       "      <td>4</td>\n",
       "    </tr>\n",
       "    <tr>\n",
       "      <th>1</th>\n",
       "      <td>ChannelId_2</td>\n",
       "      <td>5</td>\n",
       "    </tr>\n",
       "    <tr>\n",
       "      <th>2</th>\n",
       "      <td>ChannelId_3</td>\n",
       "      <td>184</td>\n",
       "    </tr>\n",
       "    <tr>\n",
       "      <th>3</th>\n",
       "      <td>ChannelId_5</td>\n",
       "      <td>0</td>\n",
       "    </tr>\n",
       "  </tbody>\n",
       "</table>\n",
       "</div>"
      ],
      "text/plain": [
       "     ChannelId  FraudResult\n",
       "0  ChannelId_1            4\n",
       "1  ChannelId_2            5\n",
       "2  ChannelId_3          184\n",
       "3  ChannelId_5            0"
      ]
     },
     "execution_count": 224,
     "metadata": {},
     "output_type": "execute_result"
    }
   ],
   "source": [
    "# Retrieve the pricing strategy\n",
    "channel_id = training_data.loc[:, ['ChannelId', 'FraudResult']]\n",
    "\n",
    "# Check the number of fraud per princing strategy\n",
    "fraud_per_channel_id = channel_id.groupby('ChannelId').sum()\n",
    "fraud_per_channel_id.reset_index(inplace=True)\n",
    "\n",
    "fraud_per_channel_id.head()"
   ]
  },
  {
   "cell_type": "code",
   "execution_count": 225,
   "metadata": {},
   "outputs": [
    {
     "data": {
      "image/png": "[encoded data removed]",
      "text/plain": [
       "<Figure size 640x480 with 1 Axes>"
      ]
     },
     "metadata": {},
     "output_type": "display_data"
    }
   ],
   "source": [
    "# Creating bar graph\n",
    "plt.bar(fraud_per_channel_id['ChannelId'], fraud_per_channel_id['FraudResult'])\n",
    " \n",
    "# Show plot\n",
    "plt.show()"
   ]
  },
  {
   "attachments": {},
   "cell_type": "markdown",
   "metadata": {},
   "source": [
    "As we can see, `ChannelId_3` has more influence than the other one. Given that, we know that the `ChannelId` is a relevant feature of our model."
   ]
  },
  {
   "attachments": {},
   "cell_type": "markdown",
   "metadata": {},
   "source": [
    "### Resume\n",
    "\n",
    "`ChannelId` is a categorical variable that we can use in our dataset. I will apply a One-Hot encoding on this feature."
   ]
  },
  {
   "attachments": {},
   "cell_type": "markdown",
   "metadata": {},
   "source": [
    "## Conclusion\n",
    "\n",
    "At the end of our journey, we have a dataset with the following columns:\n",
    "\n",
    " * `TransactionId`\n",
    " * `Value`\n",
    " * `ValuePerCustomer`\n",
    " * `ChannelId`: One-Hot Encoded\n",
    " * `PaymentWay`: One-Hot Encoded\n",
    " * `PricingStrategy`: One-Hot Encoded\n",
    " * `TransactionMonth`: One-Hot Encoded\n",
    " * `ProductCategory`: One-Hot Encoded\n"
   ]
  },
  {
   "attachments": {},
   "cell_type": "markdown",
   "metadata": {},
   "source": [
    "## Categorise the data\n",
    "\n",
    "To categorise our data, I will use a One-Hot encoder, because it is more efficient than an Ordinal encoder and works pretty well with a `RandomForest`.\n",
    "\n",
    "As a reminder, a One-Hot Encoder will create new binary columns, indicating the presence of each possible value of the original data.\n",
    "\n",
    "![One-Hot Encoding](./pictures/one-hot-encoding.png)\n"
   ]
  },
  {
   "attachments": {},
   "cell_type": "markdown",
   "metadata": {},
   "source": [
    "# Unbalanced dataset\n",
    "\n",
    "To go further in our analysis, we will look at the proportion of fraudulent and non-fraudulent transactions in our dataset."
   ]
  },
  {
   "cell_type": "code",
   "execution_count": 226,
   "metadata": {},
   "outputs": [
    {
     "data": {
      "image/png": "[encoded data removed]",
      "text/plain": [
       "<Figure size 640x480 with 1 Axes>"
      ]
     },
     "metadata": {},
     "output_type": "display_data"
    },
    {
     "name": "stdout",
     "output_type": "stream",
     "text": [
      "Fraud percentage: 0.20175200183981098\n"
     ]
    }
   ],
   "source": [
    "# Get FraudResult\n",
    "fraud_result = training_data[['FraudResult']].copy()\n",
    "\n",
    "# Count the occurence of every value\n",
    "fraud_counts = fraud_result.value_counts()\n",
    "\n",
    "# Creating bar graph\n",
    "plt.bar(['Non-Fraud', 'Fraud'], fraud_counts)\n",
    " \n",
    "# Show plot\n",
    "plt.show()\n",
    "\n",
    "# Compute the percentage value of fraud\n",
    "fraud_percentage = (training_data['FraudResult'].sum() / len(training_data['FraudResult'])) * 100.0\n",
    "\n",
    "print(f'Fraud percentage: {fraud_percentage}')"
   ]
  },
  {
   "attachments": {},
   "cell_type": "markdown",
   "metadata": {},
   "source": [
    "As we can see, only 0.2% of our data are a fraud. We are in frount of an **unbalanced dataset**.\n",
    "\n",
    "Having an unbalanced dataset causes a model that will be biased, as it will perform well with the majority class and poorly with the minority."
   ]
  },
  {
   "cell_type": "code",
   "execution_count": 227,
   "metadata": {},
   "outputs": [],
   "source": [
    "cols_to_use = ['Amount', 'Value', 'PricingStrategy']\n",
    "\n",
    "# Extract information from dataset\n",
    "X_unbalanced = training_data[cols_to_use].copy()\n",
    "y_unbalanced = training_data['FraudResult'].copy()"
   ]
  },
  {
   "attachments": {},
   "cell_type": "markdown",
   "metadata": {},
   "source": [
    "## Solution\n",
    "\n",
    "The solution is to oversample. The purpose is to create some new false rows in our dataset to make it more balanced. The new row will be generated regarding the other ones.\n",
    "\n",
    "We will use the function `SMOTE` that will generate our new rows.\n",
    "\n",
    "For the sake of the illustration, I will remove the string columns from the dataset."
   ]
  },
  {
   "cell_type": "code",
   "execution_count": 228,
   "metadata": {},
   "outputs": [
    {
     "data": {
      "text/html": [
       "<div>\n",
       "<style scoped>\n",
       "    .dataframe tbody tr th:only-of-type {\n",
       "        vertical-align: middle;\n",
       "    }\n",
       "\n",
       "    .dataframe tbody tr th {\n",
       "        vertical-align: top;\n",
       "    }\n",
       "\n",
       "    .dataframe thead th {\n",
       "        text-align: right;\n",
       "    }\n",
       "</style>\n",
       "<table border=\"1\" class=\"dataframe\">\n",
       "  <thead>\n",
       "    <tr style=\"text-align: right;\">\n",
       "      <th></th>\n",
       "      <th>Amount</th>\n",
       "      <th>Value</th>\n",
       "      <th>PricingStrategy</th>\n",
       "      <th>FraudResult</th>\n",
       "    </tr>\n",
       "  </thead>\n",
       "  <tbody>\n",
       "    <tr>\n",
       "      <th>0</th>\n",
       "      <td>1000.0</td>\n",
       "      <td>1000</td>\n",
       "      <td>2</td>\n",
       "      <td>0</td>\n",
       "    </tr>\n",
       "    <tr>\n",
       "      <th>1</th>\n",
       "      <td>-20.0</td>\n",
       "      <td>20</td>\n",
       "      <td>2</td>\n",
       "      <td>0</td>\n",
       "    </tr>\n",
       "    <tr>\n",
       "      <th>2</th>\n",
       "      <td>500.0</td>\n",
       "      <td>500</td>\n",
       "      <td>2</td>\n",
       "      <td>0</td>\n",
       "    </tr>\n",
       "    <tr>\n",
       "      <th>3</th>\n",
       "      <td>20000.0</td>\n",
       "      <td>21800</td>\n",
       "      <td>2</td>\n",
       "      <td>0</td>\n",
       "    </tr>\n",
       "    <tr>\n",
       "      <th>4</th>\n",
       "      <td>-644.0</td>\n",
       "      <td>644</td>\n",
       "      <td>2</td>\n",
       "      <td>0</td>\n",
       "    </tr>\n",
       "  </tbody>\n",
       "</table>\n",
       "</div>"
      ],
      "text/plain": [
       "    Amount  Value  PricingStrategy  FraudResult\n",
       "0   1000.0   1000                2            0\n",
       "1    -20.0     20                2            0\n",
       "2    500.0    500                2            0\n",
       "3  20000.0  21800                2            0\n",
       "4   -644.0    644                2            0"
      ]
     },
     "execution_count": 228,
     "metadata": {},
     "output_type": "execute_result"
    }
   ],
   "source": [
    "from imblearn.over_sampling import SMOTE\n",
    "\n",
    "# Declare our oversampler\n",
    "oversampler = SMOTE(random_state=0, sampling_strategy=0.5)\n",
    "\n",
    "# Fit and oversample our data\n",
    "X_oversampled, y_oversampled = oversampler.fit_resample(X_unbalanced, y_unbalanced)\n",
    "\n",
    "# Rebuild the dataset\n",
    "oversampled_dataset = pd.concat([X_oversampled, y_oversampled], axis=1)\n",
    "oversampled_dataset.head()"
   ]
  },
  {
   "cell_type": "code",
   "execution_count": 229,
   "metadata": {},
   "outputs": [
    {
     "data": {
      "image/png": "[encoded data removed]",
      "text/plain": [
       "<Figure size 640x480 with 1 Axes>"
      ]
     },
     "metadata": {},
     "output_type": "display_data"
    },
    {
     "name": "stdout",
     "output_type": "stream",
     "text": [
      "Fraud percentage: 33.33310056353568\n"
     ]
    }
   ],
   "source": [
    "# Get FraudResult\n",
    "fraud_result = oversampled_dataset[['FraudResult']].copy()\n",
    "\n",
    "# Count the occurence of every value\n",
    "fraud_counts = fraud_result.value_counts()\n",
    "\n",
    "# Creating bar graph\n",
    "plt.bar(['Non-Fraud', 'Fraud'], fraud_counts)\n",
    " \n",
    "# Show plot\n",
    "plt.show()\n",
    "\n",
    "# Compute the percentage value of fraud\n",
    "fraud_percentage = (oversampled_dataset['FraudResult'].sum() / len(oversampled_dataset)) * 100.0\n",
    "\n",
    "print(f'Fraud percentage: {fraud_percentage}')"
   ]
  },
  {
   "attachments": {},
   "cell_type": "markdown",
   "metadata": {},
   "source": [
    "Now our dataset is balanced and we can start the training of our model.\n",
    "\n",
    "Oversampling a dataset allows to rebalance it. However, if we oversample, we may cause overfitting on the minority class which will lead to bad results on new data. This can also cause data leakage because it is possible that one of our rows is actually in the validation set."
   ]
  },
  {
   "attachments": {},
   "cell_type": "markdown",
   "metadata": {},
   "source": [
    "# Set our data for the model\n",
    "\n",
    "The analysis being finished, we can now predict our model. But first, we have to apply our features engineering on our training set."
   ]
  },
  {
   "cell_type": "code",
   "execution_count": 230,
   "metadata": {},
   "outputs": [],
   "source": [
    "COLS_TO_USE = ['Amount', 'TransactionStartTime', 'ProductCategory', 'ChannelId', 'Value', 'PricingStrategy', 'CustomerId', 'ProviderId']\n",
    "\n",
    "def prepare_dataset(data_source):\n",
    "    dataset = data_source[COLS_TO_USE].copy()\n",
    "\n",
    "    # Apply data transformation\n",
    "    dataset = get_value_per_customer(dataset)\n",
    "    dataset = apply_payment_way(dataset)\n",
    "    dataset = apply_transaction_start_date(dataset)\n",
    "    dataset = apply_cluster_hour(dataset)\n",
    "\n",
    "    # Drop useless features\n",
    "    dataset.drop(columns=['CustomerId', 'ProviderId', 'TransactionWeekDay'], inplace=True)\n",
    "\n",
    "    return dataset"
   ]
  },
  {
   "cell_type": "code",
   "execution_count": 231,
   "metadata": {},
   "outputs": [],
   "source": [
    "from sklearn.model_selection import train_test_split\n",
    "\n",
    "# Category where apply a One-Hot encoding\n",
    "categorical_cols = ['PaymentWay', 'PricingStrategy', 'TransactionMonth', 'TransactionHour', 'ProductCategory', 'ChannelId']\n",
    "\n",
    "\n",
    "# Check my dataset\n",
    "X = prepare_dataset(training_data)\n",
    "y = training_data['FraudResult']\n",
    "\n",
    "# Apply One-Hot encoding\n",
    "X = pd.get_dummies(data=X, columns=categorical_cols)\n",
    "\n",
    "# Stratified\n",
    "X_train, X_test, y_train, y_test = train_test_split(X, y, train_size=0.8, test_size=0.2, random_state=0, stratify=y)"
   ]
  },
  {
   "cell_type": "code",
   "execution_count": 232,
   "metadata": {},
   "outputs": [
    {
     "data": {
      "text/html": [
       "<div>\n",
       "<style scoped>\n",
       "    .dataframe tbody tr th:only-of-type {\n",
       "        vertical-align: middle;\n",
       "    }\n",
       "\n",
       "    .dataframe tbody tr th {\n",
       "        vertical-align: top;\n",
       "    }\n",
       "\n",
       "    .dataframe thead th {\n",
       "        text-align: right;\n",
       "    }\n",
       "</style>\n",
       "<table border=\"1\" class=\"dataframe\">\n",
       "  <thead>\n",
       "    <tr style=\"text-align: right;\">\n",
       "      <th></th>\n",
       "      <th>Value</th>\n",
       "      <th>ValuePerCustomer</th>\n",
       "      <th>PaymentWay_credit</th>\n",
       "      <th>PaymentWay_debit</th>\n",
       "      <th>PricingStrategy_0</th>\n",
       "      <th>PricingStrategy_1</th>\n",
       "      <th>PricingStrategy_2</th>\n",
       "      <th>PricingStrategy_4</th>\n",
       "      <th>TransactionMonth_1</th>\n",
       "      <th>TransactionMonth_2</th>\n",
       "      <th>...</th>\n",
       "      <th>ProductCategory_movies</th>\n",
       "      <th>ProductCategory_other</th>\n",
       "      <th>ProductCategory_ticket</th>\n",
       "      <th>ProductCategory_transport</th>\n",
       "      <th>ProductCategory_tv</th>\n",
       "      <th>ProductCategory_utility_bill</th>\n",
       "      <th>ChannelId_ChannelId_1</th>\n",
       "      <th>ChannelId_ChannelId_2</th>\n",
       "      <th>ChannelId_ChannelId_3</th>\n",
       "      <th>ChannelId_ChannelId_5</th>\n",
       "    </tr>\n",
       "    <tr>\n",
       "      <th>TransactionId</th>\n",
       "      <th></th>\n",
       "      <th></th>\n",
       "      <th></th>\n",
       "      <th></th>\n",
       "      <th></th>\n",
       "      <th></th>\n",
       "      <th></th>\n",
       "      <th></th>\n",
       "      <th></th>\n",
       "      <th></th>\n",
       "      <th></th>\n",
       "      <th></th>\n",
       "      <th></th>\n",
       "      <th></th>\n",
       "      <th></th>\n",
       "      <th></th>\n",
       "      <th></th>\n",
       "      <th></th>\n",
       "      <th></th>\n",
       "      <th></th>\n",
       "      <th></th>\n",
       "    </tr>\n",
       "  </thead>\n",
       "  <tbody>\n",
       "    <tr>\n",
       "      <th>TransactionId_10839</th>\n",
       "      <td>50</td>\n",
       "      <td>105820.0</td>\n",
       "      <td>True</td>\n",
       "      <td>False</td>\n",
       "      <td>False</td>\n",
       "      <td>False</td>\n",
       "      <td>True</td>\n",
       "      <td>False</td>\n",
       "      <td>True</td>\n",
       "      <td>False</td>\n",
       "      <td>...</td>\n",
       "      <td>False</td>\n",
       "      <td>False</td>\n",
       "      <td>False</td>\n",
       "      <td>False</td>\n",
       "      <td>False</td>\n",
       "      <td>False</td>\n",
       "      <td>False</td>\n",
       "      <td>True</td>\n",
       "      <td>False</td>\n",
       "      <td>False</td>\n",
       "    </tr>\n",
       "    <tr>\n",
       "      <th>TransactionId_115893</th>\n",
       "      <td>20000</td>\n",
       "      <td>40000.0</td>\n",
       "      <td>False</td>\n",
       "      <td>True</td>\n",
       "      <td>False</td>\n",
       "      <td>False</td>\n",
       "      <td>True</td>\n",
       "      <td>False</td>\n",
       "      <td>False</td>\n",
       "      <td>False</td>\n",
       "      <td>...</td>\n",
       "      <td>False</td>\n",
       "      <td>False</td>\n",
       "      <td>False</td>\n",
       "      <td>False</td>\n",
       "      <td>False</td>\n",
       "      <td>False</td>\n",
       "      <td>False</td>\n",
       "      <td>False</td>\n",
       "      <td>True</td>\n",
       "      <td>False</td>\n",
       "    </tr>\n",
       "    <tr>\n",
       "      <th>TransactionId_28380</th>\n",
       "      <td>392</td>\n",
       "      <td>171434.0</td>\n",
       "      <td>True</td>\n",
       "      <td>False</td>\n",
       "      <td>False</td>\n",
       "      <td>False</td>\n",
       "      <td>True</td>\n",
       "      <td>False</td>\n",
       "      <td>False</td>\n",
       "      <td>True</td>\n",
       "      <td>...</td>\n",
       "      <td>False</td>\n",
       "      <td>False</td>\n",
       "      <td>False</td>\n",
       "      <td>False</td>\n",
       "      <td>False</td>\n",
       "      <td>False</td>\n",
       "      <td>False</td>\n",
       "      <td>True</td>\n",
       "      <td>False</td>\n",
       "      <td>False</td>\n",
       "    </tr>\n",
       "    <tr>\n",
       "      <th>TransactionId_114004</th>\n",
       "      <td>500</td>\n",
       "      <td>1510.0</td>\n",
       "      <td>False</td>\n",
       "      <td>True</td>\n",
       "      <td>False</td>\n",
       "      <td>False</td>\n",
       "      <td>False</td>\n",
       "      <td>True</td>\n",
       "      <td>True</td>\n",
       "      <td>False</td>\n",
       "      <td>...</td>\n",
       "      <td>False</td>\n",
       "      <td>False</td>\n",
       "      <td>False</td>\n",
       "      <td>False</td>\n",
       "      <td>False</td>\n",
       "      <td>False</td>\n",
       "      <td>True</td>\n",
       "      <td>False</td>\n",
       "      <td>False</td>\n",
       "      <td>False</td>\n",
       "    </tr>\n",
       "    <tr>\n",
       "      <th>TransactionId_3471</th>\n",
       "      <td>50</td>\n",
       "      <td>1171282.0</td>\n",
       "      <td>True</td>\n",
       "      <td>False</td>\n",
       "      <td>False</td>\n",
       "      <td>False</td>\n",
       "      <td>True</td>\n",
       "      <td>False</td>\n",
       "      <td>False</td>\n",
       "      <td>True</td>\n",
       "      <td>...</td>\n",
       "      <td>False</td>\n",
       "      <td>False</td>\n",
       "      <td>False</td>\n",
       "      <td>False</td>\n",
       "      <td>False</td>\n",
       "      <td>False</td>\n",
       "      <td>False</td>\n",
       "      <td>True</td>\n",
       "      <td>False</td>\n",
       "      <td>False</td>\n",
       "    </tr>\n",
       "  </tbody>\n",
       "</table>\n",
       "<p>5 rows × 28 columns</p>\n",
       "</div>"
      ],
      "text/plain": [
       "                      Value  ValuePerCustomer  PaymentWay_credit   \n",
       "TransactionId                                                      \n",
       "TransactionId_10839      50          105820.0               True  \\\n",
       "TransactionId_115893  20000           40000.0              False   \n",
       "TransactionId_28380     392          171434.0               True   \n",
       "TransactionId_114004    500            1510.0              False   \n",
       "TransactionId_3471       50         1171282.0               True   \n",
       "\n",
       "                      PaymentWay_debit  PricingStrategy_0  PricingStrategy_1   \n",
       "TransactionId                                                                  \n",
       "TransactionId_10839              False              False              False  \\\n",
       "TransactionId_115893              True              False              False   \n",
       "TransactionId_28380              False              False              False   \n",
       "TransactionId_114004              True              False              False   \n",
       "TransactionId_3471               False              False              False   \n",
       "\n",
       "                      PricingStrategy_2  PricingStrategy_4   \n",
       "TransactionId                                                \n",
       "TransactionId_10839                True              False  \\\n",
       "TransactionId_115893               True              False   \n",
       "TransactionId_28380                True              False   \n",
       "TransactionId_114004              False               True   \n",
       "TransactionId_3471                 True              False   \n",
       "\n",
       "                      TransactionMonth_1  TransactionMonth_2  ...   \n",
       "TransactionId                                                 ...   \n",
       "TransactionId_10839                 True               False  ...  \\\n",
       "TransactionId_115893               False               False  ...   \n",
       "TransactionId_28380                False                True  ...   \n",
       "TransactionId_114004                True               False  ...   \n",
       "TransactionId_3471                 False                True  ...   \n",
       "\n",
       "                      ProductCategory_movies  ProductCategory_other   \n",
       "TransactionId                                                         \n",
       "TransactionId_10839                    False                  False  \\\n",
       "TransactionId_115893                   False                  False   \n",
       "TransactionId_28380                    False                  False   \n",
       "TransactionId_114004                   False                  False   \n",
       "TransactionId_3471                     False                  False   \n",
       "\n",
       "                      ProductCategory_ticket  ProductCategory_transport   \n",
       "TransactionId                                                             \n",
       "TransactionId_10839                    False                      False  \\\n",
       "TransactionId_115893                   False                      False   \n",
       "TransactionId_28380                    False                      False   \n",
       "TransactionId_114004                   False                      False   \n",
       "TransactionId_3471                     False                      False   \n",
       "\n",
       "                      ProductCategory_tv  ProductCategory_utility_bill   \n",
       "TransactionId                                                            \n",
       "TransactionId_10839                False                         False  \\\n",
       "TransactionId_115893               False                         False   \n",
       "TransactionId_28380                False                         False   \n",
       "TransactionId_114004               False                         False   \n",
       "TransactionId_3471                 False                         False   \n",
       "\n",
       "                      ChannelId_ChannelId_1  ChannelId_ChannelId_2   \n",
       "TransactionId                                                        \n",
       "TransactionId_10839                   False                   True  \\\n",
       "TransactionId_115893                  False                  False   \n",
       "TransactionId_28380                   False                   True   \n",
       "TransactionId_114004                   True                  False   \n",
       "TransactionId_3471                    False                   True   \n",
       "\n",
       "                      ChannelId_ChannelId_3  ChannelId_ChannelId_5  \n",
       "TransactionId                                                       \n",
       "TransactionId_10839                   False                  False  \n",
       "TransactionId_115893                   True                  False  \n",
       "TransactionId_28380                   False                  False  \n",
       "TransactionId_114004                  False                  False  \n",
       "TransactionId_3471                    False                  False  \n",
       "\n",
       "[5 rows x 28 columns]"
      ]
     },
     "execution_count": 232,
     "metadata": {},
     "output_type": "execute_result"
    }
   ],
   "source": [
    "X_train.head()"
   ]
  },
  {
   "cell_type": "code",
   "execution_count": 233,
   "metadata": {},
   "outputs": [
    {
     "data": {
      "text/plain": [
       "TransactionId\n",
       "TransactionId_10839     0\n",
       "TransactionId_115893    0\n",
       "TransactionId_28380     0\n",
       "TransactionId_114004    0\n",
       "TransactionId_3471      0\n",
       "Name: FraudResult, dtype: int64"
      ]
     },
     "execution_count": 233,
     "metadata": {},
     "output_type": "execute_result"
    }
   ],
   "source": [
    "y_train.head()"
   ]
  },
  {
   "attachments": {},
   "cell_type": "markdown",
   "metadata": {},
   "source": [
    "# Create the model\n",
    "\n",
    "Now that our data is ready to be computed, let's define our model.\n",
    "\n",
    "Here, we will make the comparison between 3 models:\n",
    "\n",
    " * **DecisionTreeClassifier**\n",
    " * **RandomForestClassifier**\n",
    " * **GradientBoostingClassifier**\n",
    "\n",
    "For each model, we will optimize its hyperparameters using `GridSearchCV`."
   ]
  },
  {
   "attachments": {},
   "cell_type": "markdown",
   "metadata": {},
   "source": [
    "# DecisionTreeClassifier\n",
    "\n",
    " It is a tree-like model that predicts the value of a target variable based on a set of input features."
   ]
  },
  {
   "cell_type": "code",
   "execution_count": 234,
   "metadata": {},
   "outputs": [],
   "source": [
    "from sklearn.model_selection import GridSearchCV\n",
    "from sklearn.tree import DecisionTreeClassifier\n",
    "\n",
    "parameters = {\n",
    "    \"max_depth\": [10, 20, 30, 40, 50, 60, 70],\n",
    "}\n",
    "\n",
    "grid_search_dtc = GridSearchCV(DecisionTreeClassifier(random_state=0), param_grid = parameters , scoring = 'f1', cv = 3, n_jobs = 2,)\n",
    "grid_scores_dtc = grid_search_dtc.fit(X_train , y_train)"
   ]
  },
  {
   "cell_type": "code",
   "execution_count": 235,
   "metadata": {},
   "outputs": [
    {
     "name": "stdout",
     "output_type": "stream",
     "text": [
      "DecisionTreeClassifier(max_depth=10, random_state=0)\n",
      "0.8937477555124613\n",
      "{'max_depth': 10}\n"
     ]
    }
   ],
   "source": [
    "print(grid_search_dtc.best_estimator_)\n",
    "print(grid_search_dtc.best_score_)\n",
    "print(grid_search_dtc.best_params_)"
   ]
  },
  {
   "attachments": {},
   "cell_type": "markdown",
   "metadata": {},
   "source": [
    "## RandomForestClassifier\n",
    "\n",
    "It is based on the concept of decision trees and combines multiple decision trees to make more accurate predictions."
   ]
  },
  {
   "cell_type": "code",
   "execution_count": 237,
   "metadata": {},
   "outputs": [],
   "source": [
    "from sklearn.model_selection import GridSearchCV\n",
    "from sklearn.ensemble import RandomForestClassifier\n",
    "\n",
    "parameters = {\n",
    "    \"n_estimators\": [10, 50, 100, 150],\n",
    "    \"max_depth\": [10, 20, 30, 40, 50],\n",
    "}\n",
    "\n",
    "grid_search_rf = GridSearchCV(RandomForestClassifier(random_state=0), param_grid = parameters , scoring = 'f1', cv = 5, n_jobs = 2,)\n",
    "grid_scores_rf = grid_search_rf.fit(X_train , y_train)"
   ]
  },
  {
   "cell_type": "code",
   "execution_count": 238,
   "metadata": {},
   "outputs": [
    {
     "name": "stdout",
     "output_type": "stream",
     "text": [
      "RandomForestClassifier(max_depth=20, n_estimators=50, random_state=0)\n",
      "0.8507031112286269\n",
      "{'max_depth': 20, 'n_estimators': 50}\n"
     ]
    }
   ],
   "source": [
    "print(grid_scores_rf.best_estimator_)\n",
    "print(grid_scores_rf.best_score_)\n",
    "print(grid_scores_rf.best_params_)"
   ]
  },
  {
   "attachments": {},
   "cell_type": "markdown",
   "metadata": {},
   "source": [
    "# GradientBoostingClassifier\n",
    "\n",
    "Gradient boosting is an iterative technique that tries to minimize the loss function by adding a new model at each iteration that predicts the residual errors of the previous model. "
   ]
  },
  {
   "cell_type": "code",
   "execution_count": 252,
   "metadata": {},
   "outputs": [],
   "source": [
    "from sklearn.model_selection import GridSearchCV\n",
    "from sklearn.ensemble import GradientBoostingClassifier\n",
    "\n",
    "\n",
    "parameters = {\n",
    "    \"n_estimators\": [50, 100, 150],\n",
    "    \"max_depth\": [20, 30, 40],\n",
    "    \"learning_rate\": [0.01, 0.1, 0.2]\n",
    "}\n",
    "\n",
    "grid_search_gbc = GridSearchCV(GradientBoostingClassifier(random_state=0), param_grid = parameters , scoring = 'f1', cv = 3, n_jobs = 2,)\n",
    "grid_scores_gbc = grid_search_gbc.fit(X_train , y_train)"
   ]
  },
  {
   "cell_type": "code",
   "execution_count": 253,
   "metadata": {},
   "outputs": [
    {
     "name": "stdout",
     "output_type": "stream",
     "text": [
      "GradientBoostingClassifier(learning_rate=0.01, max_depth=20, n_estimators=50,\n",
      "                           random_state=0)\n",
      "0.9048081278716108\n",
      "{'learning_rate': 0.01, 'max_depth': 20, 'n_estimators': 50}\n"
     ]
    }
   ],
   "source": [
    "print(grid_search_gbc.best_estimator_)\n",
    "print(grid_search_gbc.best_score_)\n",
    "print(grid_search_gbc.best_params_)"
   ]
  },
  {
   "attachments": {},
   "cell_type": "markdown",
   "metadata": {},
   "source": [
    "## Model\n",
    "\n",
    "For the model, I choose to use the RandomForestClassifier because it is better suited for categorical data than the two others."
   ]
  },
  {
   "cell_type": "code",
   "execution_count": 245,
   "metadata": {},
   "outputs": [],
   "source": [
    "from imblearn.pipeline import Pipeline\n",
    "from imblearn.over_sampling import SMOTE\n",
    "\n",
    "\n",
    "pipeline = Pipeline([\n",
    "    ('smote', SMOTE(random_state=0, sampling_strategy=0.25)),\n",
    "    ('model', grid_search_rf.best_estimator_),\n",
    "])\n"
   ]
  },
  {
   "attachments": {},
   "cell_type": "markdown",
   "metadata": {},
   "source": [
    "## Train the model\n",
    "\n",
    "We train our model with the training dataset."
   ]
  },
  {
   "cell_type": "code",
   "execution_count": 246,
   "metadata": {},
   "outputs": [
    {
     "data": {
      "text/html": [
       "<style>#sk-container-id-17 {color: black;background-color: white;}#sk-container-id-17 pre{padding: 0;}#sk-container-id-17 div.sk-toggleable {background-color: white;}#sk-container-id-17 label.sk-toggleable__label {cursor: pointer;display: block;width: 100%;margin-bottom: 0;padding: 0.3em;box-sizing: border-box;text-align: center;}#sk-container-id-17 label.sk-toggleable__label-arrow:before {content: \"▸\";float: left;margin-right: 0.25em;color: #696969;}#sk-container-id-17 label.sk-toggleable__label-arrow:hover:before {color: black;}#sk-container-id-17 div.sk-estimator:hover label.sk-toggleable__label-arrow:before {color: black;}#sk-container-id-17 div.sk-toggleable__content {max-height: 0;max-width: 0;overflow: hidden;text-align: left;background-color: #f0f8ff;}#sk-container-id-17 div.sk-toggleable__content pre {margin: 0.2em;color: black;border-radius: 0.25em;background-color: #f0f8ff;}#sk-container-id-17 input.sk-toggleable__control:checked~div.sk-toggleable__content {max-height: 200px;max-width: 100%;overflow: auto;}#sk-container-id-17 input.sk-toggleable__control:checked~label.sk-toggleable__label-arrow:before {content: \"▾\";}#sk-container-id-17 div.sk-estimator input.sk-toggleable__control:checked~label.sk-toggleable__label {background-color: #d4ebff;}#sk-container-id-17 div.sk-label input.sk-toggleable__control:checked~label.sk-toggleable__label {background-color: #d4ebff;}#sk-container-id-17 input.sk-hidden--visually {border: 0;clip: rect(1px 1px 1px 1px);clip: rect(1px, 1px, 1px, 1px);height: 1px;margin: -1px;overflow: hidden;padding: 0;position: absolute;width: 1px;}#sk-container-id-17 div.sk-estimator {font-family: monospace;background-color: #f0f8ff;border: 1px dotted black;border-radius: 0.25em;box-sizing: border-box;margin-bottom: 0.5em;}#sk-container-id-17 div.sk-estimator:hover {background-color: #d4ebff;}#sk-container-id-17 div.sk-parallel-item::after {content: \"\";width: 100%;border-bottom: 1px solid gray;flex-grow: 1;}#sk-container-id-17 div.sk-label:hover label.sk-toggleable__label {background-color: #d4ebff;}#sk-container-id-17 div.sk-serial::before {content: \"\";position: absolute;border-left: 1px solid gray;box-sizing: border-box;top: 0;bottom: 0;left: 50%;z-index: 0;}#sk-container-id-17 div.sk-serial {display: flex;flex-direction: column;align-items: center;background-color: white;padding-right: 0.2em;padding-left: 0.2em;position: relative;}#sk-container-id-17 div.sk-item {position: relative;z-index: 1;}#sk-container-id-17 div.sk-parallel {display: flex;align-items: stretch;justify-content: center;background-color: white;position: relative;}#sk-container-id-17 div.sk-item::before, #sk-container-id-17 div.sk-parallel-item::before {content: \"\";position: absolute;border-left: 1px solid gray;box-sizing: border-box;top: 0;bottom: 0;left: 50%;z-index: -1;}#sk-container-id-17 div.sk-parallel-item {display: flex;flex-direction: column;z-index: 1;position: relative;background-color: white;}#sk-container-id-17 div.sk-parallel-item:first-child::after {align-self: flex-end;width: 50%;}#sk-container-id-17 div.sk-parallel-item:last-child::after {align-self: flex-start;width: 50%;}#sk-container-id-17 div.sk-parallel-item:only-child::after {width: 0;}#sk-container-id-17 div.sk-dashed-wrapped {border: 1px dashed gray;margin: 0 0.4em 0.5em 0.4em;box-sizing: border-box;padding-bottom: 0.4em;background-color: white;}#sk-container-id-17 div.sk-label label {font-family: monospace;font-weight: bold;display: inline-block;line-height: 1.2em;}#sk-container-id-17 div.sk-label-container {text-align: center;}#sk-container-id-17 div.sk-container {/* jupyter's `normalize.less` sets `[hidden] { display: none; }` but bootstrap.min.css set `[hidden] { display: none !important; }` so we also need the `!important` here to be able to override the default hidden behavior on the sphinx rendered scikit-learn.org. See: https://github.com/scikit-learn/scikit-learn/issues/21755 */display: inline-block !important;position: relative;}#sk-container-id-17 div.sk-text-repr-fallback {display: none;}</style><div id=\"sk-container-id-17\" class=\"sk-top-container\"><div class=\"sk-text-repr-fallback\"><pre>Pipeline(steps=[(&#x27;smote&#x27;, SMOTE(random_state=0, sampling_strategy=0.25)),\n",
       "                (&#x27;model&#x27;,\n",
       "                 RandomForestClassifier(max_depth=20, n_estimators=50,\n",
       "                                        random_state=0))])</pre><b>In a Jupyter environment, please rerun this cell to show the HTML representation or trust the notebook. <br />On GitHub, the HTML representation is unable to render, please try loading this page with nbviewer.org.</b></div><div class=\"sk-container\" hidden><div class=\"sk-item sk-dashed-wrapped\"><div class=\"sk-label-container\"><div class=\"sk-label sk-toggleable\"><input class=\"sk-toggleable__control sk-hidden--visually\" id=\"sk-estimator-id-35\" type=\"checkbox\" ><label for=\"sk-estimator-id-35\" class=\"sk-toggleable__label sk-toggleable__label-arrow\">Pipeline</label><div class=\"sk-toggleable__content\"><pre>Pipeline(steps=[(&#x27;smote&#x27;, SMOTE(random_state=0, sampling_strategy=0.25)),\n",
       "                (&#x27;model&#x27;,\n",
       "                 RandomForestClassifier(max_depth=20, n_estimators=50,\n",
       "                                        random_state=0))])</pre></div></div></div><div class=\"sk-serial\"><div class=\"sk-item\"><div class=\"sk-estimator sk-toggleable\"><input class=\"sk-toggleable__control sk-hidden--visually\" id=\"sk-estimator-id-36\" type=\"checkbox\" ><label for=\"sk-estimator-id-36\" class=\"sk-toggleable__label sk-toggleable__label-arrow\">SMOTE</label><div class=\"sk-toggleable__content\"><pre>SMOTE(random_state=0, sampling_strategy=0.25)</pre></div></div></div><div class=\"sk-item\"><div class=\"sk-estimator sk-toggleable\"><input class=\"sk-toggleable__control sk-hidden--visually\" id=\"sk-estimator-id-37\" type=\"checkbox\" ><label for=\"sk-estimator-id-37\" class=\"sk-toggleable__label sk-toggleable__label-arrow\">RandomForestClassifier</label><div class=\"sk-toggleable__content\"><pre>RandomForestClassifier(max_depth=20, n_estimators=50, random_state=0)</pre></div></div></div></div></div></div></div>"
      ],
      "text/plain": [
       "Pipeline(steps=[('smote', SMOTE(random_state=0, sampling_strategy=0.25)),\n",
       "                ('model',\n",
       "                 RandomForestClassifier(max_depth=20, n_estimators=50,\n",
       "                                        random_state=0))])"
      ]
     },
     "execution_count": 246,
     "metadata": {},
     "output_type": "execute_result"
    }
   ],
   "source": [
    "pipeline.fit(X_train, y_train)"
   ]
  },
  {
   "attachments": {},
   "cell_type": "markdown",
   "metadata": {},
   "source": [
    "## Validation\n",
    "\n",
    "We validate our model by comparing our data with the validation set. We calculate the `f1 score` to have an idea of the accuracy of our model\n",
    "\n",
    "> Note: We use `f1 score` because it is suited for binary classification"
   ]
  },
  {
   "attachments": {},
   "cell_type": "markdown",
   "metadata": {},
   "source": [
    "We check the model prediction score. We take `F1 score` because it reflect a score for binary classification."
   ]
  },
  {
   "cell_type": "code",
   "execution_count": 247,
   "metadata": {},
   "outputs": [
    {
     "name": "stdout",
     "output_type": "stream",
     "text": [
      "0.8\n"
     ]
    }
   ],
   "source": [
    "from sklearn.metrics import f1_score\n",
    "\n",
    "preds = pipeline.predict(X_test)\n",
    "\n",
    "print(f1_score(y_test, preds))"
   ]
  },
  {
   "attachments": {},
   "cell_type": "markdown",
   "metadata": {},
   "source": [
    "# Test dataset\n",
    "\n",
    "Now that we have our model, we can predict the `FraudResult` of the test dataset ad submit it to [Xente](https://zindi.africa/competitions/xente-fraud-detection-challenge/submissions).\n",
    "\n",
    "We first load the data from [test.csv](./data/test.csv) and prepare the dataset."
   ]
  },
  {
   "cell_type": "code",
   "execution_count": 248,
   "metadata": {},
   "outputs": [
    {
     "data": {
      "text/html": [
       "<div>\n",
       "<style scoped>\n",
       "    .dataframe tbody tr th:only-of-type {\n",
       "        vertical-align: middle;\n",
       "    }\n",
       "\n",
       "    .dataframe tbody tr th {\n",
       "        vertical-align: top;\n",
       "    }\n",
       "\n",
       "    .dataframe thead th {\n",
       "        text-align: right;\n",
       "    }\n",
       "</style>\n",
       "<table border=\"1\" class=\"dataframe\">\n",
       "  <thead>\n",
       "    <tr style=\"text-align: right;\">\n",
       "      <th></th>\n",
       "      <th>Value</th>\n",
       "      <th>ValuePerCustomer</th>\n",
       "      <th>PaymentWay_credit</th>\n",
       "      <th>PaymentWay_debit</th>\n",
       "      <th>PricingStrategy_0</th>\n",
       "      <th>PricingStrategy_1</th>\n",
       "      <th>PricingStrategy_2</th>\n",
       "      <th>PricingStrategy_4</th>\n",
       "      <th>TransactionMonth_1</th>\n",
       "      <th>TransactionMonth_2</th>\n",
       "      <th>...</th>\n",
       "      <th>ProductCategory_movies</th>\n",
       "      <th>ProductCategory_other</th>\n",
       "      <th>ProductCategory_ticket</th>\n",
       "      <th>ProductCategory_transport</th>\n",
       "      <th>ProductCategory_tv</th>\n",
       "      <th>ProductCategory_utility_bill</th>\n",
       "      <th>ChannelId_ChannelId_1</th>\n",
       "      <th>ChannelId_ChannelId_2</th>\n",
       "      <th>ChannelId_ChannelId_3</th>\n",
       "      <th>ChannelId_ChannelId_5</th>\n",
       "    </tr>\n",
       "    <tr>\n",
       "      <th>TransactionId</th>\n",
       "      <th></th>\n",
       "      <th></th>\n",
       "      <th></th>\n",
       "      <th></th>\n",
       "      <th></th>\n",
       "      <th></th>\n",
       "      <th></th>\n",
       "      <th></th>\n",
       "      <th></th>\n",
       "      <th></th>\n",
       "      <th></th>\n",
       "      <th></th>\n",
       "      <th></th>\n",
       "      <th></th>\n",
       "      <th></th>\n",
       "      <th></th>\n",
       "      <th></th>\n",
       "      <th></th>\n",
       "      <th></th>\n",
       "      <th></th>\n",
       "      <th></th>\n",
       "    </tr>\n",
       "  </thead>\n",
       "  <tbody>\n",
       "    <tr>\n",
       "      <th>TransactionId_50600</th>\n",
       "      <td>1000</td>\n",
       "      <td>10500.0</td>\n",
       "      <td>False</td>\n",
       "      <td>True</td>\n",
       "      <td>False</td>\n",
       "      <td>False</td>\n",
       "      <td>False</td>\n",
       "      <td>True</td>\n",
       "      <td>0.0</td>\n",
       "      <td>True</td>\n",
       "      <td>...</td>\n",
       "      <td>False</td>\n",
       "      <td>0.0</td>\n",
       "      <td>False</td>\n",
       "      <td>False</td>\n",
       "      <td>False</td>\n",
       "      <td>False</td>\n",
       "      <td>False</td>\n",
       "      <td>False</td>\n",
       "      <td>True</td>\n",
       "      <td>False</td>\n",
       "    </tr>\n",
       "    <tr>\n",
       "      <th>TransactionId_95109</th>\n",
       "      <td>2000</td>\n",
       "      <td>1072725.0</td>\n",
       "      <td>False</td>\n",
       "      <td>True</td>\n",
       "      <td>False</td>\n",
       "      <td>False</td>\n",
       "      <td>True</td>\n",
       "      <td>False</td>\n",
       "      <td>0.0</td>\n",
       "      <td>True</td>\n",
       "      <td>...</td>\n",
       "      <td>False</td>\n",
       "      <td>0.0</td>\n",
       "      <td>False</td>\n",
       "      <td>False</td>\n",
       "      <td>False</td>\n",
       "      <td>False</td>\n",
       "      <td>False</td>\n",
       "      <td>False</td>\n",
       "      <td>True</td>\n",
       "      <td>False</td>\n",
       "    </tr>\n",
       "    <tr>\n",
       "      <th>TransactionId_47357</th>\n",
       "      <td>50</td>\n",
       "      <td>10500.0</td>\n",
       "      <td>True</td>\n",
       "      <td>False</td>\n",
       "      <td>False</td>\n",
       "      <td>False</td>\n",
       "      <td>True</td>\n",
       "      <td>False</td>\n",
       "      <td>0.0</td>\n",
       "      <td>True</td>\n",
       "      <td>...</td>\n",
       "      <td>False</td>\n",
       "      <td>0.0</td>\n",
       "      <td>False</td>\n",
       "      <td>False</td>\n",
       "      <td>False</td>\n",
       "      <td>False</td>\n",
       "      <td>False</td>\n",
       "      <td>True</td>\n",
       "      <td>False</td>\n",
       "      <td>False</td>\n",
       "    </tr>\n",
       "    <tr>\n",
       "      <th>TransactionId_28185</th>\n",
       "      <td>3000</td>\n",
       "      <td>53240.0</td>\n",
       "      <td>False</td>\n",
       "      <td>True</td>\n",
       "      <td>False</td>\n",
       "      <td>False</td>\n",
       "      <td>False</td>\n",
       "      <td>True</td>\n",
       "      <td>0.0</td>\n",
       "      <td>True</td>\n",
       "      <td>...</td>\n",
       "      <td>False</td>\n",
       "      <td>0.0</td>\n",
       "      <td>False</td>\n",
       "      <td>False</td>\n",
       "      <td>False</td>\n",
       "      <td>False</td>\n",
       "      <td>False</td>\n",
       "      <td>False</td>\n",
       "      <td>True</td>\n",
       "      <td>False</td>\n",
       "    </tr>\n",
       "    <tr>\n",
       "      <th>TransactionId_22140</th>\n",
       "      <td>60</td>\n",
       "      <td>53240.0</td>\n",
       "      <td>True</td>\n",
       "      <td>False</td>\n",
       "      <td>False</td>\n",
       "      <td>False</td>\n",
       "      <td>True</td>\n",
       "      <td>False</td>\n",
       "      <td>0.0</td>\n",
       "      <td>True</td>\n",
       "      <td>...</td>\n",
       "      <td>False</td>\n",
       "      <td>0.0</td>\n",
       "      <td>False</td>\n",
       "      <td>False</td>\n",
       "      <td>False</td>\n",
       "      <td>False</td>\n",
       "      <td>False</td>\n",
       "      <td>True</td>\n",
       "      <td>False</td>\n",
       "      <td>False</td>\n",
       "    </tr>\n",
       "  </tbody>\n",
       "</table>\n",
       "<p>5 rows × 28 columns</p>\n",
       "</div>"
      ],
      "text/plain": [
       "                     Value  ValuePerCustomer  PaymentWay_credit   \n",
       "TransactionId                                                     \n",
       "TransactionId_50600   1000           10500.0              False  \\\n",
       "TransactionId_95109   2000         1072725.0              False   \n",
       "TransactionId_47357     50           10500.0               True   \n",
       "TransactionId_28185   3000           53240.0              False   \n",
       "TransactionId_22140     60           53240.0               True   \n",
       "\n",
       "                     PaymentWay_debit  PricingStrategy_0  PricingStrategy_1   \n",
       "TransactionId                                                                 \n",
       "TransactionId_50600              True              False              False  \\\n",
       "TransactionId_95109              True              False              False   \n",
       "TransactionId_47357             False              False              False   \n",
       "TransactionId_28185              True              False              False   \n",
       "TransactionId_22140             False              False              False   \n",
       "\n",
       "                     PricingStrategy_2  PricingStrategy_4  TransactionMonth_1   \n",
       "TransactionId                                                                   \n",
       "TransactionId_50600              False               True                 0.0  \\\n",
       "TransactionId_95109               True              False                 0.0   \n",
       "TransactionId_47357               True              False                 0.0   \n",
       "TransactionId_28185              False               True                 0.0   \n",
       "TransactionId_22140               True              False                 0.0   \n",
       "\n",
       "                     TransactionMonth_2  ...  ProductCategory_movies   \n",
       "TransactionId                            ...                           \n",
       "TransactionId_50600                True  ...                   False  \\\n",
       "TransactionId_95109                True  ...                   False   \n",
       "TransactionId_47357                True  ...                   False   \n",
       "TransactionId_28185                True  ...                   False   \n",
       "TransactionId_22140                True  ...                   False   \n",
       "\n",
       "                     ProductCategory_other  ProductCategory_ticket   \n",
       "TransactionId                                                        \n",
       "TransactionId_50600                    0.0                   False  \\\n",
       "TransactionId_95109                    0.0                   False   \n",
       "TransactionId_47357                    0.0                   False   \n",
       "TransactionId_28185                    0.0                   False   \n",
       "TransactionId_22140                    0.0                   False   \n",
       "\n",
       "                     ProductCategory_transport  ProductCategory_tv   \n",
       "TransactionId                                                        \n",
       "TransactionId_50600                      False               False  \\\n",
       "TransactionId_95109                      False               False   \n",
       "TransactionId_47357                      False               False   \n",
       "TransactionId_28185                      False               False   \n",
       "TransactionId_22140                      False               False   \n",
       "\n",
       "                     ProductCategory_utility_bill  ChannelId_ChannelId_1   \n",
       "TransactionId                                                              \n",
       "TransactionId_50600                         False                  False  \\\n",
       "TransactionId_95109                         False                  False   \n",
       "TransactionId_47357                         False                  False   \n",
       "TransactionId_28185                         False                  False   \n",
       "TransactionId_22140                         False                  False   \n",
       "\n",
       "                     ChannelId_ChannelId_2  ChannelId_ChannelId_3   \n",
       "TransactionId                                                       \n",
       "TransactionId_50600                  False                   True  \\\n",
       "TransactionId_95109                  False                   True   \n",
       "TransactionId_47357                   True                  False   \n",
       "TransactionId_28185                  False                   True   \n",
       "TransactionId_22140                   True                  False   \n",
       "\n",
       "                     ChannelId_ChannelId_5  \n",
       "TransactionId                               \n",
       "TransactionId_50600                  False  \n",
       "TransactionId_95109                  False  \n",
       "TransactionId_47357                  False  \n",
       "TransactionId_28185                  False  \n",
       "TransactionId_22140                  False  \n",
       "\n",
       "[5 rows x 28 columns]"
      ]
     },
     "execution_count": 248,
     "metadata": {},
     "output_type": "execute_result"
    }
   ],
   "source": [
    "# Path to the test data\n",
    "test_data_path = './data/test.csv'\n",
    "\n",
    "# Load test data\n",
    "test_data = pd.read_csv(test_data_path)\n",
    "\n",
    "# Set TransactionId as index\n",
    "test_data.set_index('TransactionId', inplace=True)\n",
    "\n",
    "# Get the target\n",
    "X_valid = prepare_dataset(test_data.copy())\n",
    "\n",
    "# Apply One-Hot encoding\n",
    "X_valid = pd.get_dummies(data=X_valid, columns=categorical_cols)\n",
    "\n",
    "# Remove the columns that are not in the training dataset\n",
    "X_valid.drop(columns=[col for col in X_valid.columns if col not in X_train.columns], inplace=True)\n",
    "\n",
    "# Add the columns that are missing from the training set\n",
    "for col in X_train.columns:\n",
    "    if col not in X_valid.columns:\n",
    "      X_valid.insert(X_valid.shape[1], col, pd.Series([0] * X_valid.shape[0]))\n",
    "      X_valid[col].fillna(0, inplace=True)\n",
    "\n",
    "# Set the same column order that in our training set\n",
    "X_valid = X_valid[X_train.columns]\n",
    "\n",
    "X_valid.head()"
   ]
  },
  {
   "attachments": {},
   "cell_type": "markdown",
   "metadata": {},
   "source": [
    "We make the prediction of the test dataset."
   ]
  },
  {
   "cell_type": "code",
   "execution_count": 249,
   "metadata": {},
   "outputs": [
    {
     "data": {
      "text/plain": [
       "0    0\n",
       "1    0\n",
       "2    0\n",
       "3    0\n",
       "4    0\n",
       "dtype: int64"
      ]
     },
     "execution_count": 249,
     "metadata": {},
     "output_type": "execute_result"
    }
   ],
   "source": [
    "pred = pd.Series(pipeline.predict(X_valid))\n",
    "\n",
    "pred.head()\n"
   ]
  },
  {
   "attachments": {},
   "cell_type": "markdown",
   "metadata": {},
   "source": [
    "We load our result into the submission file [my_submission.csv]('./data/my_submission.csv')."
   ]
  },
  {
   "cell_type": "code",
   "execution_count": 250,
   "metadata": {},
   "outputs": [],
   "source": [
    "# Path of the submission template file\n",
    "sample_submission_path = './data/sample_submission.csv'\n",
    "\n",
    "# Read data from file\n",
    "sample_submission =  pd.read_csv(sample_submission_path)\n",
    "\n",
    "# Add our result to the submission file\n",
    "sample_submission['FraudResult'] = pred\n",
    "\n",
    "# Write the result into our submission file\n",
    "sample_submission.to_csv('./data/my_submission.csv', index=False)"
   ]
  },
  {
   "attachments": {},
   "cell_type": "markdown",
   "metadata": {},
   "source": [
    "# Result\n",
    "\n",
    "Here is the result on Xente.\n",
    "\n",
    "![](./pictures/xente-result-last.png)\n",
    "\n",
    "For any reason, I have another result on my Windows laptop.\n",
    "\n",
    "![](./pictures/xente-result-windows.png)"
   ]
  }
 ],
 "metadata": {
  "kernelspec": {
   "display_name": "Python 3",
   "language": "python",
   "name": "python3"
  },
  "language_info": {
   "codemirror_mode": {
    "name": "ipython",
    "version": 3
   },
   "file_extension": ".py",
   "mimetype": "text/x-python",
   "name": "python",
   "nbconvert_exporter": "python",
   "pygments_lexer": "ipython3",
   "version": "3.11.1"
  },
  "orig_nbformat": 4
 },
 "nbformat": 4,
 "nbformat_minor": 2
}
