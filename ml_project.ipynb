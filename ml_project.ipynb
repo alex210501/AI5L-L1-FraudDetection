{
 "cells": [
  {
   "cell_type": "markdown",
   "metadata": {},
   "source": [
    "# Machine Learning - Project"
   ]
  },
  {
   "cell_type": "code",
   "execution_count": 1,
   "metadata": {},
   "outputs": [
    {
     "name": "stdout",
     "output_type": "stream",
     "text": [
      "Collecting imbalanced-learnNote: you may need to restart the kernel to use updated packages.\n",
      "\n",
      "  Downloading imbalanced_learn-0.10.1-py3-none-any.whl (226 kB)\n",
      "                                              0.0/226.0 kB ? eta -:--:--\n",
      "     -------------------------------------  225.3/226.0 kB 6.9 MB/s eta 0:00:01\n",
      "     -------------------------------------- 226.0/226.0 kB 4.6 MB/s eta 0:00:00\n",
      "Requirement already satisfied: numpy>=1.17.3 in c:\\python311\\lib\\site-packages (from imbalanced-learn) (1.24.3)\n",
      "Requirement already satisfied: scipy>=1.3.2 in c:\\python311\\lib\\site-packages (from imbalanced-learn) (1.10.1)\n",
      "Requirement already satisfied: scikit-learn>=1.0.2 in c:\\python311\\lib\\site-packages (from imbalanced-learn) (1.2.2)\n",
      "Requirement already satisfied: joblib>=1.1.1 in c:\\python311\\lib\\site-packages (from imbalanced-learn) (1.2.0)\n",
      "Requirement already satisfied: threadpoolctl>=2.0.0 in c:\\python311\\lib\\site-packages (from imbalanced-learn) (3.1.0)\n",
      "Installing collected packages: imbalanced-learn\n",
      "Successfully installed imbalanced-learn-0.10.1\n",
      "Requirement already satisfied: matplotlib in c:\\python311\\lib\\site-packages (3.7.1)\n",
      "Requirement already satisfied: contourpy>=1.0.1 in c:\\python311\\lib\\site-packages (from matplotlib) (1.0.7)\n",
      "Requirement already satisfied: cycler>=0.10 in c:\\python311\\lib\\site-packages (from matplotlib) (0.11.0)\n",
      "Requirement already satisfied: fonttools>=4.22.0 in c:\\python311\\lib\\site-packages (from matplotlib) (4.39.3)\n",
      "Requirement already satisfied: kiwisolver>=1.0.1 in c:\\python311\\lib\\site-packages (from matplotlib) (1.4.4)\n",
      "Requirement already satisfied: numpy>=1.20 in c:\\python311\\lib\\site-packages (from matplotlib) (1.24.3)\n",
      "Requirement already satisfied: packaging>=20.0 in c:\\users\\aleja\\appdata\\roaming\\python\\python311\\site-packages (from matplotlib) (23.1)\n",
      "Requirement already satisfied: pillow>=6.2.0 in c:\\python311\\lib\\site-packages (from matplotlib) (9.5.0)\n",
      "Requirement already satisfied: pyparsing>=2.3.1 in c:\\python311\\lib\\site-packages (from matplotlib) (3.0.9)\n",
      "Requirement already satisfied: python-dateutil>=2.7 in c:\\users\\aleja\\appdata\\roaming\\python\\python311\\site-packages (from matplotlib) (2.8.2)\n",
      "Requirement already satisfied: six>=1.5 in c:\\users\\aleja\\appdata\\roaming\\python\\python311\\site-packages (from python-dateutil>=2.7->matplotlib) (1.16.0)\n",
      "Note: you may need to restart the kernel to use updated packages.\n",
      "Requirement already satisfied: pandas in c:\\python311\\lib\\site-packages (2.0.1)\n",
      "Requirement already satisfied: python-dateutil>=2.8.2 in c:\\users\\aleja\\appdata\\roaming\\python\\python311\\site-packages (from pandas) (2.8.2)\n",
      "Requirement already satisfied: pytz>=2020.1 in c:\\python311\\lib\\site-packages (from pandas) (2023.3)\n",
      "Requirement already satisfied: tzdata>=2022.1 in c:\\python311\\lib\\site-packages (from pandas) (2023.3)\n",
      "Requirement already satisfied: numpy>=1.21.0 in c:\\python311\\lib\\site-packages (from pandas) (1.24.3)\n",
      "Requirement already satisfied: six>=1.5 in c:\\users\\aleja\\appdata\\roaming\\python\\python311\\site-packages (from python-dateutil>=2.8.2->pandas) (1.16.0)\n",
      "Note: you may need to restart the kernel to use updated packages.\n",
      "Requirement already satisfied: scikit-learn in c:\\python311\\lib\\site-packages (1.2.2)\n",
      "Requirement already satisfied: numpy>=1.17.3 in c:\\python311\\lib\\site-packages (from scikit-learn) (1.24.3)\n",
      "Requirement already satisfied: scipy>=1.3.2 in c:\\python311\\lib\\site-packages (from scikit-learn) (1.10.1)\n",
      "Requirement already satisfied: joblib>=1.1.1 in c:\\python311\\lib\\site-packages (from scikit-learn) (1.2.0)\n",
      "Requirement already satisfied: threadpoolctl>=2.0.0 in c:\\python311\\lib\\site-packages (from scikit-learn) (3.1.0)\n",
      "Note: you may need to restart the kernel to use updated packages.\n"
     ]
    }
   ],
   "source": [
    "%pip install imbalanced-learn\n",
    "%pip install matplotlib\n",
    "%pip install pandas\n",
    "%pip install scikit-learn\n",
    "\n",
    "from imblearn.over_sampling import SMOTE\n",
    "import matplotlib.pyplot as plt\n",
    "import numpy as np\n",
    "import pandas as pd"
   ]
  },
  {
   "attachments": {},
   "cell_type": "markdown",
   "metadata": {},
   "source": [
    "# Columns Definitions\n",
    "\n",
    "Here is the meaning of every columns explain in `Xente_Variable_Definitions.csv`.\n",
    "\n",
    " * **TransactionId**: Unique transaction identifier on platform\n",
    " * **BatchId**: Unique number assigned to a batch of transactions for processing\n",
    " * **AccountId**: Unique number identifying the customer on platform\n",
    " * **SubscriptionId**: Unique number identifying the customer subscription\n",
    " * **CustomerId**: Unique identifier attached to Account\n",
    " * **CurrencyCode**: Country currency\n",
    " * **CountryCode**: Numerical geographical code of country\n",
    " * **ProviderId**: Source provider of Item bought.\n",
    " * **ProductId**: Item name being bought.\n",
    " * **ProductCategory**: ProductIds are organized into these broader product categories.\n",
    " * **ChannelId**: Identifies if customer used web,Android, IOS, pay later or checkout.\n",
    " * **Amount**: Value of the transaction. Positive for debits from customer account and negative for credit into customer account\n",
    " * **Value**: Absolute value of the amount\n",
    " * **TransactionStartTime**: Transaction start time\n",
    " * **PricingStrategy**: Category of Xente's pricing structure for merchants\n",
    " * **FraudResult**: Fraud status of transaction 1 -yes or 0-No\n"
   ]
  },
  {
   "attachments": {},
   "cell_type": "markdown",
   "metadata": {},
   "source": [
    "# Load training data\n",
    "\n",
    "The first thing we do is to load the training data from `training.csv`."
   ]
  },
  {
   "cell_type": "code",
   "execution_count": 2,
   "metadata": {},
   "outputs": [
    {
     "data": {
      "text/html": [
       "<div>\n",
       "<style scoped>\n",
       "    .dataframe tbody tr th:only-of-type {\n",
       "        vertical-align: middle;\n",
       "    }\n",
       "\n",
       "    .dataframe tbody tr th {\n",
       "        vertical-align: top;\n",
       "    }\n",
       "\n",
       "    .dataframe thead th {\n",
       "        text-align: right;\n",
       "    }\n",
       "</style>\n",
       "<table border=\"1\" class=\"dataframe\">\n",
       "  <thead>\n",
       "    <tr style=\"text-align: right;\">\n",
       "      <th></th>\n",
       "      <th>BatchId</th>\n",
       "      <th>AccountId</th>\n",
       "      <th>SubscriptionId</th>\n",
       "      <th>CustomerId</th>\n",
       "      <th>CurrencyCode</th>\n",
       "      <th>CountryCode</th>\n",
       "      <th>ProviderId</th>\n",
       "      <th>ProductId</th>\n",
       "      <th>ProductCategory</th>\n",
       "      <th>ChannelId</th>\n",
       "      <th>Amount</th>\n",
       "      <th>Value</th>\n",
       "      <th>TransactionStartTime</th>\n",
       "      <th>PricingStrategy</th>\n",
       "      <th>FraudResult</th>\n",
       "    </tr>\n",
       "    <tr>\n",
       "      <th>TransactionId</th>\n",
       "      <th></th>\n",
       "      <th></th>\n",
       "      <th></th>\n",
       "      <th></th>\n",
       "      <th></th>\n",
       "      <th></th>\n",
       "      <th></th>\n",
       "      <th></th>\n",
       "      <th></th>\n",
       "      <th></th>\n",
       "      <th></th>\n",
       "      <th></th>\n",
       "      <th></th>\n",
       "      <th></th>\n",
       "      <th></th>\n",
       "    </tr>\n",
       "  </thead>\n",
       "  <tbody>\n",
       "    <tr>\n",
       "      <th>TransactionId_76871</th>\n",
       "      <td>BatchId_36123</td>\n",
       "      <td>AccountId_3957</td>\n",
       "      <td>SubscriptionId_887</td>\n",
       "      <td>CustomerId_4406</td>\n",
       "      <td>UGX</td>\n",
       "      <td>256</td>\n",
       "      <td>ProviderId_6</td>\n",
       "      <td>ProductId_10</td>\n",
       "      <td>airtime</td>\n",
       "      <td>ChannelId_3</td>\n",
       "      <td>1000.0</td>\n",
       "      <td>1000</td>\n",
       "      <td>2018-11-15T02:18:49Z</td>\n",
       "      <td>2</td>\n",
       "      <td>0</td>\n",
       "    </tr>\n",
       "    <tr>\n",
       "      <th>TransactionId_73770</th>\n",
       "      <td>BatchId_15642</td>\n",
       "      <td>AccountId_4841</td>\n",
       "      <td>SubscriptionId_3829</td>\n",
       "      <td>CustomerId_4406</td>\n",
       "      <td>UGX</td>\n",
       "      <td>256</td>\n",
       "      <td>ProviderId_4</td>\n",
       "      <td>ProductId_6</td>\n",
       "      <td>financial_services</td>\n",
       "      <td>ChannelId_2</td>\n",
       "      <td>-20.0</td>\n",
       "      <td>20</td>\n",
       "      <td>2018-11-15T02:19:08Z</td>\n",
       "      <td>2</td>\n",
       "      <td>0</td>\n",
       "    </tr>\n",
       "    <tr>\n",
       "      <th>TransactionId_26203</th>\n",
       "      <td>BatchId_53941</td>\n",
       "      <td>AccountId_4229</td>\n",
       "      <td>SubscriptionId_222</td>\n",
       "      <td>CustomerId_4683</td>\n",
       "      <td>UGX</td>\n",
       "      <td>256</td>\n",
       "      <td>ProviderId_6</td>\n",
       "      <td>ProductId_1</td>\n",
       "      <td>airtime</td>\n",
       "      <td>ChannelId_3</td>\n",
       "      <td>500.0</td>\n",
       "      <td>500</td>\n",
       "      <td>2018-11-15T02:44:21Z</td>\n",
       "      <td>2</td>\n",
       "      <td>0</td>\n",
       "    </tr>\n",
       "    <tr>\n",
       "      <th>TransactionId_380</th>\n",
       "      <td>BatchId_102363</td>\n",
       "      <td>AccountId_648</td>\n",
       "      <td>SubscriptionId_2185</td>\n",
       "      <td>CustomerId_988</td>\n",
       "      <td>UGX</td>\n",
       "      <td>256</td>\n",
       "      <td>ProviderId_1</td>\n",
       "      <td>ProductId_21</td>\n",
       "      <td>utility_bill</td>\n",
       "      <td>ChannelId_3</td>\n",
       "      <td>20000.0</td>\n",
       "      <td>21800</td>\n",
       "      <td>2018-11-15T03:32:55Z</td>\n",
       "      <td>2</td>\n",
       "      <td>0</td>\n",
       "    </tr>\n",
       "    <tr>\n",
       "      <th>TransactionId_28195</th>\n",
       "      <td>BatchId_38780</td>\n",
       "      <td>AccountId_4841</td>\n",
       "      <td>SubscriptionId_3829</td>\n",
       "      <td>CustomerId_988</td>\n",
       "      <td>UGX</td>\n",
       "      <td>256</td>\n",
       "      <td>ProviderId_4</td>\n",
       "      <td>ProductId_6</td>\n",
       "      <td>financial_services</td>\n",
       "      <td>ChannelId_2</td>\n",
       "      <td>-644.0</td>\n",
       "      <td>644</td>\n",
       "      <td>2018-11-15T03:34:21Z</td>\n",
       "      <td>2</td>\n",
       "      <td>0</td>\n",
       "    </tr>\n",
       "  </tbody>\n",
       "</table>\n",
       "</div>"
      ],
      "text/plain": [
       "                            BatchId       AccountId       SubscriptionId   \n",
       "TransactionId                                                              \n",
       "TransactionId_76871   BatchId_36123  AccountId_3957   SubscriptionId_887  \\\n",
       "TransactionId_73770   BatchId_15642  AccountId_4841  SubscriptionId_3829   \n",
       "TransactionId_26203   BatchId_53941  AccountId_4229   SubscriptionId_222   \n",
       "TransactionId_380    BatchId_102363   AccountId_648  SubscriptionId_2185   \n",
       "TransactionId_28195   BatchId_38780  AccountId_4841  SubscriptionId_3829   \n",
       "\n",
       "                          CustomerId CurrencyCode  CountryCode    ProviderId   \n",
       "TransactionId                                                                  \n",
       "TransactionId_76871  CustomerId_4406          UGX          256  ProviderId_6  \\\n",
       "TransactionId_73770  CustomerId_4406          UGX          256  ProviderId_4   \n",
       "TransactionId_26203  CustomerId_4683          UGX          256  ProviderId_6   \n",
       "TransactionId_380     CustomerId_988          UGX          256  ProviderId_1   \n",
       "TransactionId_28195   CustomerId_988          UGX          256  ProviderId_4   \n",
       "\n",
       "                        ProductId     ProductCategory    ChannelId   Amount   \n",
       "TransactionId                                                                 \n",
       "TransactionId_76871  ProductId_10             airtime  ChannelId_3   1000.0  \\\n",
       "TransactionId_73770   ProductId_6  financial_services  ChannelId_2    -20.0   \n",
       "TransactionId_26203   ProductId_1             airtime  ChannelId_3    500.0   \n",
       "TransactionId_380    ProductId_21        utility_bill  ChannelId_3  20000.0   \n",
       "TransactionId_28195   ProductId_6  financial_services  ChannelId_2   -644.0   \n",
       "\n",
       "                     Value  TransactionStartTime  PricingStrategy  FraudResult  \n",
       "TransactionId                                                                   \n",
       "TransactionId_76871   1000  2018-11-15T02:18:49Z                2            0  \n",
       "TransactionId_73770     20  2018-11-15T02:19:08Z                2            0  \n",
       "TransactionId_26203    500  2018-11-15T02:44:21Z                2            0  \n",
       "TransactionId_380    21800  2018-11-15T03:32:55Z                2            0  \n",
       "TransactionId_28195    644  2018-11-15T03:34:21Z                2            0  "
      ]
     },
     "execution_count": 2,
     "metadata": {},
     "output_type": "execute_result"
    }
   ],
   "source": [
    "training_data_path = './data/training.csv'\n",
    "\n",
    "# Read data from file\n",
    "training_data = pd.read_csv(training_data_path)\n",
    "\n",
    "# Set the 'TransactionId' as index\n",
    "training_data.set_index('TransactionId', inplace=True)\n",
    "\n",
    "training_data.head(5)"
   ]
  },
  {
   "attachments": {},
   "cell_type": "markdown",
   "metadata": {},
   "source": [
    "# Data analysis\n",
    "\n",
    "Now that we have our data loaded, we will analyse the differents data in order the get the best possible model."
   ]
  },
  {
   "attachments": {},
   "cell_type": "markdown",
   "metadata": {},
   "source": [
    "# Mutual Information\n",
    "\n",
    "First thing first, we will look at the relationship between every columns and the target value."
   ]
  },
  {
   "cell_type": "code",
   "execution_count": 3,
   "metadata": {},
   "outputs": [],
   "source": [
    "from sklearn.feature_selection import mutual_info_regression\n",
    "\n",
    "def make_mi_scores(X, y, discrete_features):\n",
    "    mi_scores = mutual_info_regression(X, y, discrete_features=discrete_features)\n",
    "    mi_scores = pd.Series(mi_scores, name=\"MI Scores\", index=X.columns)\n",
    "    mi_scores = mi_scores.sort_values(ascending=False)\n",
    "    return mi_scores"
   ]
  },
  {
   "cell_type": "code",
   "execution_count": 4,
   "metadata": {},
   "outputs": [
    {
     "data": {
      "text/plain": [
       "Amount                  0.011645\n",
       "Value                   0.011079\n",
       "AccountId               0.006800\n",
       "CustomerId              0.006321\n",
       "ProviderId              0.005667\n",
       "SubscriptionId          0.004313\n",
       "PricingStrategy         0.004020\n",
       "BatchId                 0.002715\n",
       "TransactionStartTime    0.002657\n",
       "ProductCategory         0.001648\n",
       "CurrencyCode            0.000000\n",
       "CountryCode             0.000000\n",
       "ProductId               0.000000\n",
       "ChannelId               0.000000\n",
       "Name: MI Scores, dtype: float64"
      ]
     },
     "execution_count": 4,
     "metadata": {},
     "output_type": "execute_result"
    }
   ],
   "source": [
    "# Define the datasets\n",
    "X = training_data.copy()\n",
    "y = X.pop('FraudResult')\n",
    "\n",
    "# Label encoding for categoricals\n",
    "for colname in X.select_dtypes(\"object\"):\n",
    "    X[colname], _ = X[colname].factorize()\n",
    "\n",
    "# Get the discrete features by checking that it is a int\n",
    "discrete_features = X.dtypes == int\n",
    "\n",
    "mi_scores = make_mi_scores(X, y, discrete_features)\n",
    "mi_scores\n"
   ]
  },
  {
   "cell_type": "code",
   "execution_count": 5,
   "metadata": {},
   "outputs": [
    {
     "data": {
      "image/png": "[encoded data removed]",
      "text/plain": [
       "<Figure size 800x500 with 1 Axes>"
      ]
     },
     "metadata": {},
     "output_type": "display_data"
    }
   ],
   "source": [
    "def plot_mi_scores(scores):\n",
    "    scores = scores.sort_values(ascending=True)\n",
    "    width = np.arange(len(scores))\n",
    "    ticks = list(scores.index)\n",
    "    plt.barh(width, scores)\n",
    "    plt.yticks(width, ticks)\n",
    "    plt.title(\"Mutual Information Scores\")\n",
    "\n",
    "\n",
    "plt.figure(dpi=100, figsize=(8, 5))\n",
    "plot_mi_scores(mi_scores)"
   ]
  },
  {
   "attachments": {},
   "cell_type": "markdown",
   "metadata": {},
   "source": [
    "As we can see in the plot, the `BatchId` is the most dominant columns. But we cannot take this one into account as it is a biased value due to the fact the the `BatchId`is only an identification for the transaction.\n",
    "\n",
    "Same for `CustomerId`, `AccountId` and `SubscriptionId`, because they refers to customers. We do not want to predict a fraud based on the customers habits.\n",
    "\n",
    "Based on what have been said before, here is the new Mutual Information removing the following columns: `BatchId`, `CustomerId`, `AccountId` and `SubscriptionId`."
   ]
  },
  {
   "cell_type": "code",
   "execution_count": 6,
   "metadata": {},
   "outputs": [
    {
     "data": {
      "image/png": "[encoded data removed]",
      "text/plain": [
       "<Figure size 800x500 with 1 Axes>"
      ]
     },
     "metadata": {},
     "output_type": "display_data"
    }
   ],
   "source": [
    "# Define columns to remove\n",
    "ColsToRemove = ['BatchId', 'CustomerId', 'AccountId', 'SubscriptionId']\n",
    "\n",
    "# Remove useless columns\n",
    "mi_scores_copy = mi_scores.drop(ColsToRemove)\n",
    "\n",
    "plt.figure(dpi=100, figsize=(8, 5))\n",
    "plot_mi_scores(mi_scores_copy)"
   ]
  },
  {
   "attachments": {},
   "cell_type": "markdown",
   "metadata": {},
   "source": [
    "## Transaction country\n",
    "\n",
    "First, we will attack with the columns `CurrencyCode` and `CountryCode`. Actually, they point to the same thing: from which country the transaction has been done. Thus, we can say that having both columns is redundant to estimate our model prediction.\n",
    "\n",
    "We will first look at the occurence of every country and then check its relationship with the target value."
   ]
  },
  {
   "cell_type": "code",
   "execution_count": 7,
   "metadata": {},
   "outputs": [
    {
     "name": "stdout",
     "output_type": "stream",
     "text": [
      "CurrencyCode\n",
      "UGX    95662\n",
      "Name: count, dtype: int64\n",
      "\n",
      "---\n",
      "\n",
      "CountryCode\n",
      "256    95662\n",
      "Name: count, dtype: int64\n"
     ]
    }
   ],
   "source": [
    "# Load CurrencyCode and CountryCode\n",
    "X_CurrencyCode = training_data['CurrencyCode']\n",
    "X_CountryCode = training_data['CountryCode']\n",
    "\n",
    "# Count occurence of each rows\n",
    "CurrencyCode_Occurences = X_CurrencyCode.value_counts()\n",
    "CountryCode_Occurences = X_CountryCode.value_counts()\n",
    "\n",
    "# Show information\n",
    "print(CurrencyCode_Occurences)\n",
    "print('\\n---\\n')\n",
    "print(CountryCode_Occurences)"
   ]
  },
  {
   "attachments": {},
   "cell_type": "markdown",
   "metadata": {},
   "source": [
    "As we can see, `CurrencyCode` and `CountryCode` has only one distinct value in all the dataset. Give that, we can say that this columns will not give any additional information to our model.\n",
    "\n",
    "Based on the Mutual Information calculated above, we can see than `CurrencyCode` and `CountryCode` are independent variables."
   ]
  },
  {
   "attachments": {},
   "cell_type": "markdown",
   "metadata": {},
   "source": [
    "## Transaction Start Time\n",
    "\n",
    "As information, we have `TransactionStartTime` and it is the transaction start time. It is written using the [ISO 8601](https://en.wikipedia.org/wiki/ISO_8601) date format. In this form, we cannot exploit the data in our model.\n",
    "\n",
    "From the date, we can take some interesting information such as:\n",
    " * Day of the week\n",
    " * Month\n",
    " * Period of the year\n",
    "\n",
    "By retrieving this information, we can try to visualise if the fraud is something periodically, that happens on certain week day, ...\n",
    "\n",
    "Given that, our first step will be to preprocessing our data and create 2 new columns: `TransactionWeekDay` and `TransactionMonth.`\n",
    "\n",
    " * **TransactionWeekDay**: 0 - 6\n",
    " * **TransactionMonth**: 0 - 11"
   ]
  },
  {
   "cell_type": "code",
   "execution_count": 8,
   "metadata": {},
   "outputs": [],
   "source": [
    "from datetime import datetime\n",
    "import re\n",
    "\n",
    "def date_to_weekday_month(row):\n",
    "    date, hour, _ = re.split('Z|T', row['TransactionStartTime'].strip())\n",
    "\n",
    "    # Create datetime object from the ISO date\n",
    "    row_date = datetime.strptime(date, '%Y-%m-%d')\n",
    "    \n",
    "    # Add the week and month into the data\n",
    "    row['TransactionWeekDay'] = row_date.weekday()\n",
    "    row['TransactionMonth'] = row_date.month\n",
    "\n",
    "    return row"
   ]
  },
  {
   "cell_type": "code",
   "execution_count": 9,
   "metadata": {},
   "outputs": [],
   "source": [
    "def apply_transaction_start_date(destination):\n",
    "    # Convert every string in datetime object\n",
    "    pdDatetime = pd.to_datetime(training_data['TransactionStartTime'])\n",
    "    pdDatetimeIndex = pd.DatetimeIndex(pdDatetime)\n",
    "\n",
    "    # Retrieve month and week day\n",
    "    destination['TransactionWeekDay'] = pdDatetimeIndex.weekday\n",
    "    destination['TransactionMonth'] = pdDatetimeIndex.month\n",
    "\n",
    "    # Apply the function on every row\n",
    "    # destination = destination.apply(date_to_weekday_month, axis=1)\n",
    "\n",
    "    # Drop TransactionStartTime\n",
    "    destination.drop(columns=['TransactionStartTime'], inplace=True)\n",
    "\n",
    "    return destination"
   ]
  },
  {
   "cell_type": "code",
   "execution_count": 25,
   "metadata": {},
   "outputs": [
    {
     "data": {
      "text/html": [
       "<div>\n",
       "<style scoped>\n",
       "    .dataframe tbody tr th:only-of-type {\n",
       "        vertical-align: middle;\n",
       "    }\n",
       "\n",
       "    .dataframe tbody tr th {\n",
       "        vertical-align: top;\n",
       "    }\n",
       "\n",
       "    .dataframe thead th {\n",
       "        text-align: right;\n",
       "    }\n",
       "</style>\n",
       "<table border=\"1\" class=\"dataframe\">\n",
       "  <thead>\n",
       "    <tr style=\"text-align: right;\">\n",
       "      <th></th>\n",
       "      <th>month</th>\n",
       "    </tr>\n",
       "  </thead>\n",
       "  <tbody>\n",
       "    <tr>\n",
       "      <th>0</th>\n",
       "      <td>11</td>\n",
       "    </tr>\n",
       "    <tr>\n",
       "      <th>1</th>\n",
       "      <td>11</td>\n",
       "    </tr>\n",
       "    <tr>\n",
       "      <th>2</th>\n",
       "      <td>11</td>\n",
       "    </tr>\n",
       "    <tr>\n",
       "      <th>3</th>\n",
       "      <td>11</td>\n",
       "    </tr>\n",
       "    <tr>\n",
       "      <th>4</th>\n",
       "      <td>11</td>\n",
       "    </tr>\n",
       "  </tbody>\n",
       "</table>\n",
       "</div>"
      ],
      "text/plain": [
       "   month\n",
       "0     11\n",
       "1     11\n",
       "2     11\n",
       "3     11\n",
       "4     11"
      ]
     },
     "execution_count": 25,
     "metadata": {},
     "output_type": "execute_result"
    }
   ],
   "source": [
    "# Create an empty DataFrame\n",
    "# TransactionStartTimeDetails = training_data.loc[:, ['TransactionStartTime']].copy()\n",
    "\n",
    "# # Apply the treatment to TransactionStartTime\n",
    "# TransactionStartTimeDetails = apply_transaction_start_date(TransactionStartTimeDetails)\n",
    "\n",
    "# TransactionStartTimeDetails.head()\n",
    "\n",
    "TransactionStartTimeDetails = training_data.loc[:, ['TransactionStartTime']].copy()\n",
    "\n",
    "# test['date'], test['hour'], _ = re.split('Z|T', training_data.loc[:, ['TransactionStartTime']].copy())\n",
    "\n",
    "\n",
    "TransactionStartTimeSplitted = training_data['TransactionStartTime'].str.split(r'Z|T', expand=True)\n",
    "# RowDate = TransactionStartTimeSplitted[0]datetime.strptime(, '%Y-%m-%d')\n",
    "test['month'] = pd.DatetimeIndex(pd.to_datetime(training_data['TransactionStartTime'])).month\n",
    "\n",
    "test.head()"
   ]
  },
  {
   "attachments": {},
   "cell_type": "markdown",
   "metadata": {},
   "source": [
    "### Mutual information for Month and Week day\n",
    "\n",
    "Now that we have the information about `TransactionWeekDay` and `TransactionMonth`, we can compute their Mutual Information."
   ]
  },
  {
   "cell_type": "code",
   "execution_count": null,
   "metadata": {},
   "outputs": [
    {
     "data": {
      "text/plain": [
       "TransactionWeekDay    0.000887\n",
       "TransactionMonth      0.000000\n",
       "Name: MI Scores, dtype: float64"
      ]
     },
     "execution_count": 71,
     "metadata": {},
     "output_type": "execute_result"
    }
   ],
   "source": [
    "# Define the variable to check the relationship\n",
    "X = TransactionStartTimeDetails[['TransactionMonth', 'TransactionWeekDay']]\n",
    "y = training_data['FraudResult']\n",
    "\n",
    "# Get the discrete features just to be sure\n",
    "discrete_features = X.dtypes == int\n",
    "\n",
    "mi_scores = make_mi_scores(X, y, discrete_features)\n",
    "mi_scores"
   ]
  },
  {
   "cell_type": "code",
   "execution_count": null,
   "metadata": {},
   "outputs": [
    {
     "data": {
      "image/png": "[encoded data removed]",
      "text/plain": [
       "<Figure size 800x500 with 1 Axes>"
      ]
     },
     "metadata": {},
     "output_type": "display_data"
    }
   ],
   "source": [
    "plt.figure(dpi=100, figsize=(8, 5))\n",
    "plot_mi_scores(mi_scores)"
   ]
  },
  {
   "attachments": {},
   "cell_type": "markdown",
   "metadata": {},
   "source": [
    "# Fraud frequency per week day\n",
    "\n",
    "We will know plot the fraud frequency regarding the month."
   ]
  },
  {
   "cell_type": "code",
   "execution_count": null,
   "metadata": {},
   "outputs": [
    {
     "data": {
      "text/html": [
       "<div>\n",
       "<style scoped>\n",
       "    .dataframe tbody tr th:only-of-type {\n",
       "        vertical-align: middle;\n",
       "    }\n",
       "\n",
       "    .dataframe tbody tr th {\n",
       "        vertical-align: top;\n",
       "    }\n",
       "\n",
       "    .dataframe thead th {\n",
       "        text-align: right;\n",
       "    }\n",
       "</style>\n",
       "<table border=\"1\" class=\"dataframe\">\n",
       "  <thead>\n",
       "    <tr style=\"text-align: right;\">\n",
       "      <th></th>\n",
       "      <th>TransactionWeekDay</th>\n",
       "      <th>FraudResult</th>\n",
       "    </tr>\n",
       "  </thead>\n",
       "  <tbody>\n",
       "    <tr>\n",
       "      <th>0</th>\n",
       "      <td>0</td>\n",
       "      <td>29</td>\n",
       "    </tr>\n",
       "    <tr>\n",
       "      <th>1</th>\n",
       "      <td>1</td>\n",
       "      <td>31</td>\n",
       "    </tr>\n",
       "    <tr>\n",
       "      <th>2</th>\n",
       "      <td>2</td>\n",
       "      <td>29</td>\n",
       "    </tr>\n",
       "    <tr>\n",
       "      <th>3</th>\n",
       "      <td>3</td>\n",
       "      <td>34</td>\n",
       "    </tr>\n",
       "    <tr>\n",
       "      <th>4</th>\n",
       "      <td>4</td>\n",
       "      <td>30</td>\n",
       "    </tr>\n",
       "    <tr>\n",
       "      <th>5</th>\n",
       "      <td>5</td>\n",
       "      <td>25</td>\n",
       "    </tr>\n",
       "    <tr>\n",
       "      <th>6</th>\n",
       "      <td>6</td>\n",
       "      <td>15</td>\n",
       "    </tr>\n",
       "  </tbody>\n",
       "</table>\n",
       "</div>"
      ],
      "text/plain": [
       "   TransactionWeekDay  FraudResult\n",
       "0                   0           29\n",
       "1                   1           31\n",
       "2                   2           29\n",
       "3                   3           34\n",
       "4                   4           30\n",
       "5                   5           25\n",
       "6                   6           15"
      ]
     },
     "execution_count": 30,
     "metadata": {},
     "output_type": "execute_result"
    }
   ],
   "source": [
    "# Create DataFram with the month and fraud\n",
    "FraudMonth = pd.DataFrame({\n",
    "    'TransactionWeekDay': TransactionStartTimeDetails['TransactionWeekDay'],\n",
    "    'FraudResult': training_data['FraudResult'],\n",
    "})\n",
    "\n",
    "# Group the dataframe by month\n",
    "FraudPerWeekDay = FraudMonth.groupby('TransactionWeekDay').sum()\n",
    "FraudPerWeekDay.reset_index(inplace=True)\n",
    "\n",
    "FraudPerWeekDay.head(10)"
   ]
  },
  {
   "cell_type": "code",
   "execution_count": null,
   "metadata": {},
   "outputs": [
    {
     "data": {
      "image/png": "[encoded data removed]",
      "text/plain": [
       "<Figure size 640x480 with 1 Axes>"
      ]
     },
     "metadata": {},
     "output_type": "display_data"
    }
   ],
   "source": [
    "# Creating histogram\n",
    "plt.bar(FraudPerWeekDay['TransactionWeekDay'], FraudPerWeekDay['FraudResult'])\n",
    " \n",
    "# Show plot\n",
    "plt.show()"
   ]
  },
  {
   "attachments": {},
   "cell_type": "markdown",
   "metadata": {},
   "source": [
    "We see that there is no pattern that appears between the week days. A fraud can happens any day of the week. Given that, I will not use `TransactionWeekDay` in my model."
   ]
  },
  {
   "attachments": {},
   "cell_type": "markdown",
   "metadata": {},
   "source": [
    "# Fraud frequency per month\n",
    "\n",
    "We will know plot the fraud frequency regarding the month."
   ]
  },
  {
   "cell_type": "code",
   "execution_count": null,
   "metadata": {},
   "outputs": [
    {
     "data": {
      "text/html": [
       "<div>\n",
       "<style scoped>\n",
       "    .dataframe tbody tr th:only-of-type {\n",
       "        vertical-align: middle;\n",
       "    }\n",
       "\n",
       "    .dataframe tbody tr th {\n",
       "        vertical-align: top;\n",
       "    }\n",
       "\n",
       "    .dataframe thead th {\n",
       "        text-align: right;\n",
       "    }\n",
       "</style>\n",
       "<table border=\"1\" class=\"dataframe\">\n",
       "  <thead>\n",
       "    <tr style=\"text-align: right;\">\n",
       "      <th></th>\n",
       "      <th>TransactionMonth</th>\n",
       "      <th>FraudResult</th>\n",
       "    </tr>\n",
       "  </thead>\n",
       "  <tbody>\n",
       "    <tr>\n",
       "      <th>0</th>\n",
       "      <td>1</td>\n",
       "      <td>64</td>\n",
       "    </tr>\n",
       "    <tr>\n",
       "      <th>1</th>\n",
       "      <td>2</td>\n",
       "      <td>53</td>\n",
       "    </tr>\n",
       "    <tr>\n",
       "      <th>2</th>\n",
       "      <td>11</td>\n",
       "      <td>14</td>\n",
       "    </tr>\n",
       "    <tr>\n",
       "      <th>3</th>\n",
       "      <td>12</td>\n",
       "      <td>62</td>\n",
       "    </tr>\n",
       "  </tbody>\n",
       "</table>\n",
       "</div>"
      ],
      "text/plain": [
       "   TransactionMonth  FraudResult\n",
       "0                 1           64\n",
       "1                 2           53\n",
       "2                11           14\n",
       "3                12           62"
      ]
     },
     "execution_count": 32,
     "metadata": {},
     "output_type": "execute_result"
    }
   ],
   "source": [
    "# Create DataFram with the month and fraud\n",
    "FraudMonth = pd.DataFrame({\n",
    "    'TransactionMonth': TransactionStartTimeDetails['TransactionMonth'],\n",
    "    'FraudResult': training_data['FraudResult'],\n",
    "})\n",
    "\n",
    "# Group the dataframe by month\n",
    "FraudPerMonth = FraudMonth.groupby('TransactionMonth').sum()\n",
    "FraudPerMonth.reset_index(inplace=True)\n",
    "\n",
    "FraudPerMonth.head(10)"
   ]
  },
  {
   "cell_type": "code",
   "execution_count": null,
   "metadata": {},
   "outputs": [
    {
     "data": {
      "image/png": "[encoded data removed]",
      "text/plain": [
       "<Figure size 640x480 with 1 Axes>"
      ]
     },
     "metadata": {},
     "output_type": "display_data"
    }
   ],
   "source": [
    "# Creating bar graph\n",
    "plt.bar(FraudPerMonth['TransactionMonth'], FraudPerMonth['FraudResult'])\n",
    " \n",
    "# Show plot\n",
    "plt.show()"
   ]
  },
  {
   "attachments": {},
   "cell_type": "markdown",
   "metadata": {},
   "source": [
    "As we can see, there is a periodical pattern. The fraud generally happens during the month of november to february.\n",
    "\n",
    "We can then use this data in our model."
   ]
  },
  {
   "attachments": {},
   "cell_type": "markdown",
   "metadata": {},
   "source": [
    "## Result\n",
    "\n",
    "As we can see in this plot, it is not a periodical pattern and so the month and week day does not give us any additional information.\n",
    "\n",
    "But for the sake of the analysis, we will keep `TransactionMonth` and `TransactionWeekDay`, because `TransactionStartTime` will be just converted in a categorical variable that will bias our model."
   ]
  },
  {
   "attachments": {},
   "cell_type": "markdown",
   "metadata": {},
   "source": [
    "## Way to pay\n",
    "\n",
    "For the next analysis, we will look at `Amount`. In the variable description, it says that the positive values refers to debit and negative to credit.\n",
    "\n",
    "Given that information, we can analyse if a debit or credit payment affect the fraud violation.\n",
    "\n",
    "The first step will be to extract this information, we will then create a column name `PaymentWay`. This column will have `0` if it is a debit and `1` if credit.\n",
    "\n",
    " * **PaymentWay**: 0 if debit, 1 if credit"
   ]
  },
  {
   "cell_type": "code",
   "execution_count": null,
   "metadata": {},
   "outputs": [],
   "source": [
    "def get_credit_debit(row):\n",
    "    row['PaymentWay'] = 'debit' if row['Amount'] > 0 else 'credit'\n",
    "    return row"
   ]
  },
  {
   "cell_type": "code",
   "execution_count": null,
   "metadata": {},
   "outputs": [],
   "source": [
    "def apply_payment_way(destination):\n",
    "    # Get the payment information\n",
    "    destination = destination.apply(get_credit_debit, axis=1)\n",
    "\n",
    "    # Remove the Amount columns\n",
    "    destination.drop(columns=['Amount'], inplace=True)\n",
    "\n",
    "    return destination"
   ]
  },
  {
   "cell_type": "code",
   "execution_count": null,
   "metadata": {},
   "outputs": [
    {
     "data": {
      "text/html": [
       "<div>\n",
       "<style scoped>\n",
       "    .dataframe tbody tr th:only-of-type {\n",
       "        vertical-align: middle;\n",
       "    }\n",
       "\n",
       "    .dataframe tbody tr th {\n",
       "        vertical-align: top;\n",
       "    }\n",
       "\n",
       "    .dataframe thead th {\n",
       "        text-align: right;\n",
       "    }\n",
       "</style>\n",
       "<table border=\"1\" class=\"dataframe\">\n",
       "  <thead>\n",
       "    <tr style=\"text-align: right;\">\n",
       "      <th></th>\n",
       "      <th>PaymentWay</th>\n",
       "    </tr>\n",
       "    <tr>\n",
       "      <th>TransactionId</th>\n",
       "      <th></th>\n",
       "    </tr>\n",
       "  </thead>\n",
       "  <tbody>\n",
       "    <tr>\n",
       "      <th>TransactionId_76871</th>\n",
       "      <td>debit</td>\n",
       "    </tr>\n",
       "    <tr>\n",
       "      <th>TransactionId_73770</th>\n",
       "      <td>credit</td>\n",
       "    </tr>\n",
       "    <tr>\n",
       "      <th>TransactionId_26203</th>\n",
       "      <td>debit</td>\n",
       "    </tr>\n",
       "    <tr>\n",
       "      <th>TransactionId_380</th>\n",
       "      <td>debit</td>\n",
       "    </tr>\n",
       "    <tr>\n",
       "      <th>TransactionId_28195</th>\n",
       "      <td>credit</td>\n",
       "    </tr>\n",
       "  </tbody>\n",
       "</table>\n",
       "</div>"
      ],
      "text/plain": [
       "                    PaymentWay\n",
       "TransactionId                 \n",
       "TransactionId_76871      debit\n",
       "TransactionId_73770     credit\n",
       "TransactionId_26203      debit\n",
       "TransactionId_380        debit\n",
       "TransactionId_28195     credit"
      ]
     },
     "execution_count": 239,
     "metadata": {},
     "output_type": "execute_result"
    }
   ],
   "source": [
    "# Create an empty DataFrame\n",
    "PaymentInformation = training_data.loc[:, ['Amount']].copy()\n",
    "\n",
    "# Apply the payment way function\n",
    "PaymentInformation = apply_payment_way(PaymentInformation)\n",
    "\n",
    "PaymentInformation.head()"
   ]
  },
  {
   "attachments": {},
   "cell_type": "markdown",
   "metadata": {},
   "source": [
    "### Mutual Information for Payment Way\n",
    "\n",
    "We can now make the Mutual Information between `PaymentWay`and the target value."
   ]
  },
  {
   "cell_type": "code",
   "execution_count": null,
   "metadata": {},
   "outputs": [
    {
     "data": {
      "text/plain": [
       "PaymentWay    0.001557\n",
       "Name: MI Scores, dtype: float64"
      ]
     },
     "execution_count": 240,
     "metadata": {},
     "output_type": "execute_result"
    }
   ],
   "source": [
    "# Define the variable to check the relationship\n",
    "X = PaymentInformation.copy()\n",
    "y = training_data['FraudResult']\n",
    "\n",
    "# Categorise PaymentWay\n",
    "X['PaymentWay'], _ = X['PaymentWay'].factorize()\n",
    "\n",
    "# Get the discrete features just to be sure\n",
    "discrete_features = X.dtypes == int\n",
    "\n",
    "mi_scores = make_mi_scores(X, y, discrete_features)\n",
    "mi_scores"
   ]
  },
  {
   "cell_type": "code",
   "execution_count": null,
   "metadata": {},
   "outputs": [
    {
     "data": {
      "image/png": "[encoded data removed]",
      "text/plain": [
       "<Figure size 800x500 with 1 Axes>"
      ]
     },
     "metadata": {},
     "output_type": "display_data"
    }
   ],
   "source": [
    "plt.figure(dpi=100, figsize=(8, 5))\n",
    "plot_mi_scores(mi_scores)"
   ]
  },
  {
   "attachments": {},
   "cell_type": "markdown",
   "metadata": {},
   "source": [
    "As we can see, the payment way does not affect the fraud violation."
   ]
  },
  {
   "attachments": {},
   "cell_type": "markdown",
   "metadata": {},
   "source": [
    "### Fraud frequency per Payment Way\n",
    "\n",
    "We will analyse the fraud frequency regarding the payment method used: Debit or Credit."
   ]
  },
  {
   "cell_type": "code",
   "execution_count": null,
   "metadata": {},
   "outputs": [
    {
     "data": {
      "text/html": [
       "<div>\n",
       "<style scoped>\n",
       "    .dataframe tbody tr th:only-of-type {\n",
       "        vertical-align: middle;\n",
       "    }\n",
       "\n",
       "    .dataframe tbody tr th {\n",
       "        vertical-align: top;\n",
       "    }\n",
       "\n",
       "    .dataframe thead th {\n",
       "        text-align: right;\n",
       "    }\n",
       "</style>\n",
       "<table border=\"1\" class=\"dataframe\">\n",
       "  <thead>\n",
       "    <tr style=\"text-align: right;\">\n",
       "      <th></th>\n",
       "      <th>PaymentWay</th>\n",
       "      <th>FraudResult</th>\n",
       "    </tr>\n",
       "  </thead>\n",
       "  <tbody>\n",
       "    <tr>\n",
       "      <th>0</th>\n",
       "      <td>credit</td>\n",
       "      <td>5</td>\n",
       "    </tr>\n",
       "    <tr>\n",
       "      <th>1</th>\n",
       "      <td>debit</td>\n",
       "      <td>188</td>\n",
       "    </tr>\n",
       "  </tbody>\n",
       "</table>\n",
       "</div>"
      ],
      "text/plain": [
       "  PaymentWay  FraudResult\n",
       "0     credit            5\n",
       "1      debit          188"
      ]
     },
     "execution_count": 66,
     "metadata": {},
     "output_type": "execute_result"
    }
   ],
   "source": [
    "# Create DataFram with the month and fraud\n",
    "FraudPaymentWay = pd.DataFrame({\n",
    "    'PaymentWay': PaymentInformation['PaymentWay'],\n",
    "    'FraudResult': training_data['FraudResult'],\n",
    "})\n",
    "\n",
    "\n",
    "# Group the dataframe by month\n",
    "FraudPerPaymentWay = FraudPaymentWay.groupby('PaymentWay').sum()\n",
    "FraudPerPaymentWay.reset_index(inplace=True)\n",
    "\n",
    "FraudPerPaymentWay.head(10)"
   ]
  },
  {
   "cell_type": "code",
   "execution_count": null,
   "metadata": {},
   "outputs": [
    {
     "data": {
      "image/png": "[encoded data removed]",
      "text/plain": [
       "<Figure size 640x480 with 1 Axes>"
      ]
     },
     "metadata": {},
     "output_type": "display_data"
    }
   ],
   "source": [
    "# Creating bar graph\n",
    "plt.bar(FraudPerPaymentWay['PaymentWay'], FraudPerPaymentWay['FraudResult'])\n",
    " \n",
    "# Show plot\n",
    "plt.show()"
   ]
  },
  {
   "attachments": {},
   "cell_type": "markdown",
   "metadata": {},
   "source": [
    "## Pricing strategy\n",
    "\n",
    "We are going to analyse the pricing strategy and check its influence on the fraud detection."
   ]
  },
  {
   "cell_type": "code",
   "execution_count": null,
   "metadata": {},
   "outputs": [
    {
     "data": {
      "text/html": [
       "<div>\n",
       "<style scoped>\n",
       "    .dataframe tbody tr th:only-of-type {\n",
       "        vertical-align: middle;\n",
       "    }\n",
       "\n",
       "    .dataframe tbody tr th {\n",
       "        vertical-align: top;\n",
       "    }\n",
       "\n",
       "    .dataframe thead th {\n",
       "        text-align: right;\n",
       "    }\n",
       "</style>\n",
       "<table border=\"1\" class=\"dataframe\">\n",
       "  <thead>\n",
       "    <tr style=\"text-align: right;\">\n",
       "      <th></th>\n",
       "      <th>PricingStrategy</th>\n",
       "      <th>FraudResult</th>\n",
       "    </tr>\n",
       "  </thead>\n",
       "  <tbody>\n",
       "    <tr>\n",
       "      <th>0</th>\n",
       "      <td>0</td>\n",
       "      <td>36</td>\n",
       "    </tr>\n",
       "    <tr>\n",
       "      <th>1</th>\n",
       "      <td>1</td>\n",
       "      <td>7</td>\n",
       "    </tr>\n",
       "    <tr>\n",
       "      <th>2</th>\n",
       "      <td>2</td>\n",
       "      <td>139</td>\n",
       "    </tr>\n",
       "    <tr>\n",
       "      <th>3</th>\n",
       "      <td>4</td>\n",
       "      <td>11</td>\n",
       "    </tr>\n",
       "  </tbody>\n",
       "</table>\n",
       "</div>"
      ],
      "text/plain": [
       "   PricingStrategy  FraudResult\n",
       "0                0           36\n",
       "1                1            7\n",
       "2                2          139\n",
       "3                4           11"
      ]
     },
     "execution_count": 40,
     "metadata": {},
     "output_type": "execute_result"
    }
   ],
   "source": [
    "# Retrieve the pricing strategy\n",
    "PricingStrategy = training_data.loc[:, ['PricingStrategy', 'FraudResult']]\n",
    "\n",
    "# Check the number of fraud per princing strategy\n",
    "FraudPerPricingStrategy = PricingStrategy.groupby('PricingStrategy').sum()\n",
    "FraudPerPricingStrategy.reset_index(inplace=True)\n",
    "\n",
    "FraudPerPricingStrategy.head()"
   ]
  },
  {
   "cell_type": "code",
   "execution_count": null,
   "metadata": {},
   "outputs": [
    {
     "data": {
      "image/png": "[encoded data removed]",
      "text/plain": [
       "<Figure size 640x480 with 1 Axes>"
      ]
     },
     "metadata": {},
     "output_type": "display_data"
    }
   ],
   "source": [
    "# Creating bar graph\n",
    "plt.bar(FraudPerPricingStrategy['PricingStrategy'], FraudPerPricingStrategy['FraudResult'])\n",
    " \n",
    "# Show plot\n",
    "plt.show()"
   ]
  },
  {
   "attachments": {},
   "cell_type": "markdown",
   "metadata": {},
   "source": [
    "## Channel ID"
   ]
  },
  {
   "cell_type": "code",
   "execution_count": null,
   "metadata": {},
   "outputs": [
    {
     "data": {
      "text/html": [
       "<div>\n",
       "<style scoped>\n",
       "    .dataframe tbody tr th:only-of-type {\n",
       "        vertical-align: middle;\n",
       "    }\n",
       "\n",
       "    .dataframe tbody tr th {\n",
       "        vertical-align: top;\n",
       "    }\n",
       "\n",
       "    .dataframe thead th {\n",
       "        text-align: right;\n",
       "    }\n",
       "</style>\n",
       "<table border=\"1\" class=\"dataframe\">\n",
       "  <thead>\n",
       "    <tr style=\"text-align: right;\">\n",
       "      <th></th>\n",
       "      <th>ChannelId</th>\n",
       "      <th>FraudResult</th>\n",
       "    </tr>\n",
       "  </thead>\n",
       "  <tbody>\n",
       "    <tr>\n",
       "      <th>0</th>\n",
       "      <td>ChannelId_1</td>\n",
       "      <td>4</td>\n",
       "    </tr>\n",
       "    <tr>\n",
       "      <th>1</th>\n",
       "      <td>ChannelId_2</td>\n",
       "      <td>5</td>\n",
       "    </tr>\n",
       "    <tr>\n",
       "      <th>2</th>\n",
       "      <td>ChannelId_3</td>\n",
       "      <td>184</td>\n",
       "    </tr>\n",
       "    <tr>\n",
       "      <th>3</th>\n",
       "      <td>ChannelId_5</td>\n",
       "      <td>0</td>\n",
       "    </tr>\n",
       "  </tbody>\n",
       "</table>\n",
       "</div>"
      ],
      "text/plain": [
       "     ChannelId  FraudResult\n",
       "0  ChannelId_1            4\n",
       "1  ChannelId_2            5\n",
       "2  ChannelId_3          184\n",
       "3  ChannelId_5            0"
      ]
     },
     "execution_count": 42,
     "metadata": {},
     "output_type": "execute_result"
    }
   ],
   "source": [
    "# Retrieve the pricing strategy\n",
    "ChannelId = training_data.loc[:, ['ChannelId', 'FraudResult']]\n",
    "\n",
    "# Check the number of fraud per princing strategy\n",
    "FraudPerChannelId = ChannelId.groupby('ChannelId').sum()\n",
    "FraudPerChannelId.reset_index(inplace=True)\n",
    "\n",
    "FraudPerChannelId.head()"
   ]
  },
  {
   "cell_type": "code",
   "execution_count": null,
   "metadata": {},
   "outputs": [
    {
     "data": {
      "image/png": "[encoded data removed]",
      "text/plain": [
       "<Figure size 640x480 with 1 Axes>"
      ]
     },
     "metadata": {},
     "output_type": "display_data"
    }
   ],
   "source": [
    "# Creating bar graph\n",
    "plt.bar(FraudPerChannelId['ChannelId'], FraudPerPricingStrategy['FraudResult'])\n",
    " \n",
    "# Show plot\n",
    "plt.show()"
   ]
  },
  {
   "attachments": {},
   "cell_type": "markdown",
   "metadata": {},
   "source": [
    "## Conclusion\n",
    "\n",
    "At the end of our journey, blah blah blah..."
   ]
  },
  {
   "attachments": {},
   "cell_type": "markdown",
   "metadata": {},
   "source": [
    "## Categorise the data\n",
    "\n",
    "Now we are going the categorise our discrete value. We will apply a One-Hot Encoder on `ProductCategory` and `ChannelId`.\n",
    "\n",
    "As a reminder, a One-Hot Encoder will create new binary columns, indicating the presence of each possible values from the original data.\n",
    "\n",
    "![One-Hot Encoding](./pictures/one-hot-encoding.png)\n",
    "\n",
    "One-Hot Encoding works well when the categorical variable takes on a small number of values (15 regarding [Kaggle](https://www.kaggle.com/code/dansbecker/using-categorical-data-with-one-hot-encoding)).\n",
    "\n",
    "We will then check the number of unique categories in every one of our columns, and apply One-Hot Encoding if the distinct values is less than `15`.\n"
   ]
  },
  {
   "cell_type": "code",
   "execution_count": null,
   "metadata": {},
   "outputs": [
    {
     "data": {
      "text/plain": [
       "ProductCategory    9\n",
       "ChannelId          4\n",
       "dtype: int64"
      ]
     },
     "execution_count": 27,
     "metadata": {},
     "output_type": "execute_result"
    }
   ],
   "source": [
    "# Define the columns to categorise\n",
    "CategoriseCols = ['ProductCategory']\n",
    "\n",
    "# Extract our categorical variable\n",
    "CategoricalVariable = training_data.loc[:, CategoriseCols]\n",
    "\n",
    "# Get number of unique values in each column\n",
    "CategoricalVariable.nunique()"
   ]
  },
  {
   "attachments": {},
   "cell_type": "markdown",
   "metadata": {},
   "source": [
    "As we can see, `ProductCategory` has 9 distincts values and `ChannelId`has 4. We can then apply One-Hot Encoding on each column."
   ]
  },
  {
   "cell_type": "code",
   "execution_count": 344,
   "metadata": {},
   "outputs": [
    {
     "ename": "AttributeError",
     "evalue": "'numpy.ndarray' object has no attribute 'head'",
     "output_type": "error",
     "traceback": [
      "\u001b[0;31m---------------------------------------------------------------------------\u001b[0m",
      "\u001b[0;31mAttributeError\u001b[0m                            Traceback (most recent call last)",
      "Cell \u001b[0;32mIn[344], line 12\u001b[0m\n\u001b[1;32m      9\u001b[0m \u001b[39m# Apply encoder to the ProductCategory column\u001b[39;00m\n\u001b[1;32m     10\u001b[0m OH_cols_train \u001b[39m=\u001b[39m OH_encoder\u001b[39m.\u001b[39mfit_transform(training_data[CategoriseCols])\n\u001b[0;32m---> 12\u001b[0m OH_cols_train\u001b[39m.\u001b[39;49mhead()\n\u001b[1;32m     13\u001b[0m \u001b[39m#training_data.head()\u001b[39;00m\n",
      "\u001b[0;31mAttributeError\u001b[0m: 'numpy.ndarray' object has no attribute 'head'"
     ]
    }
   ],
   "source": [
    "from sklearn.preprocessing import OneHotEncoder\n",
    "\n",
    "# Define the columns to categorise\n",
    "CategoriseCols = ['ProductCategory', 'ChannelId']\n",
    "\n",
    "# Define One-Hot Encoder\n",
    "OH_encoder = OneHotEncoder(handle_unknown='ignore', sparse_output=False)\n",
    "\n",
    "# Apply encoder to the ProductCategory column\n",
    "# OH_cols_train = OH_encoder.fit_transform(training_data[CategoriseCols])\n",
    "\n",
    "# OH_cols_train.head()\n",
    "pd.get_dummies(data=X_train, columns=CategoriseCols)\n",
    "\n",
    "#training_data.head()"
   ]
  },
  {
   "attachments": {},
   "cell_type": "markdown",
   "metadata": {},
   "source": [
    "# Set our data for the model\n",
    "\n",
    "Here we are going to set the data that we will use to create our model."
   ]
  },
  {
   "cell_type": "code",
   "execution_count": 349,
   "metadata": {},
   "outputs": [],
   "source": [
    "# COLS_TO_USE = ['ProductCategory', 'ChannelId', 'Amount', 'TransactionStartTime', 'PricingStrategy']\n",
    "COLS_TO_USE = ['Amount', 'TransactionStartTime', 'ProductCategory', 'Value', 'PricingStrategy']\n",
    "\n",
    "def prepare_dataset(data_source):\n",
    "    dataset = data_source[COLS_TO_USE].copy()\n",
    "\n",
    "    dataset = apply_payment_way(dataset)\n",
    "    dataset = apply_transaction_start_date(dataset)\n",
    "\n",
    "    return dataset"
   ]
  },
  {
   "cell_type": "code",
   "execution_count": 355,
   "metadata": {},
   "outputs": [],
   "source": [
    "from sklearn.model_selection import train_test_split\n",
    "CategoriseCols = ['ProductCategory', 'PaymentWay']\n",
    "\n",
    "# Check my dataset\n",
    "# training_data.reset_index(inplace=True)\n",
    "X = prepare_dataset(training_data)\n",
    "y = training_data['FraudResult']\n",
    "\n",
    "X = pd.get_dummies(data=X, columns=CategoriseCols)\n",
    "\n",
    "# Stratified\n",
    "X_train, X_test, y_train, y_test = train_test_split(X, y, train_size=0.8, test_size=0.2, random_state=0, stratify=y)\n",
    "\n",
    "\n",
    "# Define the columns to categorise\n",
    "\n",
    "\n",
    "# Define One-Hot Encoder\n",
    "# OH_encoder = OneHotEncoder(handle_unknown='ignore', sparse_output=False)\n",
    "# \n",
    "# Apply encoder to the ProductCategory column\n",
    "# OH_cols_train = OH_encoder.fit_transform(training_data[CategoriseCols])\n",
    "\n"
   ]
  },
  {
   "cell_type": "code",
   "execution_count": 356,
   "metadata": {},
   "outputs": [
    {
     "data": {
      "text/html": [
       "<div>\n",
       "<style scoped>\n",
       "    .dataframe tbody tr th:only-of-type {\n",
       "        vertical-align: middle;\n",
       "    }\n",
       "\n",
       "    .dataframe tbody tr th {\n",
       "        vertical-align: top;\n",
       "    }\n",
       "\n",
       "    .dataframe thead th {\n",
       "        text-align: right;\n",
       "    }\n",
       "</style>\n",
       "<table border=\"1\" class=\"dataframe\">\n",
       "  <thead>\n",
       "    <tr style=\"text-align: right;\">\n",
       "      <th></th>\n",
       "      <th>Value</th>\n",
       "      <th>PricingStrategy</th>\n",
       "      <th>TransactionWeekDay</th>\n",
       "      <th>TransactionMonth</th>\n",
       "      <th>ProductCategory_airtime</th>\n",
       "      <th>ProductCategory_data_bundles</th>\n",
       "      <th>ProductCategory_financial_services</th>\n",
       "      <th>ProductCategory_movies</th>\n",
       "      <th>ProductCategory_other</th>\n",
       "      <th>ProductCategory_ticket</th>\n",
       "      <th>ProductCategory_transport</th>\n",
       "      <th>ProductCategory_tv</th>\n",
       "      <th>ProductCategory_utility_bill</th>\n",
       "      <th>PaymentWay_credit</th>\n",
       "      <th>PaymentWay_debit</th>\n",
       "    </tr>\n",
       "  </thead>\n",
       "  <tbody>\n",
       "    <tr>\n",
       "      <th>67346</th>\n",
       "      <td>50</td>\n",
       "      <td>2</td>\n",
       "      <td>0</td>\n",
       "      <td>1</td>\n",
       "      <td>False</td>\n",
       "      <td>False</td>\n",
       "      <td>True</td>\n",
       "      <td>False</td>\n",
       "      <td>False</td>\n",
       "      <td>False</td>\n",
       "      <td>False</td>\n",
       "      <td>False</td>\n",
       "      <td>False</td>\n",
       "      <td>True</td>\n",
       "      <td>False</td>\n",
       "    </tr>\n",
       "    <tr>\n",
       "      <th>37588</th>\n",
       "      <td>20000</td>\n",
       "      <td>2</td>\n",
       "      <td>5</td>\n",
       "      <td>12</td>\n",
       "      <td>False</td>\n",
       "      <td>False</td>\n",
       "      <td>True</td>\n",
       "      <td>False</td>\n",
       "      <td>False</td>\n",
       "      <td>False</td>\n",
       "      <td>False</td>\n",
       "      <td>False</td>\n",
       "      <td>False</td>\n",
       "      <td>False</td>\n",
       "      <td>True</td>\n",
       "    </tr>\n",
       "    <tr>\n",
       "      <th>87804</th>\n",
       "      <td>392</td>\n",
       "      <td>2</td>\n",
       "      <td>3</td>\n",
       "      <td>2</td>\n",
       "      <td>False</td>\n",
       "      <td>False</td>\n",
       "      <td>True</td>\n",
       "      <td>False</td>\n",
       "      <td>False</td>\n",
       "      <td>False</td>\n",
       "      <td>False</td>\n",
       "      <td>False</td>\n",
       "      <td>False</td>\n",
       "      <td>True</td>\n",
       "      <td>False</td>\n",
       "    </tr>\n",
       "    <tr>\n",
       "      <th>48482</th>\n",
       "      <td>500</td>\n",
       "      <td>4</td>\n",
       "      <td>1</td>\n",
       "      <td>1</td>\n",
       "      <td>False</td>\n",
       "      <td>True</td>\n",
       "      <td>False</td>\n",
       "      <td>False</td>\n",
       "      <td>False</td>\n",
       "      <td>False</td>\n",
       "      <td>False</td>\n",
       "      <td>False</td>\n",
       "      <td>False</td>\n",
       "      <td>False</td>\n",
       "      <td>True</td>\n",
       "    </tr>\n",
       "    <tr>\n",
       "      <th>85364</th>\n",
       "      <td>50</td>\n",
       "      <td>2</td>\n",
       "      <td>0</td>\n",
       "      <td>2</td>\n",
       "      <td>False</td>\n",
       "      <td>False</td>\n",
       "      <td>True</td>\n",
       "      <td>False</td>\n",
       "      <td>False</td>\n",
       "      <td>False</td>\n",
       "      <td>False</td>\n",
       "      <td>False</td>\n",
       "      <td>False</td>\n",
       "      <td>True</td>\n",
       "      <td>False</td>\n",
       "    </tr>\n",
       "  </tbody>\n",
       "</table>\n",
       "</div>"
      ],
      "text/plain": [
       "       Value  PricingStrategy  TransactionWeekDay  TransactionMonth   \n",
       "67346     50                2                   0                 1  \\\n",
       "37588  20000                2                   5                12   \n",
       "87804    392                2                   3                 2   \n",
       "48482    500                4                   1                 1   \n",
       "85364     50                2                   0                 2   \n",
       "\n",
       "       ProductCategory_airtime  ProductCategory_data_bundles   \n",
       "67346                    False                         False  \\\n",
       "37588                    False                         False   \n",
       "87804                    False                         False   \n",
       "48482                    False                          True   \n",
       "85364                    False                         False   \n",
       "\n",
       "       ProductCategory_financial_services  ProductCategory_movies   \n",
       "67346                                True                   False  \\\n",
       "37588                                True                   False   \n",
       "87804                                True                   False   \n",
       "48482                               False                   False   \n",
       "85364                                True                   False   \n",
       "\n",
       "       ProductCategory_other  ProductCategory_ticket   \n",
       "67346                  False                   False  \\\n",
       "37588                  False                   False   \n",
       "87804                  False                   False   \n",
       "48482                  False                   False   \n",
       "85364                  False                   False   \n",
       "\n",
       "       ProductCategory_transport  ProductCategory_tv   \n",
       "67346                      False               False  \\\n",
       "37588                      False               False   \n",
       "87804                      False               False   \n",
       "48482                      False               False   \n",
       "85364                      False               False   \n",
       "\n",
       "       ProductCategory_utility_bill  PaymentWay_credit  PaymentWay_debit  \n",
       "67346                         False               True             False  \n",
       "37588                         False              False              True  \n",
       "87804                         False               True             False  \n",
       "48482                         False              False              True  \n",
       "85364                         False               True             False  "
      ]
     },
     "execution_count": 356,
     "metadata": {},
     "output_type": "execute_result"
    }
   ],
   "source": [
    "\n",
    "# OH_cols_train.head()\n",
    "# X_train = pd.get_dummies(data=X_train, columns=CategoriseCols)\n",
    "# X_test = pd.get_dummies(data=X_test, columns=CategoriseCols)\n",
    "\n",
    "X_train.head()"
   ]
  },
  {
   "attachments": {},
   "cell_type": "markdown",
   "metadata": {},
   "source": [
    "**TODO**\n",
    "\n",
    "A this time we have\n",
    " * Column 1\n",
    " * COlumn 2\n",
    " * ..."
   ]
  },
  {
   "attachments": {},
   "cell_type": "markdown",
   "metadata": {},
   "source": [
    "# Unbalanced dataset\n",
    "\n",
    "Before explaining what is a unbalanced datasets, I will show you the proportion between the non-fraud and fraud rows of the dataset."
   ]
  },
  {
   "cell_type": "code",
   "execution_count": null,
   "metadata": {},
   "outputs": [
    {
     "name": "stdout",
     "output_type": "stream",
     "text": [
      "0.20175200183981098% of fraud.\n"
     ]
    }
   ],
   "source": [
    "y = training_data['FraudResult']\n",
    "\n",
    "# Compute the percentage value of fraud\n",
    "fraud_percentage = y.sum() / len(y)\n",
    "\n",
    "print(f'{fraud_percentage * 100.0}% of fraud.')"
   ]
  },
  {
   "cell_type": "code",
   "execution_count": null,
   "metadata": {},
   "outputs": [],
   "source": [
    "# Explain over sampling"
   ]
  },
  {
   "attachments": {},
   "cell_type": "markdown",
   "metadata": {},
   "source": [
    "# Create the model\n",
    "\n",
    "**TODO**\n",
    "\n",
    "For that we use a pipeline to automatically ..."
   ]
  },
  {
   "attachments": {},
   "cell_type": "markdown",
   "metadata": {},
   "source": [
    "## Preprocessing step\n",
    "\n",
    "**TODO**\n",
    "\n",
    "One Hot encoder"
   ]
  },
  {
   "cell_type": "code",
   "execution_count": 337,
   "metadata": {},
   "outputs": [
    {
     "name": "stdout",
     "output_type": "stream",
     "text": [
      "  (0, 2)\t1.0\n",
      "  (0, 9)\t1.0\n",
      "  (1, 2)\t1.0\n",
      "  (1, 10)\t1.0\n",
      "  (2, 2)\t1.0\n",
      "  (2, 9)\t1.0\n",
      "  (3, 1)\t1.0\n",
      "  (3, 10)\t1.0\n",
      "  (4, 2)\t1.0\n",
      "  (4, 9)\t1.0\n",
      "  (5, 2)\t1.0\n",
      "  (5, 10)\t1.0\n",
      "  (6, 0)\t1.0\n",
      "  (6, 10)\t1.0\n",
      "  (7, 0)\t1.0\n",
      "  (7, 10)\t1.0\n",
      "  (8, 0)\t1.0\n",
      "  (8, 10)\t1.0\n",
      "  (9, 2)\t1.0\n",
      "  (9, 9)\t1.0\n",
      "  (10, 2)\t1.0\n",
      "  (10, 9)\t1.0\n",
      "  (11, 2)\t1.0\n",
      "  (11, 9)\t1.0\n",
      "  (12, 0)\t1.0\n",
      "  :\t:\n",
      "  (76516, 9)\t1.0\n",
      "  (76517, 0)\t1.0\n",
      "  (76517, 9)\t1.0\n",
      "  (76518, 2)\t1.0\n",
      "  (76518, 9)\t1.0\n",
      "  (76519, 0)\t1.0\n",
      "  (76519, 10)\t1.0\n",
      "  (76520, 0)\t1.0\n",
      "  (76520, 10)\t1.0\n",
      "  (76521, 7)\t1.0\n",
      "  (76521, 10)\t1.0\n",
      "  (76522, 0)\t1.0\n",
      "  (76522, 10)\t1.0\n",
      "  (76523, 0)\t1.0\n",
      "  (76523, 10)\t1.0\n",
      "  (76524, 0)\t1.0\n",
      "  (76524, 10)\t1.0\n",
      "  (76525, 0)\t1.0\n",
      "  (76525, 10)\t1.0\n",
      "  (76526, 2)\t1.0\n",
      "  (76526, 9)\t1.0\n",
      "  (76527, 0)\t1.0\n",
      "  (76527, 10)\t1.0\n",
      "  (76528, 2)\t1.0\n",
      "  (76528, 9)\t1.0\n"
     ]
    }
   ],
   "source": [
    "from sklearn.compose import ColumnTransformer\n",
    "from sklearn.preprocessing import OneHotEncoder\n",
    "\n",
    "\n",
    "# Define the categorical columns\n",
    "# CATEGORICAL_COLS = ['ProductCategory', 'ChannelId', 'PricingStrategy', 'PaymentWay',]\n",
    "CATEGORICAL_COLS = ['ProductCategory', 'PaymentWay',]\n",
    "\n",
    "# Define preprocessor\n",
    "# preprocessor = ColumnTransformer(\n",
    "#     transformers=[\n",
    "#         ('one-hot', OneHotEncoder(handle_unknown='ignore',), CATEGORICAL_COLS),\n",
    "#     ]\n",
    "# )\n",
    "\n",
    "# Define One-Hot Encoder\n",
    "OH_encoder = OneHotEncoder(handle_unknown='ignore')\n",
    "\n",
    "# Apply encoder to the ProductCategory column\n",
    "# OH_cols_train = pd.DataFrame(OH_encoder.fit_transform(X_train[CATEGORICAL_COLS]))\n",
    "OH_cols_train = OH_encoder.fit_transform(X_train[CATEGORICAL_COLS])\n",
    "print(OH_cols_train)\n"
   ]
  },
  {
   "cell_type": "code",
   "execution_count": 247,
   "metadata": {},
   "outputs": [
    {
     "ename": "ValueError",
     "evalue": "A given column is not a column of the dataframe",
     "output_type": "error",
     "traceback": [
      "\u001b[0;31m---------------------------------------------------------------------------\u001b[0m",
      "\u001b[0;31mKeyError\u001b[0m                                  Traceback (most recent call last)",
      "File \u001b[0;32m/opt/homebrew/lib/python3.11/site-packages/pandas/core/indexes/base.py:3652\u001b[0m, in \u001b[0;36mIndex.get_loc\u001b[0;34m(self, key)\u001b[0m\n\u001b[1;32m   3651\u001b[0m \u001b[39mtry\u001b[39;00m:\n\u001b[0;32m-> 3652\u001b[0m     \u001b[39mreturn\u001b[39;00m \u001b[39mself\u001b[39;49m\u001b[39m.\u001b[39;49m_engine\u001b[39m.\u001b[39;49mget_loc(casted_key)\n\u001b[1;32m   3653\u001b[0m \u001b[39mexcept\u001b[39;00m \u001b[39mKeyError\u001b[39;00m \u001b[39mas\u001b[39;00m err:\n",
      "File \u001b[0;32m/opt/homebrew/lib/python3.11/site-packages/pandas/_libs/index.pyx:147\u001b[0m, in \u001b[0;36mpandas._libs.index.IndexEngine.get_loc\u001b[0;34m()\u001b[0m\n",
      "File \u001b[0;32m/opt/homebrew/lib/python3.11/site-packages/pandas/_libs/index.pyx:176\u001b[0m, in \u001b[0;36mpandas._libs.index.IndexEngine.get_loc\u001b[0;34m()\u001b[0m\n",
      "File \u001b[0;32mpandas/_libs/hashtable_class_helper.pxi:7080\u001b[0m, in \u001b[0;36mpandas._libs.hashtable.PyObjectHashTable.get_item\u001b[0;34m()\u001b[0m\n",
      "File \u001b[0;32mpandas/_libs/hashtable_class_helper.pxi:7088\u001b[0m, in \u001b[0;36mpandas._libs.hashtable.PyObjectHashTable.get_item\u001b[0;34m()\u001b[0m\n",
      "\u001b[0;31mKeyError\u001b[0m: 'ProductCategory'",
      "\nThe above exception was the direct cause of the following exception:\n",
      "\u001b[0;31mKeyError\u001b[0m                                  Traceback (most recent call last)",
      "File \u001b[0;32m/opt/homebrew/lib/python3.11/site-packages/sklearn/utils/__init__.py:448\u001b[0m, in \u001b[0;36m_get_column_indices\u001b[0;34m(X, key)\u001b[0m\n\u001b[1;32m    447\u001b[0m \u001b[39mfor\u001b[39;00m col \u001b[39min\u001b[39;00m columns:\n\u001b[0;32m--> 448\u001b[0m     col_idx \u001b[39m=\u001b[39m all_columns\u001b[39m.\u001b[39;49mget_loc(col)\n\u001b[1;32m    449\u001b[0m     \u001b[39mif\u001b[39;00m \u001b[39mnot\u001b[39;00m \u001b[39misinstance\u001b[39m(col_idx, numbers\u001b[39m.\u001b[39mIntegral):\n",
      "File \u001b[0;32m/opt/homebrew/lib/python3.11/site-packages/pandas/core/indexes/base.py:3654\u001b[0m, in \u001b[0;36mIndex.get_loc\u001b[0;34m(self, key)\u001b[0m\n\u001b[1;32m   3653\u001b[0m \u001b[39mexcept\u001b[39;00m \u001b[39mKeyError\u001b[39;00m \u001b[39mas\u001b[39;00m err:\n\u001b[0;32m-> 3654\u001b[0m     \u001b[39mraise\u001b[39;00m \u001b[39mKeyError\u001b[39;00m(key) \u001b[39mfrom\u001b[39;00m \u001b[39merr\u001b[39;00m\n\u001b[1;32m   3655\u001b[0m \u001b[39mexcept\u001b[39;00m \u001b[39mTypeError\u001b[39;00m:\n\u001b[1;32m   3656\u001b[0m     \u001b[39m# If we have a listlike key, _check_indexing_error will raise\u001b[39;00m\n\u001b[1;32m   3657\u001b[0m     \u001b[39m#  InvalidIndexError. Otherwise we fall through and re-raise\u001b[39;00m\n\u001b[1;32m   3658\u001b[0m     \u001b[39m#  the TypeError.\u001b[39;00m\n",
      "\u001b[0;31mKeyError\u001b[0m: 'ProductCategory'",
      "\nThe above exception was the direct cause of the following exception:\n",
      "\u001b[0;31mValueError\u001b[0m                                Traceback (most recent call last)",
      "Cell \u001b[0;32mIn[247], line 1\u001b[0m\n\u001b[0;32m----> 1\u001b[0m preprocessor\u001b[39m.\u001b[39;49mfit_transform(X)\n",
      "File \u001b[0;32m/opt/homebrew/lib/python3.11/site-packages/sklearn/utils/_set_output.py:140\u001b[0m, in \u001b[0;36m_wrap_method_output.<locals>.wrapped\u001b[0;34m(self, X, *args, **kwargs)\u001b[0m\n\u001b[1;32m    138\u001b[0m \u001b[39m@wraps\u001b[39m(f)\n\u001b[1;32m    139\u001b[0m \u001b[39mdef\u001b[39;00m \u001b[39mwrapped\u001b[39m(\u001b[39mself\u001b[39m, X, \u001b[39m*\u001b[39margs, \u001b[39m*\u001b[39m\u001b[39m*\u001b[39mkwargs):\n\u001b[0;32m--> 140\u001b[0m     data_to_wrap \u001b[39m=\u001b[39m f(\u001b[39mself\u001b[39;49m, X, \u001b[39m*\u001b[39;49margs, \u001b[39m*\u001b[39;49m\u001b[39m*\u001b[39;49mkwargs)\n\u001b[1;32m    141\u001b[0m     \u001b[39mif\u001b[39;00m \u001b[39misinstance\u001b[39m(data_to_wrap, \u001b[39mtuple\u001b[39m):\n\u001b[1;32m    142\u001b[0m         \u001b[39m# only wrap the first output for cross decomposition\u001b[39;00m\n\u001b[1;32m    143\u001b[0m         \u001b[39mreturn\u001b[39;00m (\n\u001b[1;32m    144\u001b[0m             _wrap_data_with_container(method, data_to_wrap[\u001b[39m0\u001b[39m], X, \u001b[39mself\u001b[39m),\n\u001b[1;32m    145\u001b[0m             \u001b[39m*\u001b[39mdata_to_wrap[\u001b[39m1\u001b[39m:],\n\u001b[1;32m    146\u001b[0m         )\n",
      "File \u001b[0;32m/opt/homebrew/lib/python3.11/site-packages/sklearn/compose/_column_transformer.py:724\u001b[0m, in \u001b[0;36mColumnTransformer.fit_transform\u001b[0;34m(self, X, y)\u001b[0m\n\u001b[1;32m    722\u001b[0m \u001b[39mself\u001b[39m\u001b[39m.\u001b[39m_check_n_features(X, reset\u001b[39m=\u001b[39m\u001b[39mTrue\u001b[39;00m)\n\u001b[1;32m    723\u001b[0m \u001b[39mself\u001b[39m\u001b[39m.\u001b[39m_validate_transformers()\n\u001b[0;32m--> 724\u001b[0m \u001b[39mself\u001b[39;49m\u001b[39m.\u001b[39;49m_validate_column_callables(X)\n\u001b[1;32m    725\u001b[0m \u001b[39mself\u001b[39m\u001b[39m.\u001b[39m_validate_remainder(X)\n\u001b[1;32m    727\u001b[0m result \u001b[39m=\u001b[39m \u001b[39mself\u001b[39m\u001b[39m.\u001b[39m_fit_transform(X, y, _fit_transform_one)\n",
      "File \u001b[0;32m/opt/homebrew/lib/python3.11/site-packages/sklearn/compose/_column_transformer.py:426\u001b[0m, in \u001b[0;36mColumnTransformer._validate_column_callables\u001b[0;34m(self, X)\u001b[0m\n\u001b[1;32m    424\u001b[0m         columns \u001b[39m=\u001b[39m columns(X)\n\u001b[1;32m    425\u001b[0m     all_columns\u001b[39m.\u001b[39mappend(columns)\n\u001b[0;32m--> 426\u001b[0m     transformer_to_input_indices[name] \u001b[39m=\u001b[39m _get_column_indices(X, columns)\n\u001b[1;32m    428\u001b[0m \u001b[39mself\u001b[39m\u001b[39m.\u001b[39m_columns \u001b[39m=\u001b[39m all_columns\n\u001b[1;32m    429\u001b[0m \u001b[39mself\u001b[39m\u001b[39m.\u001b[39m_transformer_to_input_indices \u001b[39m=\u001b[39m transformer_to_input_indices\n",
      "File \u001b[0;32m/opt/homebrew/lib/python3.11/site-packages/sklearn/utils/__init__.py:456\u001b[0m, in \u001b[0;36m_get_column_indices\u001b[0;34m(X, key)\u001b[0m\n\u001b[1;32m    453\u001b[0m             column_indices\u001b[39m.\u001b[39mappend(col_idx)\n\u001b[1;32m    455\u001b[0m     \u001b[39mexcept\u001b[39;00m \u001b[39mKeyError\u001b[39;00m \u001b[39mas\u001b[39;00m e:\n\u001b[0;32m--> 456\u001b[0m         \u001b[39mraise\u001b[39;00m \u001b[39mValueError\u001b[39;00m(\u001b[39m\"\u001b[39m\u001b[39mA given column is not a column of the dataframe\u001b[39m\u001b[39m\"\u001b[39m) \u001b[39mfrom\u001b[39;00m \u001b[39me\u001b[39;00m\n\u001b[1;32m    458\u001b[0m     \u001b[39mreturn\u001b[39;00m column_indices\n\u001b[1;32m    459\u001b[0m \u001b[39melse\u001b[39;00m:\n",
      "\u001b[0;31mValueError\u001b[0m: A given column is not a column of the dataframe"
     ]
    }
   ],
   "source": [
    "# preprocessor.fit_transform(X)"
   ]
  },
  {
   "attachments": {},
   "cell_type": "markdown",
   "metadata": {},
   "source": [
    "# Model\n",
    "\n",
    "**TODO**\n",
    "\n",
    "Define the model"
   ]
  },
  {
   "cell_type": "code",
   "execution_count": 360,
   "metadata": {},
   "outputs": [],
   "source": [
    "from sklearn.ensemble import RandomForestClassifier\n",
    "\n",
    "# Decision tree as first model\n",
    "model = RandomForestClassifier(n_estimators=300, max_depth=15, random_state = 0)"
   ]
  },
  {
   "attachments": {},
   "cell_type": "markdown",
   "metadata": {},
   "source": [
    "## Pipeline\n",
    "\n",
    "**TODO**\n",
    "\n",
    "Define the pipeline"
   ]
  },
  {
   "cell_type": "code",
   "execution_count": 329,
   "metadata": {},
   "outputs": [],
   "source": [
    "from imblearn.pipeline import Pipeline\n",
    "from imblearn.over_sampling import SMOTE\n",
    "from sklearn.preprocessing import StandardScaler\n",
    "\n",
    "pipeline = Pipeline([\n",
    "    # ('preprocessor', preprocessor),\n",
    "    ('smote', SMOTE(random_state=0)),\n",
    "    # ('scale', StandardScaler(with_mean=False)),\n",
    "    ('model', model),\n",
    "])"
   ]
  },
  {
   "cell_type": "code",
   "execution_count": 358,
   "metadata": {},
   "outputs": [
    {
     "data": {
      "text/html": [
       "<style>#sk-container-id-25 {color: black;background-color: white;}#sk-container-id-25 pre{padding: 0;}#sk-container-id-25 div.sk-toggleable {background-color: white;}#sk-container-id-25 label.sk-toggleable__label {cursor: pointer;display: block;width: 100%;margin-bottom: 0;padding: 0.3em;box-sizing: border-box;text-align: center;}#sk-container-id-25 label.sk-toggleable__label-arrow:before {content: \"▸\";float: left;margin-right: 0.25em;color: #696969;}#sk-container-id-25 label.sk-toggleable__label-arrow:hover:before {color: black;}#sk-container-id-25 div.sk-estimator:hover label.sk-toggleable__label-arrow:before {color: black;}#sk-container-id-25 div.sk-toggleable__content {max-height: 0;max-width: 0;overflow: hidden;text-align: left;background-color: #f0f8ff;}#sk-container-id-25 div.sk-toggleable__content pre {margin: 0.2em;color: black;border-radius: 0.25em;background-color: #f0f8ff;}#sk-container-id-25 input.sk-toggleable__control:checked~div.sk-toggleable__content {max-height: 200px;max-width: 100%;overflow: auto;}#sk-container-id-25 input.sk-toggleable__control:checked~label.sk-toggleable__label-arrow:before {content: \"▾\";}#sk-container-id-25 div.sk-estimator input.sk-toggleable__control:checked~label.sk-toggleable__label {background-color: #d4ebff;}#sk-container-id-25 div.sk-label input.sk-toggleable__control:checked~label.sk-toggleable__label {background-color: #d4ebff;}#sk-container-id-25 input.sk-hidden--visually {border: 0;clip: rect(1px 1px 1px 1px);clip: rect(1px, 1px, 1px, 1px);height: 1px;margin: -1px;overflow: hidden;padding: 0;position: absolute;width: 1px;}#sk-container-id-25 div.sk-estimator {font-family: monospace;background-color: #f0f8ff;border: 1px dotted black;border-radius: 0.25em;box-sizing: border-box;margin-bottom: 0.5em;}#sk-container-id-25 div.sk-estimator:hover {background-color: #d4ebff;}#sk-container-id-25 div.sk-parallel-item::after {content: \"\";width: 100%;border-bottom: 1px solid gray;flex-grow: 1;}#sk-container-id-25 div.sk-label:hover label.sk-toggleable__label {background-color: #d4ebff;}#sk-container-id-25 div.sk-serial::before {content: \"\";position: absolute;border-left: 1px solid gray;box-sizing: border-box;top: 0;bottom: 0;left: 50%;z-index: 0;}#sk-container-id-25 div.sk-serial {display: flex;flex-direction: column;align-items: center;background-color: white;padding-right: 0.2em;padding-left: 0.2em;position: relative;}#sk-container-id-25 div.sk-item {position: relative;z-index: 1;}#sk-container-id-25 div.sk-parallel {display: flex;align-items: stretch;justify-content: center;background-color: white;position: relative;}#sk-container-id-25 div.sk-item::before, #sk-container-id-25 div.sk-parallel-item::before {content: \"\";position: absolute;border-left: 1px solid gray;box-sizing: border-box;top: 0;bottom: 0;left: 50%;z-index: -1;}#sk-container-id-25 div.sk-parallel-item {display: flex;flex-direction: column;z-index: 1;position: relative;background-color: white;}#sk-container-id-25 div.sk-parallel-item:first-child::after {align-self: flex-end;width: 50%;}#sk-container-id-25 div.sk-parallel-item:last-child::after {align-self: flex-start;width: 50%;}#sk-container-id-25 div.sk-parallel-item:only-child::after {width: 0;}#sk-container-id-25 div.sk-dashed-wrapped {border: 1px dashed gray;margin: 0 0.4em 0.5em 0.4em;box-sizing: border-box;padding-bottom: 0.4em;background-color: white;}#sk-container-id-25 div.sk-label label {font-family: monospace;font-weight: bold;display: inline-block;line-height: 1.2em;}#sk-container-id-25 div.sk-label-container {text-align: center;}#sk-container-id-25 div.sk-container {/* jupyter's `normalize.less` sets `[hidden] { display: none; }` but bootstrap.min.css set `[hidden] { display: none !important; }` so we also need the `!important` here to be able to override the default hidden behavior on the sphinx rendered scikit-learn.org. See: https://github.com/scikit-learn/scikit-learn/issues/21755 */display: inline-block !important;position: relative;}#sk-container-id-25 div.sk-text-repr-fallback {display: none;}</style><div id=\"sk-container-id-25\" class=\"sk-top-container\"><div class=\"sk-text-repr-fallback\"><pre>RandomForestClassifier(max_depth=15, n_estimators=300, random_state=0)</pre><b>In a Jupyter environment, please rerun this cell to show the HTML representation or trust the notebook. <br />On GitHub, the HTML representation is unable to render, please try loading this page with nbviewer.org.</b></div><div class=\"sk-container\" hidden><div class=\"sk-item\"><div class=\"sk-estimator sk-toggleable\"><input class=\"sk-toggleable__control sk-hidden--visually\" id=\"sk-estimator-id-134\" type=\"checkbox\" checked><label for=\"sk-estimator-id-134\" class=\"sk-toggleable__label sk-toggleable__label-arrow\">RandomForestClassifier</label><div class=\"sk-toggleable__content\"><pre>RandomForestClassifier(max_depth=15, n_estimators=300, random_state=0)</pre></div></div></div></div></div>"
      ],
      "text/plain": [
       "RandomForestClassifier(max_depth=15, n_estimators=300, random_state=0)"
      ]
     },
     "execution_count": 358,
     "metadata": {},
     "output_type": "execute_result"
    }
   ],
   "source": [
    "model.fit(X_train, y_train)"
   ]
  },
  {
   "cell_type": "code",
   "execution_count": 331,
   "metadata": {},
   "outputs": [],
   "source": [
    "from sklearn.model_selection import cross_val_score\n",
    "\n",
    "# cross_val_score(pipeline, X, y, cv=5)"
   ]
  },
  {
   "cell_type": "code",
   "execution_count": 359,
   "metadata": {},
   "outputs": [
    {
     "name": "stdout",
     "output_type": "stream",
     "text": [
      "0.7945205479452054\n"
     ]
    }
   ],
   "source": [
    "from sklearn.metrics import f1_score\n",
    "\n",
    "preds = model.predict(X_test)\n",
    "\n",
    "print(f1_score(y_test, preds))"
   ]
  },
  {
   "attachments": {},
   "cell_type": "markdown",
   "metadata": {},
   "source": [
    "# Predictions\n",
    "\n",
    "**TODO**\n",
    "\n",
    "We will make the prediction with our model"
   ]
  },
  {
   "cell_type": "code",
   "execution_count": 286,
   "metadata": {},
   "outputs": [
    {
     "data": {
      "text/html": [
       "<div>\n",
       "<style scoped>\n",
       "    .dataframe tbody tr th:only-of-type {\n",
       "        vertical-align: middle;\n",
       "    }\n",
       "\n",
       "    .dataframe tbody tr th {\n",
       "        vertical-align: top;\n",
       "    }\n",
       "\n",
       "    .dataframe thead th {\n",
       "        text-align: right;\n",
       "    }\n",
       "</style>\n",
       "<table border=\"1\" class=\"dataframe\">\n",
       "  <thead>\n",
       "    <tr style=\"text-align: right;\">\n",
       "      <th></th>\n",
       "      <th>ProductCategory</th>\n",
       "      <th>PricingStrategy</th>\n",
       "      <th>PaymentWay</th>\n",
       "      <th>TransactionWeekDay</th>\n",
       "      <th>TransactionMonth</th>\n",
       "    </tr>\n",
       "  </thead>\n",
       "  <tbody>\n",
       "    <tr>\n",
       "      <th>0</th>\n",
       "      <td>airtime</td>\n",
       "      <td>4</td>\n",
       "      <td>debit</td>\n",
       "      <td>2</td>\n",
       "      <td>2</td>\n",
       "    </tr>\n",
       "    <tr>\n",
       "      <th>1</th>\n",
       "      <td>financial_services</td>\n",
       "      <td>2</td>\n",
       "      <td>debit</td>\n",
       "      <td>2</td>\n",
       "      <td>2</td>\n",
       "    </tr>\n",
       "    <tr>\n",
       "      <th>2</th>\n",
       "      <td>financial_services</td>\n",
       "      <td>2</td>\n",
       "      <td>credit</td>\n",
       "      <td>2</td>\n",
       "      <td>2</td>\n",
       "    </tr>\n",
       "    <tr>\n",
       "      <th>3</th>\n",
       "      <td>airtime</td>\n",
       "      <td>4</td>\n",
       "      <td>debit</td>\n",
       "      <td>2</td>\n",
       "      <td>2</td>\n",
       "    </tr>\n",
       "    <tr>\n",
       "      <th>4</th>\n",
       "      <td>financial_services</td>\n",
       "      <td>2</td>\n",
       "      <td>credit</td>\n",
       "      <td>2</td>\n",
       "      <td>2</td>\n",
       "    </tr>\n",
       "  </tbody>\n",
       "</table>\n",
       "</div>"
      ],
      "text/plain": [
       "      ProductCategory  PricingStrategy PaymentWay  TransactionWeekDay   \n",
       "0             airtime                4      debit                   2  \\\n",
       "1  financial_services                2      debit                   2   \n",
       "2  financial_services                2     credit                   2   \n",
       "3             airtime                4      debit                   2   \n",
       "4  financial_services                2     credit                   2   \n",
       "\n",
       "   TransactionMonth  \n",
       "0                 2  \n",
       "1                 2  \n",
       "2                 2  \n",
       "3                 2  \n",
       "4                 2  "
      ]
     },
     "execution_count": 286,
     "metadata": {},
     "output_type": "execute_result"
    }
   ],
   "source": [
    "# Path to the test data\n",
    "test_data_path = './data/test.csv'\n",
    "\n",
    "# Load test data\n",
    "test_data = pd.read_csv(test_data_path)\n",
    "\n",
    "# Get the target\n",
    "X_valid = prepare_dataset(test_data.copy())\n",
    "\n",
    "X_valid.head()"
   ]
  },
  {
   "cell_type": "code",
   "execution_count": 287,
   "metadata": {},
   "outputs": [
    {
     "data": {
      "text/plain": [
       "0    0\n",
       "1    1\n",
       "2    0\n",
       "3    0\n",
       "4    0\n",
       "dtype: int64"
      ]
     },
     "execution_count": 287,
     "metadata": {},
     "output_type": "execute_result"
    }
   ],
   "source": [
    "from sklearn.metrics import mean_absolute_error\n",
    "\n",
    "pred = pd.Series(\n",
    "    pipeline.predict(X_valid)\n",
    ")\n",
    "\n",
    "pred.head()\n"
   ]
  },
  {
   "cell_type": "code",
   "execution_count": 288,
   "metadata": {},
   "outputs": [],
   "source": [
    "sample_submission_path = './data/sample_submission.csv'\n",
    "\n",
    "sample_submission =  pd.read_csv(sample_submission_path)\n",
    "\n",
    "sample_submission['FraudResult'] = pred\n",
    "\n",
    "sample_submission.to_csv('./data/my_submission.csv', index=False)"
   ]
  },
  {
   "cell_type": "code",
   "execution_count": null,
   "metadata": {},
   "outputs": [],
   "source": []
  }
 ],
 "metadata": {
  "kernelspec": {
   "display_name": "Python 3",
   "language": "python",
   "name": "python3"
  },
  "language_info": {
   "codemirror_mode": {
    "name": "ipython",
    "version": 3
   },
   "file_extension": ".py",
   "mimetype": "text/x-python",
   "name": "python",
   "nbconvert_exporter": "python",
   "pygments_lexer": "ipython3",
   "version": "3.11.3"
  },
  "orig_nbformat": 4
 },
 "nbformat": 4,
 "nbformat_minor": 2
}
